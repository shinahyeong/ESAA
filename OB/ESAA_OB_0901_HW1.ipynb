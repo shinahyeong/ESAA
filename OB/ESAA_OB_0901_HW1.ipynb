{
  "nbformat": 4,
  "nbformat_minor": 0,
  "metadata": {
    "colab": {
      "provenance": []
    },
    "kernelspec": {
      "name": "python3",
      "display_name": "Python 3"
    },
    "language_info": {
      "name": "python"
    }
  },
  "cells": [
    {
      "cell_type": "markdown",
      "source": [
        "##핸즈온머신러닝\n",
        "###CH04. 모델 훈련\n",
        "\n"
      ],
      "metadata": {
        "id": "lSE-v-omVcQp"
      }
    },
    {
      "cell_type": "markdown",
      "source": [
        "**4.1. 선형 회귀**\n",
        "\n",
        "(1) 선형 모델\n",
        "- 입력 특성의 가중치 합과 편향(절편)이라는 상수를 더하여 예측을 생성하는 모델\n",
        "- 벡터 형태로 더욱 간단하게 나타낼 수 있음 -> 파라미터와 특성 벡터의 곱셈의 형태로 나타냄\n",
        "- 선형 모델의 훈련\n",
        "  - 모델을 훈련 = 모델이 훈련 세트에 가장 잘 맞도록 모델 파라미터를 설정하는 것\n",
        "  - 모델을 훈련하기 전, 모델이 훈련 데이터에 얼마나 잘 맞는지 확인해야 함 -> RMSE가 최소화되는 theta를 찾아야 함(MSE가 최소화되는 theta 찾기)\n",
        "\n"
      ],
      "metadata": {
        "id": "T3US6wIeVvE8"
      }
    },
    {
      "cell_type": "markdown",
      "source": [
        "4.1.1. 정규방정식\n",
        "- 결과를 바로 얻을 수 있는 수학 공식으로, 비용함수를 최소화 하는 theta 값을 찾기 위한 해석적 방법\n",
        "- 정규방정식 활용 예시"
      ],
      "metadata": {
        "id": "Pku8TQs4R_G8"
      }
    },
    {
      "cell_type": "code",
      "source": [
        "import numpy as np\n",
        "\n",
        "X = 2*np.random.rand(100,1)\n",
        "y = 4+3*X+np.random.randn(100,1)"
      ],
      "metadata": {
        "id": "b50hRAD3SKwS"
      },
      "execution_count": 1,
      "outputs": []
    },
    {
      "cell_type": "code",
      "source": [
        "# theta 계산하기\n",
        "X_b = np.c_[np.ones((100,1)),X] # 모든 샘플에 x0=1을 추가합니다.\n",
        "theta_best = np.linalg.inv(X_b.T.dot(X_b)).dot(X_b.T).dot(y) # inv(): 역행렬 계산, dot(): 행렬의 곱셈 계산"
      ],
      "metadata": {
        "id": "HWLfS1GQSKzx"
      },
      "execution_count": 2,
      "outputs": []
    },
    {
      "cell_type": "code",
      "source": [
        "theta_best"
      ],
      "metadata": {
        "colab": {
          "base_uri": "https://localhost:8080/"
        },
        "id": "YrWTHwBqSK3F",
        "outputId": "c7f294a7-6bba-4cee-e5cf-1b5d7722669f"
      },
      "execution_count": 3,
      "outputs": [
        {
          "output_type": "execute_result",
          "data": {
            "text/plain": [
              "array([[4.14800287],\n",
              "       [2.92394532]])"
            ]
          },
          "metadata": {},
          "execution_count": 3
        }
      ]
    },
    {
      "cell_type": "markdown",
      "source": [
        "-> 비슷하게 나타나나 잡음 때문에 원래 함수의 파라미터인 4와 3을 정확히 재현해내지 못함"
      ],
      "metadata": {
        "id": "kMbY9-UYU43G"
      }
    },
    {
      "cell_type": "code",
      "source": [
        "X_new = np.array([[0],[2]])\n",
        "X_new_b = np.c_[np.ones((2,1)), X_new] # 모든 샘플에 x0=1을 추가합니다.\n",
        "y_predict = X_new_b.dot(theta_best)\n",
        "y_predict"
      ],
      "metadata": {
        "colab": {
          "base_uri": "https://localhost:8080/"
        },
        "id": "NSNq2MKYSK6-",
        "outputId": "7b2e808f-f76e-4a0c-8444-17fcbac40d9a"
      },
      "execution_count": 4,
      "outputs": [
        {
          "output_type": "execute_result",
          "data": {
            "text/plain": [
              "array([[4.14800287],\n",
              "       [9.99589351]])"
            ]
          },
          "metadata": {},
          "execution_count": 4
        }
      ]
    },
    {
      "cell_type": "code",
      "source": [
        "# 모델 예측을 그래프로 나타내기\n",
        "import matplotlib.pyplot as plt\n",
        "plt.plot(X_new, y_predict,\"r-\")\n",
        "plt.plot(X, y, \"b.\")\n",
        "plt.axis([0, 2, 0, 15])\n",
        "plt.show()"
      ],
      "metadata": {
        "colab": {
          "base_uri": "https://localhost:8080/",
          "height": 430
        },
        "id": "15d_T2BvSK_H",
        "outputId": "866f394e-976e-437b-a830-6b6da6163564"
      },
      "execution_count": 6,
      "outputs": [
        {
          "output_type": "display_data",
          "data": {
            "text/plain": [
              "<Figure size 640x480 with 1 Axes>"
            ],
            "image/png": "[encoded data removed]"
          },
          "metadata": {}
        }
      ]
    },
    {
      "cell_type": "code",
      "source": [
        "# 사이킷런에서 선형 회귀 수행하기\n",
        "from sklearn.linear_model import LinearRegression\n",
        "lin_reg = LinearRegression()\n",
        "lin_reg.fit(X,y)\n",
        "lin_reg.intercept_,lin_reg.coef_"
      ],
      "metadata": {
        "colab": {
          "base_uri": "https://localhost:8080/"
        },
        "id": "bk6aQDWJSLDC",
        "outputId": "dbc93056-c0c0-4022-fe2b-82604dc49c86"
      },
      "execution_count": 7,
      "outputs": [
        {
          "output_type": "execute_result",
          "data": {
            "text/plain": [
              "(array([4.14800287]), array([[2.92394532]]))"
            ]
          },
          "metadata": {},
          "execution_count": 7
        }
      ]
    },
    {
      "cell_type": "code",
      "source": [
        "lin_reg.predict(X_new)"
      ],
      "metadata": {
        "colab": {
          "base_uri": "https://localhost:8080/"
        },
        "id": "AKmYjK9uSLHF",
        "outputId": "21e5bada-71a0-4b51-843f-ad3ac9fff9fe"
      },
      "execution_count": 8,
      "outputs": [
        {
          "output_type": "execute_result",
          "data": {
            "text/plain": [
              "array([[4.14800287],\n",
              "       [9.99589351]])"
            ]
          },
          "metadata": {},
          "execution_count": 8
        }
      ]
    },
    {
      "cell_type": "code",
      "source": [
        "theta_best_svd, residuals, rank,s = np.linalg.lstsq(X_b, y, rcond=1e-6)  # scipy.linalg,lstsq(): 선형회귀를 수행해주는 함수\n",
        "theta_best_svd"
      ],
      "metadata": {
        "colab": {
          "base_uri": "https://localhost:8080/"
        },
        "id": "3HR0bBfTSLW2",
        "outputId": "323638bd-e810-4e77-99ec-ebbb0a74c89a"
      },
      "execution_count": 9,
      "outputs": [
        {
          "output_type": "execute_result",
          "data": {
            "text/plain": [
              "array([[4.14800287],\n",
              "       [2.92394532]])"
            ]
          },
          "metadata": {},
          "execution_count": 9
        }
      ]
    },
    {
      "cell_type": "code",
      "source": [
        "np.linalg.pinv(X_b).dot(y) # np.linalg.pinv(): 유사역행렬을 직접 구해주는 함수"
      ],
      "metadata": {
        "colab": {
          "base_uri": "https://localhost:8080/"
        },
        "id": "P4RCHjMhWzXf",
        "outputId": "02e34396-6fc9-4f35-df7a-0fb54f3c1188"
      },
      "execution_count": 10,
      "outputs": [
        {
          "output_type": "execute_result",
          "data": {
            "text/plain": [
              "array([[4.14800287],\n",
              "       [2.92394532]])"
            ]
          },
          "metadata": {},
          "execution_count": 10
        }
      ]
    },
    {
      "cell_type": "markdown",
      "source": [
        "유사역행렬 자체 = 특잇값 분해(SVD)의 표준 행렬 분해 기법을 사용하여 계산됨\n",
        "- 즉, 정규방적식을 계산하는 것 보다 SUM을 먼저 구하고 낮은 임계값보다 작은 모든 수를 0으로 변환한 뒤, 0이 아닌 값을 모두 역수로 치환하여 행렬을 전치하는 방식이 더욱 효율적임\n",
        "  - 정규 방정식의 경우 역행렬이 존재하지 않는다면 작동하지 않으나, 유사역행렬은 항상 작동하기 때문"
      ],
      "metadata": {
        "id": "AOzDJr9KXTu-"
      }
    },
    {
      "cell_type": "markdown",
      "source": [
        "4.1.2. 계산복잡도\n",
        "- 역행렬을 계산하는 경우 이를 구하는 계산 시간도 늘어나게 됨\n",
        "- 일반적으로 사이킷런 LinearRegression SVD 방법의 계산복잡도는 대략 $O(n^2)$정도임\n",
        "  - 즉 특성의 수가 n개 늘어나면 이에 대한 계산시간은 $n^2$이 됨\n",
        "  - 주의할 점은, 훈련 세트의 샘플 수에 대해서는 선형적으로 증가함\n",
        "- 정규방적식이나 다른 알고리즘으로 학습된 선형 회귀 모델은 사이킷런에 비하여 예측이 매우 빠름\n",
        "  - 예측 계산 복잡도가 샘플 수와 특성 수에 선형적으로 비례함\n",
        "  \n"
      ],
      "metadata": {
        "id": "h6fuk09bSL18"
      }
    },
    {
      "cell_type": "markdown",
      "source": [
        "4.2. 경사 하강법\n",
        "- 앞서 말했듯이, 특성이 매우 많고 훈련 샘플이 너무 많게 되면 메모리에 모두 담을 수 없고, 계산 복잡도가 올라가게 됨\n",
        "- 따라서 경사하강법을 이용하여 최적의 해법을 찾게 됨\n",
        "- 경사 하강법의 원리\n",
        "  - 바용 함수를 최소화하기 위해 반복하여 파라미터를 조정해나가는 방법\n",
        "  - 즉, 파라미터 벡터 theta에 대하여 비용 함수의 그래디언트를 계산하고, 이 그래디언트가 감소하는 방향으로 계산을 진행해나감 -> 그래디언트가 0이되면 최솟값에 도달했다고 간주\n",
        "- 경사 하강법에서 중요한 파라미터는 **스텝의 크기(학습률)**임\n",
        "  - 학습률이 너무 작으면 알고리즘에 수렴하기 위하여 반복을 많이 수행해야 하므로 시간이 오래걸림\n",
        "  - 따라서 적당한 학습률을 설정하는 것이 중요함\n",
        "- 경사 하강법의 문제점\n",
        "  - 경사 하강법은 초기 theta에 대해 무작위 초기화를 진행하기 때문에 이 theta 값에 따라 전역 최솟값이 아닌 지역 최솟값에 수렴할 가능성이 존재함\n",
        "    - 여기서 우리가 다루는 함수는 선형회귀이기 때문에 이러할 가능성은 존재하지 않음, 즉 함수가 볼록 함수로 형성되어 지역 최솟값이 존재하지 않음\n",
        "  - 비용함수의 특성 스케일에 따라 최솟값에 도달하는 시간이 달라짐\n",
        "    - 즉 비용 함수를 최소화하는 최적의 모델 파라미터 조합을 찾아야지만(적합한 모델 파라미터 공간을 찾아야지만) 빠른 시간 내에 최적의 결과를 도출할 수 있음\n",
        "    "
      ],
      "metadata": {
        "id": "rx5yhrl1SQSy"
      }
    },
    {
      "cell_type": "markdown",
      "source": [
        "4.2.1. 배치 경사 하강법\n",
        "- 경사 하강법을 구현하기 위해서는 각 모델ㄹ 파라미터 theta에 대해 비용함수의 그레디언트를 계산해야 함\n",
        "- 즉, 이 theta가 변경될 때 어느정도로 비용함수가 바뀌는지를 계산해야 하는 것임 -> 이를 **편도함수**라고 함\n",
        "- 편도 함수는 각각의 MSE(theta)를 구하는 방법으로, 각각의 theta에 대해 이를 미분하여 비용 함수의 편도함수를 구할 수 있음\n",
        "  - 하지만 이 방법은 굉장히 번거롭기 때문에 그레디언트벡터를 이용하여 비용함수의 편도함수를 한꺼번에 구할 수 있음!\n",
        "- 이렇게 구해진 그레디언트 벡털를 이용하여 원래의 theta에서 해당 그레디언트 벡터 만큼을 빼면서 과정을 진행함\n",
        "- 배치 경사 하강법의 예시"
      ],
      "metadata": {
        "id": "_CCudsJxSV74"
      }
    },
    {
      "cell_type": "code",
      "source": [
        "eta = 0.1 # 학습률\n",
        "n_iterations = 1000\n",
        "m = 100\n",
        "\n",
        "theta = np.random.randn(2,1) # 무작위 초기화\n",
        "\n",
        "for iteration in range(n_iterations):\n",
        "  gradients= 2/m*X_b.T.dot(X_b.dot(theta)-y)\n",
        "  theta = theta - eta*gradients"
      ],
      "metadata": {
        "id": "kuuv3jhvb3CH"
      },
      "execution_count": 11,
      "outputs": []
    },
    {
      "cell_type": "code",
      "source": [
        "theta"
      ],
      "metadata": {
        "colab": {
          "base_uri": "https://localhost:8080/"
        },
        "id": "YcEmgaLCcRAM",
        "outputId": "66836476-23b6-4bd7-dc8e-dfa3d22c851a"
      },
      "execution_count": 12,
      "outputs": [
        {
          "output_type": "execute_result",
          "data": {
            "text/plain": [
              "array([[4.14800287],\n",
              "       [2.92394532]])"
            ]
          },
          "metadata": {},
          "execution_count": 12
        }
      ]
    },
    {
      "cell_type": "markdown",
      "source": [
        "=> 이는 앞서 정규방적식으로 찾은 theta와 동일함을 확인 가능\n",
        "- 정리하면, 학습률이 너무 낮으면 알고리즘이 최적점에 도달하더라도 시간이 굉장히 오래걸리고, 학습률이 너무 높으면 알고리즘이 널뛰게 되면서 최적점에서 더욱 멀어져 발산할 수 있음 -> 즉 적절한 학습률을 찾는 것이 중요함!\n",
        "- 적절한 학습률을 찾는 방법\n",
        "- 적적한 학습률을 찾기 위해서는 그리드 탐색을 이용해야 함\n",
        "- 그리드 탐색에서는 적절한 반복 횟수를 설정하는 것이 중요한데, 그 이유는 반복 횟수를 너무 크게 설정하게 되면 모델이 수렴하는데 시간이 너무 오래걸리기 때문!\n",
        "- 적절한 반복 횟수를 설정하기 위해서는 반복 횟수를 먼저 아주 크게 지정한 뒤, 그레디언트 벡터가 허용오차보다 작아지면ㄴ 그 순간 알고리즘을 중지하는 방법을 사용하면 됨"
      ],
      "metadata": {
        "id": "ffCi5Qq6cVN3"
      }
    },
    {
      "cell_type": "markdown",
      "source": [
        "4.2.2. 확률적 경사 하강법\n",
        "- 앞서 말한 배치 경사 하강법은 매 스텝에서 전체 훈련 세트를 사용하여 그레디언트를 계산해야 하는 불편함이 존재함\n",
        "  - 즉, 훈련 세트가 너무 커지면 수행하는데에 시간이 오래걸리게 됨\n",
        "- 따라서 확률적 경사하강법을 이용하여 이러한 문제점을 해결함\n",
        "- 확률적 경사하강법: 매 스템에서 한 개의 샘플을 무작위로 선ㄴ택한 후 그 하나의 샘플에 대한 그레디언트를 계산하는 방법\n",
        "  - 매 반복에서 다뤄야 할 데이터가 매우 적기 때문에 한번에 하나의 샘플을 처리하게 되면 알고리즘을 더욱 빠르게 처리할 수 있음\n",
        "  - 또한 매우 큰 훈련 세트에서도 매 반복에서 하나의 샘플만 메모리에 존재하면 되기 때문에 구현 가능\n",
        "- 확률적 경사하강법의 단점\n",
        "  - 이름에서도 알 수 있듯 확률적 경사하강법은 확률을 이용하기 때문에 배치 경사 하강법에 비하여 훨씬 불안전함\n",
        "   - 비용함수가 최솟값에 다다를 때까지 안정적으로 감소하는 것이 아닌, 요동치며 감소하게 됨\n",
        "   - 하지만 이렇게 요동치며 감소하기 때문에 지역 최솟값에 빠질 확률이 적어지게 됨!\n",
        "   - 그래도 무작위성을 이용하기 때문에 결과적으로 전역 최솟값에 다다르지 못하는 경우도 종종 발생함 -> 이를 해결하기 위해 학습률을 점진적으로 감소시키는 방법을 활용함!\n",
        "- 확률적 경사 하강법의 예시"
      ],
      "metadata": {
        "id": "mJkwVVd9Saa2"
      }
    },
    {
      "cell_type": "code",
      "source": [
        "n_epochs = 50\n",
        "t0, t1 = 5, 50 # 학습 스케줄 하이퍼파라미터\n",
        "\n",
        "def learning_schedule(t):\n",
        "  return t0/(t+t1)\n",
        "\n",
        "theta = np.random.randn(2,1)  # 무작위 초기화\n",
        "\n",
        "for epoch in range(n_epochs): # epoch:반복을 의미\n",
        "  for i in range(m):\n",
        "    random_index = np.random.randint(m)\n",
        "    xi = X_b[random_index:random_index+1]\n",
        "    yi = y[random_index:random_index+1]\n",
        "    gradients = 2*xi.T.dot(xi.dot(theta) - yi)\n",
        "    eta = learning_schedule(epoch*m + i)\n",
        "    theta = theta - eta*gradients"
      ],
      "metadata": {
        "id": "MbagelX_exs_"
      },
      "execution_count": 14,
      "outputs": []
    },
    {
      "cell_type": "code",
      "source": [
        "theta"
      ],
      "metadata": {
        "colab": {
          "base_uri": "https://localhost:8080/"
        },
        "id": "54JGpwEqfvQg",
        "outputId": "43c96ef9-22af-4020-843c-5152274a9bb6"
      },
      "execution_count": 15,
      "outputs": [
        {
          "output_type": "execute_result",
          "data": {
            "text/plain": [
              "array([[4.16721004],\n",
              "       [2.94034284]])"
            ]
          },
          "metadata": {},
          "execution_count": 15
        }
      ]
    },
    {
      "cell_type": "markdown",
      "source": [
        "사이킷런에서는 이 방식을 제곱 오차 비용 함수를 최적화 하는 SGDRegressor 클래스를 이용함"
      ],
      "metadata": {
        "id": "AJ3YzoRUf19t"
      }
    },
    {
      "cell_type": "code",
      "source": [
        "from sklearn.linear_model import SGDRegressor\n",
        "sgd_reg = SGDRegressor(max_iter=1000, tol=1e-3, penalty=None, eta0=0.1)\n",
        "sgd_reg.fit(X, y.ravel())"
      ],
      "metadata": {
        "colab": {
          "base_uri": "https://localhost:8080/",
          "height": 80
        },
        "id": "YUQUCSVygDsH",
        "outputId": "d35248f9-31b0-4c57-a7d1-e8de2238dce2"
      },
      "execution_count": 16,
      "outputs": [
        {
          "output_type": "execute_result",
          "data": {
            "text/plain": [
              "SGDRegressor(eta0=0.1, penalty=None)"
            ],
            "text/html": [
              "<style>#sk-container-id-1 {\n",
              "  /* Definition of color scheme common for light and dark mode */\n",
              "  --sklearn-color-text: #000;\n",
              "  --sklearn-color-text-muted: #666;\n",
              "  --sklearn-color-line: gray;\n",
              "  /* Definition of color scheme for unfitted estimators */\n",
              "  --sklearn-color-unfitted-level-0: #fff5e6;\n",
              "  --sklearn-color-unfitted-level-1: #f6e4d2;\n",
              "  --sklearn-color-unfitted-level-2: #ffe0b3;\n",
              "  --sklearn-color-unfitted-level-3: chocolate;\n",
              "  /* Definition of color scheme for fitted estimators */\n",
              "  --sklearn-color-fitted-level-0: #f0f8ff;\n",
              "  --sklearn-color-fitted-level-1: #d4ebff;\n",
              "  --sklearn-color-fitted-level-2: #b3dbfd;\n",
              "  --sklearn-color-fitted-level-3: cornflowerblue;\n",
              "\n",
              "  /* Specific color for light theme */\n",
              "  --sklearn-color-text-on-default-background: var(--sg-text-color, var(--theme-code-foreground, var(--jp-content-font-color1, black)));\n",
              "  --sklearn-color-background: var(--sg-background-color, var(--theme-background, var(--jp-layout-color0, white)));\n",
              "  --sklearn-color-border-box: var(--sg-text-color, var(--theme-code-foreground, var(--jp-content-font-color1, black)));\n",
              "  --sklearn-color-icon: #696969;\n",
              "\n",
              "  @media (prefers-color-scheme: dark) {\n",
              "    /* Redefinition of color scheme for dark theme */\n",
              "    --sklearn-color-text-on-default-background: var(--sg-text-color, var(--theme-code-foreground, var(--jp-content-font-color1, white)));\n",
              "    --sklearn-color-background: var(--sg-background-color, var(--theme-background, var(--jp-layout-color0, #111)));\n",
              "    --sklearn-color-border-box: var(--sg-text-color, var(--theme-code-foreground, var(--jp-content-font-color1, white)));\n",
              "    --sklearn-color-icon: #878787;\n",
              "  }\n",
              "}\n",
              "\n",
              "#sk-container-id-1 {\n",
              "  color: var(--sklearn-color-text);\n",
              "}\n",
              "\n",
              "#sk-container-id-1 pre {\n",
              "  padding: 0;\n",
              "}\n",
              "\n",
              "#sk-container-id-1 input.sk-hidden--visually {\n",
              "  border: 0;\n",
              "  clip: rect(1px 1px 1px 1px);\n",
              "  clip: rect(1px, 1px, 1px, 1px);\n",
              "  height: 1px;\n",
              "  margin: -1px;\n",
              "  overflow: hidden;\n",
              "  padding: 0;\n",
              "  position: absolute;\n",
              "  width: 1px;\n",
              "}\n",
              "\n",
              "#sk-container-id-1 div.sk-dashed-wrapped {\n",
              "  border: 1px dashed var(--sklearn-color-line);\n",
              "  margin: 0 0.4em 0.5em 0.4em;\n",
              "  box-sizing: border-box;\n",
              "  padding-bottom: 0.4em;\n",
              "  background-color: var(--sklearn-color-background);\n",
              "}\n",
              "\n",
              "#sk-container-id-1 div.sk-container {\n",
              "  /* jupyter's `normalize.less` sets `[hidden] { display: none; }`\n",
              "     but bootstrap.min.css set `[hidden] { display: none !important; }`\n",
              "     so we also need the `!important` here to be able to override the\n",
              "     default hidden behavior on the sphinx rendered scikit-learn.org.\n",
              "     See: https://github.com/scikit-learn/scikit-learn/issues/21755 */\n",
              "  display: inline-block !important;\n",
              "  position: relative;\n",
              "}\n",
              "\n",
              "#sk-container-id-1 div.sk-text-repr-fallback {\n",
              "  display: none;\n",
              "}\n",
              "\n",
              "div.sk-parallel-item,\n",
              "div.sk-serial,\n",
              "div.sk-item {\n",
              "  /* draw centered vertical line to link estimators */\n",
              "  background-image: linear-gradient(var(--sklearn-color-text-on-default-background), var(--sklearn-color-text-on-default-background));\n",
              "  background-size: 2px 100%;\n",
              "  background-repeat: no-repeat;\n",
              "  background-position: center center;\n",
              "}\n",
              "\n",
              "/* Parallel-specific style estimator block */\n",
              "\n",
              "#sk-container-id-1 div.sk-parallel-item::after {\n",
              "  content: \"\";\n",
              "  width: 100%;\n",
              "  border-bottom: 2px solid var(--sklearn-color-text-on-default-background);\n",
              "  flex-grow: 1;\n",
              "}\n",
              "\n",
              "#sk-container-id-1 div.sk-parallel {\n",
              "  display: flex;\n",
              "  align-items: stretch;\n",
              "  justify-content: center;\n",
              "  background-color: var(--sklearn-color-background);\n",
              "  position: relative;\n",
              "}\n",
              "\n",
              "#sk-container-id-1 div.sk-parallel-item {\n",
              "  display: flex;\n",
              "  flex-direction: column;\n",
              "}\n",
              "\n",
              "#sk-container-id-1 div.sk-parallel-item:first-child::after {\n",
              "  align-self: flex-end;\n",
              "  width: 50%;\n",
              "}\n",
              "\n",
              "#sk-container-id-1 div.sk-parallel-item:last-child::after {\n",
              "  align-self: flex-start;\n",
              "  width: 50%;\n",
              "}\n",
              "\n",
              "#sk-container-id-1 div.sk-parallel-item:only-child::after {\n",
              "  width: 0;\n",
              "}\n",
              "\n",
              "/* Serial-specific style estimator block */\n",
              "\n",
              "#sk-container-id-1 div.sk-serial {\n",
              "  display: flex;\n",
              "  flex-direction: column;\n",
              "  align-items: center;\n",
              "  background-color: var(--sklearn-color-background);\n",
              "  padding-right: 1em;\n",
              "  padding-left: 1em;\n",
              "}\n",
              "\n",
              "\n",
              "/* Toggleable style: style used for estimator/Pipeline/ColumnTransformer box that is\n",
              "clickable and can be expanded/collapsed.\n",
              "- Pipeline and ColumnTransformer use this feature and define the default style\n",
              "- Estimators will overwrite some part of the style using the `sk-estimator` class\n",
              "*/\n",
              "\n",
              "/* Pipeline and ColumnTransformer style (default) */\n",
              "\n",
              "#sk-container-id-1 div.sk-toggleable {\n",
              "  /* Default theme specific background. It is overwritten whether we have a\n",
              "  specific estimator or a Pipeline/ColumnTransformer */\n",
              "  background-color: var(--sklearn-color-background);\n",
              "}\n",
              "\n",
              "/* Toggleable label */\n",
              "#sk-container-id-1 label.sk-toggleable__label {\n",
              "  cursor: pointer;\n",
              "  display: flex;\n",
              "  width: 100%;\n",
              "  margin-bottom: 0;\n",
              "  padding: 0.5em;\n",
              "  box-sizing: border-box;\n",
              "  text-align: center;\n",
              "  align-items: start;\n",
              "  justify-content: space-between;\n",
              "  gap: 0.5em;\n",
              "}\n",
              "\n",
              "#sk-container-id-1 label.sk-toggleable__label .caption {\n",
              "  font-size: 0.6rem;\n",
              "  font-weight: lighter;\n",
              "  color: var(--sklearn-color-text-muted);\n",
              "}\n",
              "\n",
              "#sk-container-id-1 label.sk-toggleable__label-arrow:before {\n",
              "  /* Arrow on the left of the label */\n",
              "  content: \"▸\";\n",
              "  float: left;\n",
              "  margin-right: 0.25em;\n",
              "  color: var(--sklearn-color-icon);\n",
              "}\n",
              "\n",
              "#sk-container-id-1 label.sk-toggleable__label-arrow:hover:before {\n",
              "  color: var(--sklearn-color-text);\n",
              "}\n",
              "\n",
              "/* Toggleable content - dropdown */\n",
              "\n",
              "#sk-container-id-1 div.sk-toggleable__content {\n",
              "  max-height: 0;\n",
              "  max-width: 0;\n",
              "  overflow: hidden;\n",
              "  text-align: left;\n",
              "  /* unfitted */\n",
              "  background-color: var(--sklearn-color-unfitted-level-0);\n",
              "}\n",
              "\n",
              "#sk-container-id-1 div.sk-toggleable__content.fitted {\n",
              "  /* fitted */\n",
              "  background-color: var(--sklearn-color-fitted-level-0);\n",
              "}\n",
              "\n",
              "#sk-container-id-1 div.sk-toggleable__content pre {\n",
              "  margin: 0.2em;\n",
              "  border-radius: 0.25em;\n",
              "  color: var(--sklearn-color-text);\n",
              "  /* unfitted */\n",
              "  background-color: var(--sklearn-color-unfitted-level-0);\n",
              "}\n",
              "\n",
              "#sk-container-id-1 div.sk-toggleable__content.fitted pre {\n",
              "  /* unfitted */\n",
              "  background-color: var(--sklearn-color-fitted-level-0);\n",
              "}\n",
              "\n",
              "#sk-container-id-1 input.sk-toggleable__control:checked~div.sk-toggleable__content {\n",
              "  /* Expand drop-down */\n",
              "  max-height: 200px;\n",
              "  max-width: 100%;\n",
              "  overflow: auto;\n",
              "}\n",
              "\n",
              "#sk-container-id-1 input.sk-toggleable__control:checked~label.sk-toggleable__label-arrow:before {\n",
              "  content: \"▾\";\n",
              "}\n",
              "\n",
              "/* Pipeline/ColumnTransformer-specific style */\n",
              "\n",
              "#sk-container-id-1 div.sk-label input.sk-toggleable__control:checked~label.sk-toggleable__label {\n",
              "  color: var(--sklearn-color-text);\n",
              "  background-color: var(--sklearn-color-unfitted-level-2);\n",
              "}\n",
              "\n",
              "#sk-container-id-1 div.sk-label.fitted input.sk-toggleable__control:checked~label.sk-toggleable__label {\n",
              "  background-color: var(--sklearn-color-fitted-level-2);\n",
              "}\n",
              "\n",
              "/* Estimator-specific style */\n",
              "\n",
              "/* Colorize estimator box */\n",
              "#sk-container-id-1 div.sk-estimator input.sk-toggleable__control:checked~label.sk-toggleable__label {\n",
              "  /* unfitted */\n",
              "  background-color: var(--sklearn-color-unfitted-level-2);\n",
              "}\n",
              "\n",
              "#sk-container-id-1 div.sk-estimator.fitted input.sk-toggleable__control:checked~label.sk-toggleable__label {\n",
              "  /* fitted */\n",
              "  background-color: var(--sklearn-color-fitted-level-2);\n",
              "}\n",
              "\n",
              "#sk-container-id-1 div.sk-label label.sk-toggleable__label,\n",
              "#sk-container-id-1 div.sk-label label {\n",
              "  /* The background is the default theme color */\n",
              "  color: var(--sklearn-color-text-on-default-background);\n",
              "}\n",
              "\n",
              "/* On hover, darken the color of the background */\n",
              "#sk-container-id-1 div.sk-label:hover label.sk-toggleable__label {\n",
              "  color: var(--sklearn-color-text);\n",
              "  background-color: var(--sklearn-color-unfitted-level-2);\n",
              "}\n",
              "\n",
              "/* Label box, darken color on hover, fitted */\n",
              "#sk-container-id-1 div.sk-label.fitted:hover label.sk-toggleable__label.fitted {\n",
              "  color: var(--sklearn-color-text);\n",
              "  background-color: var(--sklearn-color-fitted-level-2);\n",
              "}\n",
              "\n",
              "/* Estimator label */\n",
              "\n",
              "#sk-container-id-1 div.sk-label label {\n",
              "  font-family: monospace;\n",
              "  font-weight: bold;\n",
              "  display: inline-block;\n",
              "  line-height: 1.2em;\n",
              "}\n",
              "\n",
              "#sk-container-id-1 div.sk-label-container {\n",
              "  text-align: center;\n",
              "}\n",
              "\n",
              "/* Estimator-specific */\n",
              "#sk-container-id-1 div.sk-estimator {\n",
              "  font-family: monospace;\n",
              "  border: 1px dotted var(--sklearn-color-border-box);\n",
              "  border-radius: 0.25em;\n",
              "  box-sizing: border-box;\n",
              "  margin-bottom: 0.5em;\n",
              "  /* unfitted */\n",
              "  background-color: var(--sklearn-color-unfitted-level-0);\n",
              "}\n",
              "\n",
              "#sk-container-id-1 div.sk-estimator.fitted {\n",
              "  /* fitted */\n",
              "  background-color: var(--sklearn-color-fitted-level-0);\n",
              "}\n",
              "\n",
              "/* on hover */\n",
              "#sk-container-id-1 div.sk-estimator:hover {\n",
              "  /* unfitted */\n",
              "  background-color: var(--sklearn-color-unfitted-level-2);\n",
              "}\n",
              "\n",
              "#sk-container-id-1 div.sk-estimator.fitted:hover {\n",
              "  /* fitted */\n",
              "  background-color: var(--sklearn-color-fitted-level-2);\n",
              "}\n",
              "\n",
              "/* Specification for estimator info (e.g. \"i\" and \"?\") */\n",
              "\n",
              "/* Common style for \"i\" and \"?\" */\n",
              "\n",
              ".sk-estimator-doc-link,\n",
              "a:link.sk-estimator-doc-link,\n",
              "a:visited.sk-estimator-doc-link {\n",
              "  float: right;\n",
              "  font-size: smaller;\n",
              "  line-height: 1em;\n",
              "  font-family: monospace;\n",
              "  background-color: var(--sklearn-color-background);\n",
              "  border-radius: 1em;\n",
              "  height: 1em;\n",
              "  width: 1em;\n",
              "  text-decoration: none !important;\n",
              "  margin-left: 0.5em;\n",
              "  text-align: center;\n",
              "  /* unfitted */\n",
              "  border: var(--sklearn-color-unfitted-level-1) 1pt solid;\n",
              "  color: var(--sklearn-color-unfitted-level-1);\n",
              "}\n",
              "\n",
              ".sk-estimator-doc-link.fitted,\n",
              "a:link.sk-estimator-doc-link.fitted,\n",
              "a:visited.sk-estimator-doc-link.fitted {\n",
              "  /* fitted */\n",
              "  border: var(--sklearn-color-fitted-level-1) 1pt solid;\n",
              "  color: var(--sklearn-color-fitted-level-1);\n",
              "}\n",
              "\n",
              "/* On hover */\n",
              "div.sk-estimator:hover .sk-estimator-doc-link:hover,\n",
              ".sk-estimator-doc-link:hover,\n",
              "div.sk-label-container:hover .sk-estimator-doc-link:hover,\n",
              ".sk-estimator-doc-link:hover {\n",
              "  /* unfitted */\n",
              "  background-color: var(--sklearn-color-unfitted-level-3);\n",
              "  color: var(--sklearn-color-background);\n",
              "  text-decoration: none;\n",
              "}\n",
              "\n",
              "div.sk-estimator.fitted:hover .sk-estimator-doc-link.fitted:hover,\n",
              ".sk-estimator-doc-link.fitted:hover,\n",
              "div.sk-label-container:hover .sk-estimator-doc-link.fitted:hover,\n",
              ".sk-estimator-doc-link.fitted:hover {\n",
              "  /* fitted */\n",
              "  background-color: var(--sklearn-color-fitted-level-3);\n",
              "  color: var(--sklearn-color-background);\n",
              "  text-decoration: none;\n",
              "}\n",
              "\n",
              "/* Span, style for the box shown on hovering the info icon */\n",
              ".sk-estimator-doc-link span {\n",
              "  display: none;\n",
              "  z-index: 9999;\n",
              "  position: relative;\n",
              "  font-weight: normal;\n",
              "  right: .2ex;\n",
              "  padding: .5ex;\n",
              "  margin: .5ex;\n",
              "  width: min-content;\n",
              "  min-width: 20ex;\n",
              "  max-width: 50ex;\n",
              "  color: var(--sklearn-color-text);\n",
              "  box-shadow: 2pt 2pt 4pt #999;\n",
              "  /* unfitted */\n",
              "  background: var(--sklearn-color-unfitted-level-0);\n",
              "  border: .5pt solid var(--sklearn-color-unfitted-level-3);\n",
              "}\n",
              "\n",
              ".sk-estimator-doc-link.fitted span {\n",
              "  /* fitted */\n",
              "  background: var(--sklearn-color-fitted-level-0);\n",
              "  border: var(--sklearn-color-fitted-level-3);\n",
              "}\n",
              "\n",
              ".sk-estimator-doc-link:hover span {\n",
              "  display: block;\n",
              "}\n",
              "\n",
              "/* \"?\"-specific style due to the `<a>` HTML tag */\n",
              "\n",
              "#sk-container-id-1 a.estimator_doc_link {\n",
              "  float: right;\n",
              "  font-size: 1rem;\n",
              "  line-height: 1em;\n",
              "  font-family: monospace;\n",
              "  background-color: var(--sklearn-color-background);\n",
              "  border-radius: 1rem;\n",
              "  height: 1rem;\n",
              "  width: 1rem;\n",
              "  text-decoration: none;\n",
              "  /* unfitted */\n",
              "  color: var(--sklearn-color-unfitted-level-1);\n",
              "  border: var(--sklearn-color-unfitted-level-1) 1pt solid;\n",
              "}\n",
              "\n",
              "#sk-container-id-1 a.estimator_doc_link.fitted {\n",
              "  /* fitted */\n",
              "  border: var(--sklearn-color-fitted-level-1) 1pt solid;\n",
              "  color: var(--sklearn-color-fitted-level-1);\n",
              "}\n",
              "\n",
              "/* On hover */\n",
              "#sk-container-id-1 a.estimator_doc_link:hover {\n",
              "  /* unfitted */\n",
              "  background-color: var(--sklearn-color-unfitted-level-3);\n",
              "  color: var(--sklearn-color-background);\n",
              "  text-decoration: none;\n",
              "}\n",
              "\n",
              "#sk-container-id-1 a.estimator_doc_link.fitted:hover {\n",
              "  /* fitted */\n",
              "  background-color: var(--sklearn-color-fitted-level-3);\n",
              "}\n",
              "</style><div id=\"sk-container-id-1\" class=\"sk-top-container\"><div class=\"sk-text-repr-fallback\"><pre>SGDRegressor(eta0=0.1, penalty=None)</pre><b>In a Jupyter environment, please rerun this cell to show the HTML representation or trust the notebook. <br />On GitHub, the HTML representation is unable to render, please try loading this page with nbviewer.org.</b></div><div class=\"sk-container\" hidden><div class=\"sk-item\"><div class=\"sk-estimator fitted sk-toggleable\"><input class=\"sk-toggleable__control sk-hidden--visually\" id=\"sk-estimator-id-1\" type=\"checkbox\" checked><label for=\"sk-estimator-id-1\" class=\"sk-toggleable__label fitted sk-toggleable__label-arrow\"><div><div>SGDRegressor</div></div><div><a class=\"sk-estimator-doc-link fitted\" rel=\"noreferrer\" target=\"_blank\" href=\"https://scikit-learn.org/1.6/modules/generated/sklearn.linear_model.SGDRegressor.html\">?<span>Documentation for SGDRegressor</span></a><span class=\"sk-estimator-doc-link fitted\">i<span>Fitted</span></span></div></label><div class=\"sk-toggleable__content fitted\"><pre>SGDRegressor(eta0=0.1, penalty=None)</pre></div> </div></div></div></div>"
            ]
          },
          "metadata": {},
          "execution_count": 16
        }
      ]
    },
    {
      "cell_type": "code",
      "source": [
        "sgd_reg.intercept_, sgd_reg.coef_"
      ],
      "metadata": {
        "colab": {
          "base_uri": "https://localhost:8080/"
        },
        "id": "QCgR-7zpgXLU",
        "outputId": "d0c96a43-9ece-4b76-a72b-150c561dfc1c"
      },
      "execution_count": 17,
      "outputs": [
        {
          "output_type": "execute_result",
          "data": {
            "text/plain": [
              "(array([4.11233048]), array([2.92981238]))"
            ]
          },
          "metadata": {},
          "execution_count": 17
        }
      ]
    },
    {
      "cell_type": "markdown",
      "source": [
        "4.2.3. 미니배치 경사 하강법\n",
        "- 배치 경사 하강법과 마찬가지로 전체 훈련 세트나 하나의 샘플을 기반으로 그레디언트를 계산하는 것이 아닌 미니배치라 부르는 임의의 작은 샘플 세트에 대해 그레디언트를 계산하는 방식\n",
        "- 확률적 경사 하강법에 비하여 미니배치 경사하강법은 행렬 연산에 최적화된 하드웨어인 GPU를 사용하여 성능향상을 얻을 수 있음\n",
        "- 미니배치 경사 하강법은 결과적으로 SGD보다 최솟값에 더욱 가깝게 도달할 순 있으나, 지역 최솟값에서 빠질 확률이 높아지는 단점도 존재함\n",
        "- 따라서 확률적 경사하강법과 미니배치 경사 하강법도 적절한 학습스케줄을 사용하는 것이 중요함!\n"
      ],
      "metadata": {
        "id": "GhGJ36-xSdwR"
      }
    },
    {
      "cell_type": "markdown",
      "source": [
        "4.3. 다항 회귀\n",
        "- 가진 데이터가 단순한 직선이 아닌 비선형 데이터를 학습하는 경우, 다항 회귀를 이용하게 됨\n",
        "- 다항회귀란, 각 특성의 거듭제곱을 새로운 특성으로 추가하고, 이 확장된 특성을 포함한 데이터셋에 선형 모델을 훈련 시키는 방법임\n",
        "- 다항 회귀의 예시"
      ],
      "metadata": {
        "id": "XXLCWsZoSgZL"
      }
    },
    {
      "cell_type": "code",
      "source": [
        "m = 100\n",
        "X = 6*np.random.rand(m,1)-3\n",
        "y = 0.5*X**2 + X+ 2+np.random.randn(m,1)"
      ],
      "metadata": {
        "id": "J9DOXIk6hjq5"
      },
      "execution_count": 19,
      "outputs": []
    },
    {
      "cell_type": "code",
      "source": [
        "# 다항회귀로 훈련 데이터 변환\n",
        "from sklearn.preprocessing import PolynomialFeatures\n",
        "poly_features = PolynomialFeatures(degree=2, include_bias=False)\n",
        "X_poly = poly_features.fit_transform(X)\n",
        "X[0]\n"
      ],
      "metadata": {
        "colab": {
          "base_uri": "https://localhost:8080/"
        },
        "id": "FCfsNqrPhyfE",
        "outputId": "b027b6c3-2503-4b1f-cc50-3c0da5c926b9"
      },
      "execution_count": 26,
      "outputs": [
        {
          "output_type": "execute_result",
          "data": {
            "text/plain": [
              "array([1.97203055])"
            ]
          },
          "metadata": {},
          "execution_count": 26
        }
      ]
    },
    {
      "cell_type": "code",
      "source": [
        "X_poly[0]"
      ],
      "metadata": {
        "colab": {
          "base_uri": "https://localhost:8080/"
        },
        "id": "VVLSy4v-iKx1",
        "outputId": "e6e0001c-82be-491b-c4cf-3b4698acf678"
      },
      "execution_count": 27,
      "outputs": [
        {
          "output_type": "execute_result",
          "data": {
            "text/plain": [
              "array([1.97203055, 3.8889045 ])"
            ]
          },
          "metadata": {},
          "execution_count": 27
        }
      ]
    },
    {
      "cell_type": "code",
      "source": [
        "# LinearRegression 적용\n",
        "lin_reg = LinearRegression()\n",
        "lin_reg.fit(X_poly,y)\n",
        "lin_reg.intercept_, lin_reg.coef_"
      ],
      "metadata": {
        "colab": {
          "base_uri": "https://localhost:8080/"
        },
        "id": "XJMOhUR1iYPs",
        "outputId": "dcccf803-624f-4335-9885-f0c46e11cbee"
      },
      "execution_count": 28,
      "outputs": [
        {
          "output_type": "execute_result",
          "data": {
            "text/plain": [
              "(array([2.31926092]), array([[1.00315791, 0.4947556 ]]))"
            ]
          },
          "metadata": {},
          "execution_count": 28
        }
      ]
    },
    {
      "cell_type": "markdown",
      "source": [
        "4.4. 학습 곡선\n",
        "- 고차 다항 회귀의 경우 보통의 선형회귀보다 훈련 데이터에 더욱 잘 맞추려 하는 경향이 있음 (그래프를 보면 다항 회귀 모델은 훈련 샘플에 가능한 가까이 가기위해 구불구불하게 나타나는 것을 확인 가능)\n",
        "- 하지만 이런 경우, 고차 다항 회귀 모델은 훈련 데이터에 과적합 될 위험이 존재함\n",
        "- 이렇게 과적합 유무를 알기 위해선 교차 검증을 이용할 수도 있으나, 여기선 학습 곡선을 살펴보는 방법도 있음\n",
        "  - 학습곡선: 훈련 세트와 검증 세트의 모델 성능을 훈련 세트 크기의 함수로 나타내어 이 모델의 학습 곡선을 그리는 함수\n",
        "  - 학습 곡선의 예시"
      ],
      "metadata": {
        "id": "cEdEj8i4Si-z"
      }
    },
    {
      "cell_type": "code",
      "source": [
        "from sklearn.metrics import mean_squared_error\n",
        "from sklearn.model_selection import train_test_split\n",
        "\n",
        "def plot_learning_curves(model, X, y):\n",
        "  X_train, X_val, y_train, y_val = train_test_split(X, y, test_size = 0.2)\n",
        "  train_errors, val_errors = [], []\n",
        "  for m in range(1, len(X_train)):\n",
        "    model.fit(X_train[:m], y_train[:m])\n",
        "    y_train_predict = model.predict(X_train[:m])\n",
        "    y_val_predict = model.predict(X_val)\n",
        "    train_errors.append(mean_squared_error(y_train[:m], y_train_predict))\n",
        "    val_errors.append(mean_squared_error(y_val,y_val_predict))\n",
        "  plt.plot(np.sqrt(train_errors), \"r-+\", linewidth=2, label=\"훈련 세트\")\n",
        "  plt.plot(np.sqrt(val_errors), \"b-\", linewidth=3, label=\"검증 세트\")"
      ],
      "metadata": {
        "id": "Gd8LfBGdjWMv"
      },
      "execution_count": 33,
      "outputs": []
    },
    {
      "cell_type": "code",
      "source": [
        "lin_reg = LinearRegression()\n",
        "plot_learning_curves(lin_reg, X, y)"
      ],
      "metadata": {
        "colab": {
          "base_uri": "https://localhost:8080/",
          "height": 430
        },
        "id": "HyfAAsXXkan8",
        "outputId": "82add4c6-ade4-4764-a09a-f1db9b87f0f1"
      },
      "execution_count": 34,
      "outputs": [
        {
          "output_type": "display_data",
          "data": {
            "text/plain": [
              "<Figure size 640x480 with 1 Axes>"
            ],
            "image/png": "[encoded data removed]"
          },
          "metadata": {}
        }
      ]
    },
    {
      "cell_type": "markdown",
      "source": [
        "- 모델이 훈련 세트에 샘플이 추갇됨에 따라 검증 오차가 서서히 감소하는 것을 확인할 수 있음\n",
        "- 10차 다항 회귀 모델의 학습 곡선 예시"
      ],
      "metadata": {
        "id": "QxyoCc9MkrfT"
      }
    },
    {
      "cell_type": "code",
      "source": [
        "from sklearn.pipeline import Pipeline\n",
        "\n",
        "polynomial_regression = Pipeline([\n",
        "    (\"poly_features\", PolynomialFeatures(degree=10, include_bias=False)),\n",
        "    (\"lin_reg\", LinearRegression()),\n",
        "])\n",
        "\n",
        "plot_learning_curves(polynomial_regression, X, y)"
      ],
      "metadata": {
        "colab": {
          "base_uri": "https://localhost:8080/",
          "height": 430
        },
        "id": "yMfIwnb8k56c",
        "outputId": "9e99ae43-9989-4ee5-f8cb-023b22cd077c"
      },
      "execution_count": 38,
      "outputs": [
        {
          "output_type": "display_data",
          "data": {
            "text/plain": [
              "<Figure size 640x480 with 1 Axes>"
            ],
            "image/png": "[encoded data removed]"
          },
          "metadata": {}
        }
      ]
    },
    {
      "cell_type": "markdown",
      "source": [
        "두 학습 곡선의 차이\n",
        "- 훈련 데이터의 오차가 선형 회귀 모델보다 훨씬 낮음\n",
        "- 두 곡선 사이에 공간이 존재함, 즉 훈련 데이터에서 모델 성능이 검증 데이터에서 보다 훨씬 낮다는 뜻이고, 이는 과데적합 모델의 특징임(하지만 더욱 큰 훈련 세ㅔ트를 사용하면 두 곡선이 점점 더 가까워 질 수 있음)"
      ],
      "metadata": {
        "id": "B85pv7falncO"
      }
    },
    {
      "cell_type": "markdown",
      "source": [
        "편향/분산 트레이드 오프\n",
        "- 모델의 일반화 오차는 세 가지 다른 종류의 오차의 합으로 표현할 수 있음\n",
        "  - 편향: 일반화 오차 중 편향은 잘못된 가정에 의한 것으로, 예를 듫어 데이터가 실제로 2차인데 선형으로 가정하는 경우를 의미함\n",
        "  - 분산: 훈련 데이터에 있는 작은 변동에 모델이 과도하게 민감하여 나타난 겻으로, 자유도가 높은 모델이 높은 분산을 가지기 쉬워 훈련 데이터에 과대적합 되는 경우를 의미\n",
        "  - 줄일 수 없는 오차: 데이터 자체에 있는 잡음으로, 이 오차를 줄이기 위해선 데이터에서 잡음을 제거해야 함\n",
        "\n",
        "-> 모델의 복잡도가 커지면 통상적으로 분산은 늘어나고 편향은 줄어듦, 하지만 반대로 모델의 복잡도가 줄어들면 편향은 커지고 분산은 작아짐 (트레이드오프 현상)"
      ],
      "metadata": {
        "id": "lQlFeJJbl-Nz"
      }
    }
  ]
}