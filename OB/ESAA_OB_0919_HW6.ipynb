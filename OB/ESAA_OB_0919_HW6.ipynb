{
  "nbformat": 4,
  "nbformat_minor": 0,
  "metadata": {
    "colab": {
      "provenance": []
    },
    "kernelspec": {
      "name": "python3",
      "display_name": "Python 3"
    },
    "language_info": {
      "name": "python"
    }
  },
  "cells": [
    {
      "cell_type": "markdown",
      "source": [
        "###9.2 가우시안 혼합\n",
        "- GMM(가우시안 혼합 모델): 샘플이 파라미터가 알려지지 않은 여러 개의 혼합된 가우시안 분포에서 생성되었다고 가정하는 확률모델\n",
        "- 하나의 가우시안 분포에서 생성된 모든 샘플은 하나의 클러스터를 형성함\n",
        "  - 클러스터는 대부분 타원형이며, 각 클러스터는 타원의 모양, 크기, 밀집도, 방향이 다름\n",
        "- 데이터셋 X가 주어지면 가중치 $\\theta$와 전체 분포의 파라미터 $\\mu^{1}$에서 $\\mu^{k}$까지와 $\\SUM^{1}$에서 $\\SUM^{k}$까지를 추정함\n",
        "- 사이킷런에선 GussianMixture이라는 클래스를 사용함  "
      ],
      "metadata": {
        "id": "Av2k8km7SvIR"
      }
    },
    {
      "cell_type": "code",
      "source": [
        "import numpy as np\n",
        "from sklearn.datasets import make_moons\n",
        "X, y = make_moons(n_samples=1000,noise=0.05)"
      ],
      "metadata": {
        "id": "sAkRSaB4V5oa"
      },
      "execution_count": 3,
      "outputs": []
    },
    {
      "cell_type": "code",
      "source": [
        "from sklearn.mixture import GaussianMixture\n",
        "\n",
        "gm = GaussianMixture(n_components=3, n_init=10)\n",
        "gm.fit(X)"
      ],
      "metadata": {
        "colab": {
          "base_uri": "https://localhost:8080/",
          "height": 80
        },
        "id": "uRVSkszSVdcm",
        "outputId": "92ce04c2-5e30-4b29-cc4b-03f961d0412d"
      },
      "execution_count": 6,
      "outputs": [
        {
          "output_type": "execute_result",
          "data": {
            "text/plain": [
              "GaussianMixture(n_components=3, n_init=10)"
            ],
            "text/html": [
              "<style>#sk-container-id-1 {\n",
              "  /* Definition of color scheme common for light and dark mode */\n",
              "  --sklearn-color-text: #000;\n",
              "  --sklearn-color-text-muted: #666;\n",
              "  --sklearn-color-line: gray;\n",
              "  /* Definition of color scheme for unfitted estimators */\n",
              "  --sklearn-color-unfitted-level-0: #fff5e6;\n",
              "  --sklearn-color-unfitted-level-1: #f6e4d2;\n",
              "  --sklearn-color-unfitted-level-2: #ffe0b3;\n",
              "  --sklearn-color-unfitted-level-3: chocolate;\n",
              "  /* Definition of color scheme for fitted estimators */\n",
              "  --sklearn-color-fitted-level-0: #f0f8ff;\n",
              "  --sklearn-color-fitted-level-1: #d4ebff;\n",
              "  --sklearn-color-fitted-level-2: #b3dbfd;\n",
              "  --sklearn-color-fitted-level-3: cornflowerblue;\n",
              "\n",
              "  /* Specific color for light theme */\n",
              "  --sklearn-color-text-on-default-background: var(--sg-text-color, var(--theme-code-foreground, var(--jp-content-font-color1, black)));\n",
              "  --sklearn-color-background: var(--sg-background-color, var(--theme-background, var(--jp-layout-color0, white)));\n",
              "  --sklearn-color-border-box: var(--sg-text-color, var(--theme-code-foreground, var(--jp-content-font-color1, black)));\n",
              "  --sklearn-color-icon: #696969;\n",
              "\n",
              "  @media (prefers-color-scheme: dark) {\n",
              "    /* Redefinition of color scheme for dark theme */\n",
              "    --sklearn-color-text-on-default-background: var(--sg-text-color, var(--theme-code-foreground, var(--jp-content-font-color1, white)));\n",
              "    --sklearn-color-background: var(--sg-background-color, var(--theme-background, var(--jp-layout-color0, #111)));\n",
              "    --sklearn-color-border-box: var(--sg-text-color, var(--theme-code-foreground, var(--jp-content-font-color1, white)));\n",
              "    --sklearn-color-icon: #878787;\n",
              "  }\n",
              "}\n",
              "\n",
              "#sk-container-id-1 {\n",
              "  color: var(--sklearn-color-text);\n",
              "}\n",
              "\n",
              "#sk-container-id-1 pre {\n",
              "  padding: 0;\n",
              "}\n",
              "\n",
              "#sk-container-id-1 input.sk-hidden--visually {\n",
              "  border: 0;\n",
              "  clip: rect(1px 1px 1px 1px);\n",
              "  clip: rect(1px, 1px, 1px, 1px);\n",
              "  height: 1px;\n",
              "  margin: -1px;\n",
              "  overflow: hidden;\n",
              "  padding: 0;\n",
              "  position: absolute;\n",
              "  width: 1px;\n",
              "}\n",
              "\n",
              "#sk-container-id-1 div.sk-dashed-wrapped {\n",
              "  border: 1px dashed var(--sklearn-color-line);\n",
              "  margin: 0 0.4em 0.5em 0.4em;\n",
              "  box-sizing: border-box;\n",
              "  padding-bottom: 0.4em;\n",
              "  background-color: var(--sklearn-color-background);\n",
              "}\n",
              "\n",
              "#sk-container-id-1 div.sk-container {\n",
              "  /* jupyter's `normalize.less` sets `[hidden] { display: none; }`\n",
              "     but bootstrap.min.css set `[hidden] { display: none !important; }`\n",
              "     so we also need the `!important` here to be able to override the\n",
              "     default hidden behavior on the sphinx rendered scikit-learn.org.\n",
              "     See: https://github.com/scikit-learn/scikit-learn/issues/21755 */\n",
              "  display: inline-block !important;\n",
              "  position: relative;\n",
              "}\n",
              "\n",
              "#sk-container-id-1 div.sk-text-repr-fallback {\n",
              "  display: none;\n",
              "}\n",
              "\n",
              "div.sk-parallel-item,\n",
              "div.sk-serial,\n",
              "div.sk-item {\n",
              "  /* draw centered vertical line to link estimators */\n",
              "  background-image: linear-gradient(var(--sklearn-color-text-on-default-background), var(--sklearn-color-text-on-default-background));\n",
              "  background-size: 2px 100%;\n",
              "  background-repeat: no-repeat;\n",
              "  background-position: center center;\n",
              "}\n",
              "\n",
              "/* Parallel-specific style estimator block */\n",
              "\n",
              "#sk-container-id-1 div.sk-parallel-item::after {\n",
              "  content: \"\";\n",
              "  width: 100%;\n",
              "  border-bottom: 2px solid var(--sklearn-color-text-on-default-background);\n",
              "  flex-grow: 1;\n",
              "}\n",
              "\n",
              "#sk-container-id-1 div.sk-parallel {\n",
              "  display: flex;\n",
              "  align-items: stretch;\n",
              "  justify-content: center;\n",
              "  background-color: var(--sklearn-color-background);\n",
              "  position: relative;\n",
              "}\n",
              "\n",
              "#sk-container-id-1 div.sk-parallel-item {\n",
              "  display: flex;\n",
              "  flex-direction: column;\n",
              "}\n",
              "\n",
              "#sk-container-id-1 div.sk-parallel-item:first-child::after {\n",
              "  align-self: flex-end;\n",
              "  width: 50%;\n",
              "}\n",
              "\n",
              "#sk-container-id-1 div.sk-parallel-item:last-child::after {\n",
              "  align-self: flex-start;\n",
              "  width: 50%;\n",
              "}\n",
              "\n",
              "#sk-container-id-1 div.sk-parallel-item:only-child::after {\n",
              "  width: 0;\n",
              "}\n",
              "\n",
              "/* Serial-specific style estimator block */\n",
              "\n",
              "#sk-container-id-1 div.sk-serial {\n",
              "  display: flex;\n",
              "  flex-direction: column;\n",
              "  align-items: center;\n",
              "  background-color: var(--sklearn-color-background);\n",
              "  padding-right: 1em;\n",
              "  padding-left: 1em;\n",
              "}\n",
              "\n",
              "\n",
              "/* Toggleable style: style used for estimator/Pipeline/ColumnTransformer box that is\n",
              "clickable and can be expanded/collapsed.\n",
              "- Pipeline and ColumnTransformer use this feature and define the default style\n",
              "- Estimators will overwrite some part of the style using the `sk-estimator` class\n",
              "*/\n",
              "\n",
              "/* Pipeline and ColumnTransformer style (default) */\n",
              "\n",
              "#sk-container-id-1 div.sk-toggleable {\n",
              "  /* Default theme specific background. It is overwritten whether we have a\n",
              "  specific estimator or a Pipeline/ColumnTransformer */\n",
              "  background-color: var(--sklearn-color-background);\n",
              "}\n",
              "\n",
              "/* Toggleable label */\n",
              "#sk-container-id-1 label.sk-toggleable__label {\n",
              "  cursor: pointer;\n",
              "  display: flex;\n",
              "  width: 100%;\n",
              "  margin-bottom: 0;\n",
              "  padding: 0.5em;\n",
              "  box-sizing: border-box;\n",
              "  text-align: center;\n",
              "  align-items: start;\n",
              "  justify-content: space-between;\n",
              "  gap: 0.5em;\n",
              "}\n",
              "\n",
              "#sk-container-id-1 label.sk-toggleable__label .caption {\n",
              "  font-size: 0.6rem;\n",
              "  font-weight: lighter;\n",
              "  color: var(--sklearn-color-text-muted);\n",
              "}\n",
              "\n",
              "#sk-container-id-1 label.sk-toggleable__label-arrow:before {\n",
              "  /* Arrow on the left of the label */\n",
              "  content: \"▸\";\n",
              "  float: left;\n",
              "  margin-right: 0.25em;\n",
              "  color: var(--sklearn-color-icon);\n",
              "}\n",
              "\n",
              "#sk-container-id-1 label.sk-toggleable__label-arrow:hover:before {\n",
              "  color: var(--sklearn-color-text);\n",
              "}\n",
              "\n",
              "/* Toggleable content - dropdown */\n",
              "\n",
              "#sk-container-id-1 div.sk-toggleable__content {\n",
              "  max-height: 0;\n",
              "  max-width: 0;\n",
              "  overflow: hidden;\n",
              "  text-align: left;\n",
              "  /* unfitted */\n",
              "  background-color: var(--sklearn-color-unfitted-level-0);\n",
              "}\n",
              "\n",
              "#sk-container-id-1 div.sk-toggleable__content.fitted {\n",
              "  /* fitted */\n",
              "  background-color: var(--sklearn-color-fitted-level-0);\n",
              "}\n",
              "\n",
              "#sk-container-id-1 div.sk-toggleable__content pre {\n",
              "  margin: 0.2em;\n",
              "  border-radius: 0.25em;\n",
              "  color: var(--sklearn-color-text);\n",
              "  /* unfitted */\n",
              "  background-color: var(--sklearn-color-unfitted-level-0);\n",
              "}\n",
              "\n",
              "#sk-container-id-1 div.sk-toggleable__content.fitted pre {\n",
              "  /* unfitted */\n",
              "  background-color: var(--sklearn-color-fitted-level-0);\n",
              "}\n",
              "\n",
              "#sk-container-id-1 input.sk-toggleable__control:checked~div.sk-toggleable__content {\n",
              "  /* Expand drop-down */\n",
              "  max-height: 200px;\n",
              "  max-width: 100%;\n",
              "  overflow: auto;\n",
              "}\n",
              "\n",
              "#sk-container-id-1 input.sk-toggleable__control:checked~label.sk-toggleable__label-arrow:before {\n",
              "  content: \"▾\";\n",
              "}\n",
              "\n",
              "/* Pipeline/ColumnTransformer-specific style */\n",
              "\n",
              "#sk-container-id-1 div.sk-label input.sk-toggleable__control:checked~label.sk-toggleable__label {\n",
              "  color: var(--sklearn-color-text);\n",
              "  background-color: var(--sklearn-color-unfitted-level-2);\n",
              "}\n",
              "\n",
              "#sk-container-id-1 div.sk-label.fitted input.sk-toggleable__control:checked~label.sk-toggleable__label {\n",
              "  background-color: var(--sklearn-color-fitted-level-2);\n",
              "}\n",
              "\n",
              "/* Estimator-specific style */\n",
              "\n",
              "/* Colorize estimator box */\n",
              "#sk-container-id-1 div.sk-estimator input.sk-toggleable__control:checked~label.sk-toggleable__label {\n",
              "  /* unfitted */\n",
              "  background-color: var(--sklearn-color-unfitted-level-2);\n",
              "}\n",
              "\n",
              "#sk-container-id-1 div.sk-estimator.fitted input.sk-toggleable__control:checked~label.sk-toggleable__label {\n",
              "  /* fitted */\n",
              "  background-color: var(--sklearn-color-fitted-level-2);\n",
              "}\n",
              "\n",
              "#sk-container-id-1 div.sk-label label.sk-toggleable__label,\n",
              "#sk-container-id-1 div.sk-label label {\n",
              "  /* The background is the default theme color */\n",
              "  color: var(--sklearn-color-text-on-default-background);\n",
              "}\n",
              "\n",
              "/* On hover, darken the color of the background */\n",
              "#sk-container-id-1 div.sk-label:hover label.sk-toggleable__label {\n",
              "  color: var(--sklearn-color-text);\n",
              "  background-color: var(--sklearn-color-unfitted-level-2);\n",
              "}\n",
              "\n",
              "/* Label box, darken color on hover, fitted */\n",
              "#sk-container-id-1 div.sk-label.fitted:hover label.sk-toggleable__label.fitted {\n",
              "  color: var(--sklearn-color-text);\n",
              "  background-color: var(--sklearn-color-fitted-level-2);\n",
              "}\n",
              "\n",
              "/* Estimator label */\n",
              "\n",
              "#sk-container-id-1 div.sk-label label {\n",
              "  font-family: monospace;\n",
              "  font-weight: bold;\n",
              "  display: inline-block;\n",
              "  line-height: 1.2em;\n",
              "}\n",
              "\n",
              "#sk-container-id-1 div.sk-label-container {\n",
              "  text-align: center;\n",
              "}\n",
              "\n",
              "/* Estimator-specific */\n",
              "#sk-container-id-1 div.sk-estimator {\n",
              "  font-family: monospace;\n",
              "  border: 1px dotted var(--sklearn-color-border-box);\n",
              "  border-radius: 0.25em;\n",
              "  box-sizing: border-box;\n",
              "  margin-bottom: 0.5em;\n",
              "  /* unfitted */\n",
              "  background-color: var(--sklearn-color-unfitted-level-0);\n",
              "}\n",
              "\n",
              "#sk-container-id-1 div.sk-estimator.fitted {\n",
              "  /* fitted */\n",
              "  background-color: var(--sklearn-color-fitted-level-0);\n",
              "}\n",
              "\n",
              "/* on hover */\n",
              "#sk-container-id-1 div.sk-estimator:hover {\n",
              "  /* unfitted */\n",
              "  background-color: var(--sklearn-color-unfitted-level-2);\n",
              "}\n",
              "\n",
              "#sk-container-id-1 div.sk-estimator.fitted:hover {\n",
              "  /* fitted */\n",
              "  background-color: var(--sklearn-color-fitted-level-2);\n",
              "}\n",
              "\n",
              "/* Specification for estimator info (e.g. \"i\" and \"?\") */\n",
              "\n",
              "/* Common style for \"i\" and \"?\" */\n",
              "\n",
              ".sk-estimator-doc-link,\n",
              "a:link.sk-estimator-doc-link,\n",
              "a:visited.sk-estimator-doc-link {\n",
              "  float: right;\n",
              "  font-size: smaller;\n",
              "  line-height: 1em;\n",
              "  font-family: monospace;\n",
              "  background-color: var(--sklearn-color-background);\n",
              "  border-radius: 1em;\n",
              "  height: 1em;\n",
              "  width: 1em;\n",
              "  text-decoration: none !important;\n",
              "  margin-left: 0.5em;\n",
              "  text-align: center;\n",
              "  /* unfitted */\n",
              "  border: var(--sklearn-color-unfitted-level-1) 1pt solid;\n",
              "  color: var(--sklearn-color-unfitted-level-1);\n",
              "}\n",
              "\n",
              ".sk-estimator-doc-link.fitted,\n",
              "a:link.sk-estimator-doc-link.fitted,\n",
              "a:visited.sk-estimator-doc-link.fitted {\n",
              "  /* fitted */\n",
              "  border: var(--sklearn-color-fitted-level-1) 1pt solid;\n",
              "  color: var(--sklearn-color-fitted-level-1);\n",
              "}\n",
              "\n",
              "/* On hover */\n",
              "div.sk-estimator:hover .sk-estimator-doc-link:hover,\n",
              ".sk-estimator-doc-link:hover,\n",
              "div.sk-label-container:hover .sk-estimator-doc-link:hover,\n",
              ".sk-estimator-doc-link:hover {\n",
              "  /* unfitted */\n",
              "  background-color: var(--sklearn-color-unfitted-level-3);\n",
              "  color: var(--sklearn-color-background);\n",
              "  text-decoration: none;\n",
              "}\n",
              "\n",
              "div.sk-estimator.fitted:hover .sk-estimator-doc-link.fitted:hover,\n",
              ".sk-estimator-doc-link.fitted:hover,\n",
              "div.sk-label-container:hover .sk-estimator-doc-link.fitted:hover,\n",
              ".sk-estimator-doc-link.fitted:hover {\n",
              "  /* fitted */\n",
              "  background-color: var(--sklearn-color-fitted-level-3);\n",
              "  color: var(--sklearn-color-background);\n",
              "  text-decoration: none;\n",
              "}\n",
              "\n",
              "/* Span, style for the box shown on hovering the info icon */\n",
              ".sk-estimator-doc-link span {\n",
              "  display: none;\n",
              "  z-index: 9999;\n",
              "  position: relative;\n",
              "  font-weight: normal;\n",
              "  right: .2ex;\n",
              "  padding: .5ex;\n",
              "  margin: .5ex;\n",
              "  width: min-content;\n",
              "  min-width: 20ex;\n",
              "  max-width: 50ex;\n",
              "  color: var(--sklearn-color-text);\n",
              "  box-shadow: 2pt 2pt 4pt #999;\n",
              "  /* unfitted */\n",
              "  background: var(--sklearn-color-unfitted-level-0);\n",
              "  border: .5pt solid var(--sklearn-color-unfitted-level-3);\n",
              "}\n",
              "\n",
              ".sk-estimator-doc-link.fitted span {\n",
              "  /* fitted */\n",
              "  background: var(--sklearn-color-fitted-level-0);\n",
              "  border: var(--sklearn-color-fitted-level-3);\n",
              "}\n",
              "\n",
              ".sk-estimator-doc-link:hover span {\n",
              "  display: block;\n",
              "}\n",
              "\n",
              "/* \"?\"-specific style due to the `<a>` HTML tag */\n",
              "\n",
              "#sk-container-id-1 a.estimator_doc_link {\n",
              "  float: right;\n",
              "  font-size: 1rem;\n",
              "  line-height: 1em;\n",
              "  font-family: monospace;\n",
              "  background-color: var(--sklearn-color-background);\n",
              "  border-radius: 1rem;\n",
              "  height: 1rem;\n",
              "  width: 1rem;\n",
              "  text-decoration: none;\n",
              "  /* unfitted */\n",
              "  color: var(--sklearn-color-unfitted-level-1);\n",
              "  border: var(--sklearn-color-unfitted-level-1) 1pt solid;\n",
              "}\n",
              "\n",
              "#sk-container-id-1 a.estimator_doc_link.fitted {\n",
              "  /* fitted */\n",
              "  border: var(--sklearn-color-fitted-level-1) 1pt solid;\n",
              "  color: var(--sklearn-color-fitted-level-1);\n",
              "}\n",
              "\n",
              "/* On hover */\n",
              "#sk-container-id-1 a.estimator_doc_link:hover {\n",
              "  /* unfitted */\n",
              "  background-color: var(--sklearn-color-unfitted-level-3);\n",
              "  color: var(--sklearn-color-background);\n",
              "  text-decoration: none;\n",
              "}\n",
              "\n",
              "#sk-container-id-1 a.estimator_doc_link.fitted:hover {\n",
              "  /* fitted */\n",
              "  background-color: var(--sklearn-color-fitted-level-3);\n",
              "}\n",
              "</style><div id=\"sk-container-id-1\" class=\"sk-top-container\"><div class=\"sk-text-repr-fallback\"><pre>GaussianMixture(n_components=3, n_init=10)</pre><b>In a Jupyter environment, please rerun this cell to show the HTML representation or trust the notebook. <br />On GitHub, the HTML representation is unable to render, please try loading this page with nbviewer.org.</b></div><div class=\"sk-container\" hidden><div class=\"sk-item\"><div class=\"sk-estimator fitted sk-toggleable\"><input class=\"sk-toggleable__control sk-hidden--visually\" id=\"sk-estimator-id-1\" type=\"checkbox\" checked><label for=\"sk-estimator-id-1\" class=\"sk-toggleable__label fitted sk-toggleable__label-arrow\"><div><div>GaussianMixture</div></div><div><a class=\"sk-estimator-doc-link fitted\" rel=\"noreferrer\" target=\"_blank\" href=\"https://scikit-learn.org/1.6/modules/generated/sklearn.mixture.GaussianMixture.html\">?<span>Documentation for GaussianMixture</span></a><span class=\"sk-estimator-doc-link fitted\">i<span>Fitted</span></span></div></label><div class=\"sk-toggleable__content fitted\"><pre>GaussianMixture(n_components=3, n_init=10)</pre></div> </div></div></div></div>"
            ]
          },
          "metadata": {},
          "execution_count": 6
        }
      ]
    },
    {
      "cell_type": "code",
      "source": [
        "gm.weights_"
      ],
      "metadata": {
        "colab": {
          "base_uri": "https://localhost:8080/"
        },
        "id": "6hOqX_UcVptK",
        "outputId": "cdafd055-216a-4c53-f627-720b3b43f1aa"
      },
      "execution_count": 7,
      "outputs": [
        {
          "output_type": "execute_result",
          "data": {
            "text/plain": [
              "array([0.58223676, 0.2061373 , 0.21162594])"
            ]
          },
          "metadata": {},
          "execution_count": 7
        }
      ]
    },
    {
      "cell_type": "code",
      "source": [
        "gm.means_"
      ],
      "metadata": {
        "colab": {
          "base_uri": "https://localhost:8080/"
        },
        "id": "-NhTRFUrWBm2",
        "outputId": "619777ae-8e17-4bf9-b4e5-e15975ab7c5f"
      },
      "execution_count": 8,
      "outputs": [
        {
          "output_type": "execute_result",
          "data": {
            "text/plain": [
              "array([[ 0.50826847,  0.24052079],\n",
              "       [ 1.73906539, -0.06506252],\n",
              "       [-0.7203993 ,  0.57215525]])"
            ]
          },
          "metadata": {},
          "execution_count": 8
        }
      ]
    },
    {
      "cell_type": "code",
      "source": [
        "gm.covariances_"
      ],
      "metadata": {
        "colab": {
          "base_uri": "https://localhost:8080/"
        },
        "id": "_ecgM7dEWENO",
        "outputId": "c0a1132b-7d31-40f4-e7a6-c557c5523e3d"
      },
      "execution_count": 9,
      "outputs": [
        {
          "output_type": "execute_result",
          "data": {
            "text/plain": [
              "array([[[ 0.16618737, -0.09356748],\n",
              "        [-0.09356748,  0.28497379]],\n",
              "\n",
              "       [[ 0.05641324,  0.06232203],\n",
              "        [ 0.06232203,  0.08384879]],\n",
              "\n",
              "       [[ 0.06143585,  0.06539826],\n",
              "        [ 0.06539826,  0.08810314]]])"
            ]
          },
          "metadata": {},
          "execution_count": 9
        }
      ]
    },
    {
      "cell_type": "markdown",
      "source": [
        "- 가우시안 혼합모델은 기댓값-최대화(EM)알고리즘을 사용함\n",
        "  - 클러스터의 파라미터를 랜덤하게 초기화하고 수렴할 때까지 이 2단계를 반복함\n",
        "  - 기댓값 단계: 샘플을 클러스터에 할당\n",
        "  - 최대화 단계: 클러스터를 업데이터\n",
        "- K-평균과 달리 EM은 소프트 클러스터 할당을 사용하여, 현재 클러스터 파라미터에 기반하여 각 클러스터에 속할 확률을 예측하는데, 이때의 확률은 클러스터의 **책임**이라고 함"
      ],
      "metadata": {
        "id": "gwxWFXIUWHkK"
      }
    },
    {
      "cell_type": "code",
      "source": [
        "gm.converged_"
      ],
      "metadata": {
        "colab": {
          "base_uri": "https://localhost:8080/"
        },
        "id": "P3mVw7-XWss8",
        "outputId": "634aeddb-e9b1-49ca-d83f-867c568cd816"
      },
      "execution_count": 10,
      "outputs": [
        {
          "output_type": "execute_result",
          "data": {
            "text/plain": [
              "True"
            ]
          },
          "metadata": {},
          "execution_count": 10
        }
      ]
    },
    {
      "cell_type": "code",
      "source": [
        "gm.n_iter_"
      ],
      "metadata": {
        "colab": {
          "base_uri": "https://localhost:8080/"
        },
        "id": "9SAcMVIRWuy7",
        "outputId": "1430a722-ca3a-4459-aef3-697c55f5b6f3"
      },
      "execution_count": 11,
      "outputs": [
        {
          "output_type": "execute_result",
          "data": {
            "text/plain": [
              "16"
            ]
          },
          "metadata": {},
          "execution_count": 11
        }
      ]
    },
    {
      "cell_type": "code",
      "source": [
        "# 새로운 샘플을 가장 비슷한 클러스터에 할당하는 경우(하드 군집)\n",
        "gm.predict(X)"
      ],
      "metadata": {
        "colab": {
          "base_uri": "https://localhost:8080/"
        },
        "id": "61_-u1h3Ww4J",
        "outputId": "6e37a862-ea9c-4150-e160-d59693ee2f20"
      },
      "execution_count": 12,
      "outputs": [
        {
          "output_type": "execute_result",
          "data": {
            "text/plain": [
              "array([0, 2, 2, 0, 0, 2, 0, 0, 0, 0, 0, 0, 0, 1, 0, 0, 1, 0, 0, 0, 1, 0,\n",
              "       2, 2, 0, 0, 2, 0, 0, 2, 2, 1, 1, 2, 0, 2, 0, 0, 1, 1, 2, 2, 0, 1,\n",
              "       1, 0, 0, 1, 0, 0, 0, 2, 2, 0, 0, 1, 0, 0, 1, 0, 2, 2, 0, 0, 0, 0,\n",
              "       0, 0, 1, 1, 0, 0, 0, 0, 0, 0, 2, 0, 2, 1, 0, 0, 1, 0, 1, 0, 2, 1,\n",
              "       1, 1, 2, 2, 1, 0, 0, 1, 1, 0, 0, 0, 0, 0, 1, 2, 1, 0, 1, 0, 1, 0,\n",
              "       0, 0, 0, 0, 0, 2, 1, 0, 0, 1, 2, 0, 0, 0, 0, 2, 0, 1, 0, 1, 2, 1,\n",
              "       1, 2, 1, 0, 1, 1, 1, 0, 1, 0, 0, 2, 0, 1, 1, 0, 1, 2, 0, 0, 2, 0,\n",
              "       0, 1, 0, 0, 2, 1, 1, 0, 2, 0, 0, 0, 1, 0, 1, 0, 0, 0, 1, 0, 0, 0,\n",
              "       0, 0, 2, 2, 0, 0, 0, 2, 1, 0, 0, 0, 2, 0, 1, 2, 0, 2, 1, 1, 0, 0,\n",
              "       0, 0, 1, 0, 0, 0, 0, 2, 0, 0, 2, 0, 1, 1, 1, 0, 0, 0, 1, 1, 0, 1,\n",
              "       1, 0, 0, 0, 0, 2, 1, 0, 2, 1, 1, 2, 0, 0, 0, 0, 1, 2, 2, 0, 2, 2,\n",
              "       1, 0, 1, 0, 1, 0, 0, 0, 1, 0, 1, 2, 1, 0, 0, 1, 0, 0, 0, 2, 2, 0,\n",
              "       0, 0, 0, 1, 2, 0, 0, 2, 0, 0, 0, 1, 1, 0, 1, 0, 0, 2, 2, 2, 2, 0,\n",
              "       0, 0, 0, 0, 2, 2, 0, 0, 1, 0, 0, 2, 0, 1, 1, 1, 0, 1, 2, 1, 0, 1,\n",
              "       0, 0, 0, 1, 0, 0, 2, 0, 0, 2, 1, 0, 0, 2, 0, 0, 0, 0, 1, 0, 0, 0,\n",
              "       1, 0, 0, 0, 0, 1, 0, 2, 2, 0, 1, 1, 0, 0, 2, 2, 0, 1, 0, 0, 1, 0,\n",
              "       0, 2, 1, 0, 2, 1, 0, 1, 0, 0, 1, 0, 0, 2, 0, 0, 0, 0, 0, 0, 0, 2,\n",
              "       0, 0, 0, 2, 0, 0, 2, 2, 2, 0, 0, 2, 2, 1, 2, 0, 0, 0, 0, 0, 2, 0,\n",
              "       2, 0, 0, 0, 0, 0, 1, 0, 0, 0, 0, 0, 0, 0, 0, 0, 0, 0, 0, 0, 0, 1,\n",
              "       2, 0, 1, 0, 0, 0, 2, 0, 0, 0, 0, 2, 0, 1, 0, 2, 0, 0, 0, 2, 0, 1,\n",
              "       0, 2, 2, 0, 2, 0, 0, 2, 2, 0, 0, 0, 1, 0, 0, 0, 0, 0, 0, 2, 0, 1,\n",
              "       0, 0, 0, 1, 2, 0, 0, 0, 1, 0, 0, 2, 0, 2, 1, 0, 0, 2, 0, 1, 0, 2,\n",
              "       0, 2, 1, 0, 2, 0, 0, 2, 0, 0, 0, 0, 0, 0, 0, 2, 1, 0, 0, 0, 0, 0,\n",
              "       1, 0, 2, 0, 1, 1, 0, 2, 0, 2, 2, 0, 0, 0, 0, 2, 1, 0, 0, 2, 0, 2,\n",
              "       1, 0, 0, 0, 0, 0, 2, 0, 0, 2, 1, 0, 0, 1, 1, 0, 0, 1, 2, 0, 1, 0,\n",
              "       1, 0, 0, 2, 0, 0, 0, 0, 0, 0, 2, 0, 0, 1, 0, 1, 0, 1, 2, 1, 1, 0,\n",
              "       0, 0, 2, 1, 1, 2, 0, 0, 0, 1, 0, 0, 2, 1, 0, 0, 0, 0, 2, 2, 0, 0,\n",
              "       1, 0, 0, 2, 0, 0, 0, 0, 0, 0, 0, 0, 0, 0, 0, 1, 0, 0, 0, 0, 2, 2,\n",
              "       0, 1, 0, 0, 0, 0, 2, 2, 0, 2, 1, 2, 2, 2, 0, 1, 0, 2, 1, 0, 0, 0,\n",
              "       0, 2, 0, 2, 2, 2, 2, 1, 1, 1, 0, 0, 0, 0, 0, 2, 0, 0, 0, 0, 0, 2,\n",
              "       0, 1, 1, 2, 0, 2, 0, 2, 0, 0, 1, 0, 2, 0, 2, 2, 2, 0, 2, 0, 0, 0,\n",
              "       0, 1, 2, 0, 0, 0, 0, 2, 0, 1, 1, 2, 1, 0, 0, 1, 1, 1, 0, 2, 0, 1,\n",
              "       0, 0, 0, 0, 0, 1, 0, 0, 1, 2, 1, 0, 1, 0, 0, 2, 0, 0, 0, 0, 1, 0,\n",
              "       2, 0, 0, 0, 2, 1, 0, 0, 1, 0, 2, 1, 0, 0, 1, 0, 0, 0, 1, 0, 0, 2,\n",
              "       0, 2, 2, 1, 2, 2, 0, 2, 0, 0, 2, 2, 0, 0, 2, 0, 0, 0, 0, 2, 2, 1,\n",
              "       2, 0, 0, 2, 2, 2, 0, 0, 1, 0, 0, 0, 1, 0, 1, 0, 0, 2, 0, 2, 0, 0,\n",
              "       0, 2, 2, 0, 0, 0, 0, 1, 1, 0, 0, 0, 1, 2, 0, 2, 0, 0, 0, 0, 0, 2,\n",
              "       0, 0, 2, 0, 0, 0, 1, 2, 1, 0, 0, 0, 0, 0, 2, 2, 2, 1, 1, 0, 0, 2,\n",
              "       0, 0, 0, 0, 1, 0, 0, 0, 1, 0, 0, 0, 0, 1, 0, 0, 0, 1, 0, 2, 1, 0,\n",
              "       0, 0, 2, 0, 0, 0, 1, 1, 0, 0, 0, 1, 0, 1, 0, 1, 1, 0, 2, 0, 1, 0,\n",
              "       0, 2, 2, 0, 1, 2, 1, 2, 1, 0, 0, 0, 0, 2, 0, 0, 1, 0, 0, 1, 1, 0,\n",
              "       2, 1, 2, 0, 2, 1, 2, 0, 1, 2, 2, 0, 1, 0, 2, 2, 0, 2, 0, 1, 0, 0,\n",
              "       2, 0, 0, 2, 0, 0, 0, 0, 0, 0, 0, 2, 2, 0, 0, 0, 0, 0, 0, 2, 1, 0,\n",
              "       1, 0, 0, 0, 1, 0, 0, 2, 2, 0, 1, 2, 2, 0, 0, 2, 0, 1, 0, 0, 0, 2,\n",
              "       2, 2, 2, 0, 2, 1, 1, 1, 1, 1, 0, 2, 0, 2, 1, 1, 0, 1, 2, 0, 0, 0,\n",
              "       1, 1, 0, 0, 2, 1, 0, 0, 0, 0])"
            ]
          },
          "metadata": {},
          "execution_count": 12
        }
      ]
    },
    {
      "cell_type": "code",
      "source": [
        "# 새로운 샘플을 특정 클러스터에 속할 확률을 예측하는 경우 (소프트 군집)\n",
        "gm.predict_proba(X)"
      ],
      "metadata": {
        "colab": {
          "base_uri": "https://localhost:8080/"
        },
        "id": "vKHfrug_W702",
        "outputId": "87d99c67-e868-49b6-c047-3478f5c55793"
      },
      "execution_count": 13,
      "outputs": [
        {
          "output_type": "execute_result",
          "data": {
            "text/plain": [
              "array([[1.00000000e+000, 4.37838171e-043, 3.80065272e-040],\n",
              "       [4.44158248e-002, 3.09750827e-191, 9.55584175e-001],\n",
              "       [4.90100963e-002, 4.47848624e-184, 9.50989904e-001],\n",
              "       ...,\n",
              "       [1.00000000e+000, 3.11900207e-013, 1.03659255e-080],\n",
              "       [9.99997296e-001, 4.67789073e-121, 2.70399581e-006],\n",
              "       [1.00000000e+000, 4.30943981e-046, 2.49308102e-037]])"
            ]
          },
          "metadata": {},
          "execution_count": 13
        }
      ]
    },
    {
      "cell_type": "markdown",
      "source": [
        "- 가우시안 혼합 모델은 생성모델에 해당하기 때문에, 모델에서 새로운 샘플을 생성할 수 있음"
      ],
      "metadata": {
        "id": "_HlYhHOxXIPJ"
      }
    },
    {
      "cell_type": "code",
      "source": [
        "X_new, y_new = gm.sample(6)\n",
        "X_new"
      ],
      "metadata": {
        "colab": {
          "base_uri": "https://localhost:8080/"
        },
        "id": "_9JlpjugXFCN",
        "outputId": "c8d46b81-a98a-4cf4-a17a-e137741e62a3"
      },
      "execution_count": 14,
      "outputs": [
        {
          "output_type": "execute_result",
          "data": {
            "text/plain": [
              "array([[ 0.37447797,  0.54223327],\n",
              "       [ 0.50802879, -0.45862353],\n",
              "       [ 1.09306586,  0.33666214],\n",
              "       [ 2.09153694,  0.09672087],\n",
              "       [ 1.8880242 ,  0.20260247],\n",
              "       [-0.83905393,  0.34750531]])"
            ]
          },
          "metadata": {},
          "execution_count": 14
        }
      ]
    },
    {
      "cell_type": "code",
      "source": [
        "y_new"
      ],
      "metadata": {
        "colab": {
          "base_uri": "https://localhost:8080/"
        },
        "id": "e4Fv4lKrXRF2",
        "outputId": "d6802730-b9d8-4511-fa56-e9df22bc6627"
      },
      "execution_count": 15,
      "outputs": [
        {
          "output_type": "execute_result",
          "data": {
            "text/plain": [
              "array([0, 0, 0, 1, 1, 2])"
            ]
          },
          "metadata": {},
          "execution_count": 15
        }
      ]
    },
    {
      "cell_type": "markdown",
      "source": [
        "- 주어진 위치에서 모델의 밀도를 추정할 수 있음 -> score_samples() 메서드 활용\n",
        "  - 샘플이 주어지면 그 위치의 확률 밀도 함수(PDF)의 로그를 예측함\n",
        "  - 점수가 높을수록 밀도가 높음\n",
        "  - 점수의 지숫값을 계산하면 샘플의 위치에서 PDF의 값을 얻을 수 있음"
      ],
      "metadata": {
        "id": "nwpsH46nXTIP"
      }
    },
    {
      "cell_type": "code",
      "source": [
        "gm.score_samples(X)"
      ],
      "metadata": {
        "colab": {
          "base_uri": "https://localhost:8080/"
        },
        "id": "pwf5r2VSXfuy",
        "outputId": "5cfa432d-2473-441b-e410-525db8863720"
      },
      "execution_count": 16,
      "outputs": [
        {
          "output_type": "execute_result",
          "data": {
            "text/plain": [
              "array([-1.52686839e+00, -6.57829784e-01, -5.52684478e-01, -1.97007778e+00,\n",
              "       -1.54359508e+00, -1.50687613e+00, -1.69412176e+00, -1.89057963e+00,\n",
              "       -1.96211888e+00, -1.45957233e+00, -2.08864574e+00, -1.74485130e+00,\n",
              "       -2.19593259e+00, -8.59262738e-01, -1.37126525e+00, -1.48306832e+00,\n",
              "       -5.75091445e-01, -1.78668016e+00, -1.46452302e+00, -1.71753591e+00,\n",
              "       -1.25028394e+00, -1.85226204e+00, -8.23002181e-01, -4.28988468e-01,\n",
              "       -1.60260388e+00, -2.01181145e+00, -5.87676025e-01, -1.73563204e+00,\n",
              "       -1.77372126e+00, -7.65721043e-01, -9.25460269e-01, -2.11288957e-02,\n",
              "       -4.25526835e-01, -4.55808200e-01, -1.59597721e+00, -1.57122284e+00,\n",
              "       -2.18674872e+00, -1.52779389e+00, -2.54356027e+00, -2.31197398e+00,\n",
              "       -4.15642910e-02, -3.73956326e-01, -2.17082378e+00, -2.94803457e-01,\n",
              "       -6.00255929e-01, -1.80371752e+00, -1.96355758e+00, -1.04656947e+00,\n",
              "       -1.44735692e+00, -1.20213276e+00, -1.67185847e+00, -7.27878452e-01,\n",
              "       -1.82155640e+00, -1.52541781e+00, -1.65348716e+00, -8.06657019e-01,\n",
              "       -1.71266018e+00, -1.74544586e+00, -6.61116162e-01, -1.84477370e+00,\n",
              "       -7.96420821e-01, -5.29865015e-01, -1.52423476e+00, -1.55470898e+00,\n",
              "       -1.94033851e+00, -1.80786717e+00, -1.72329107e+00, -1.55322423e+00,\n",
              "       -1.23855564e+00, -3.14800009e-01, -1.69693391e+00, -2.34541410e+00,\n",
              "       -1.64258231e+00, -2.00064776e+00, -2.10709740e+00, -1.52788300e+00,\n",
              "       -1.36071763e-01, -1.94591377e+00, -4.97657492e-02,  3.41091478e-02,\n",
              "       -1.50284617e+00, -1.38391969e+00, -8.04049061e-01, -1.39872433e+00,\n",
              "       -1.08414427e+00, -1.64931845e+00, -1.25308509e+00, -4.14439297e-01,\n",
              "       -1.36175421e+00, -7.92080765e-01, -6.74134684e-01, -6.58143959e-01,\n",
              "       -4.25573287e-01, -1.94105837e+00, -1.52015718e+00, -2.73721016e+00,\n",
              "        3.04020173e-02, -1.67140939e+00, -1.57016453e+00, -2.12057427e+00,\n",
              "       -2.19840333e+00, -1.82102886e+00, -6.00292896e-01, -3.84747990e-01,\n",
              "       -5.83432184e-01, -1.79815316e+00, -1.81220073e-01, -1.27468158e+00,\n",
              "       -1.27755061e+00, -1.67185897e+00, -1.82050485e+00, -1.41411300e+00,\n",
              "       -1.44397455e+00, -1.67081427e+00, -1.35711656e+00, -3.91454563e-01,\n",
              "       -2.55484568e-01, -1.51883541e+00, -1.41214197e+00, -9.87213441e-01,\n",
              "       -1.44072890e+00, -1.59038521e+00, -1.94429316e+00, -1.83204542e+00,\n",
              "       -1.72858440e+00, -7.03499640e-01, -1.71025787e+00, -2.90878506e-01,\n",
              "       -1.84022804e+00, -1.10535460e-01, -6.89883826e-01, -9.24318959e-01,\n",
              "       -7.60828129e-02, -2.31801360e-01, -9.42743824e-01, -1.46271977e+00,\n",
              "       -7.49580262e-01, -5.86968743e-01,  5.80415398e-02, -1.55441989e+00,\n",
              "       -1.26377192e+00, -1.61405450e+00, -2.13202148e+00, -5.00407388e-01,\n",
              "       -1.49498170e+00, -4.77151065e-01, -2.13630236e-01, -1.48691685e+00,\n",
              "       -2.28800694e-01, -2.72524328e+00, -1.64094919e+00, -1.61378845e+00,\n",
              "       -1.76622362e+00, -1.76142922e+00, -2.12768889e+00,  1.05692089e-01,\n",
              "       -1.91640036e+00, -1.67642301e+00, -4.17126462e-01,  7.89145029e-02,\n",
              "       -8.06736830e-01, -1.63474054e+00, -1.60481074e-01, -1.85930360e+00,\n",
              "       -1.77547611e+00, -1.61605189e+00, -8.70485864e-01, -2.22690475e+00,\n",
              "       -8.49606219e-01, -1.53158305e+00, -1.38506843e+00, -1.25848719e+00,\n",
              "       -2.70508486e-01, -1.83488954e+00, -1.72931050e+00, -1.62192381e+00,\n",
              "       -2.14453756e+00, -1.59784915e+00, -5.05661325e-01, -1.12607410e+00,\n",
              "       -2.07102300e+00, -1.54294877e+00, -1.94956858e+00, -6.13677831e-01,\n",
              "        3.33173210e-03, -1.57665839e+00, -1.74528563e+00, -1.65504593e+00,\n",
              "       -3.24967000e-01, -1.66918968e+00, -1.28790380e+00, -5.82871816e-01,\n",
              "       -1.58118431e+00, -6.37106951e-01, -5.92588959e-01, -2.20663064e+00,\n",
              "       -1.89724635e+00, -2.00003215e+00, -1.78972174e+00, -1.87971224e+00,\n",
              "       -6.06077999e-01, -1.42781385e+00, -1.78613374e+00, -1.74400722e+00,\n",
              "       -1.76255830e+00, -2.10489971e+00, -1.61359060e+00, -1.39947627e+00,\n",
              "       -4.83966737e-01, -2.21533515e+00, -1.04798382e+00, -5.28910283e-01,\n",
              "       -1.04955338e+00, -1.58044862e+00, -1.55160272e+00, -1.62408143e+00,\n",
              "       -8.95838176e-01, -1.80387281e+00, -2.00941665e+00, -9.08813885e-01,\n",
              "       -1.20812451e-01, -1.44153237e+00, -1.84925050e+00, -1.50975743e+00,\n",
              "       -1.52605437e+00, -6.52172766e-01, -6.13493926e-01, -1.74670716e+00,\n",
              "       -4.66943175e-01, -6.43525393e-01, -2.84170809e-01, -1.84555321e-01,\n",
              "       -2.09767577e+00, -1.82024104e+00, -1.53441064e+00, -1.62540490e+00,\n",
              "       -1.61525278e+00, -3.25954105e-01, -1.07111346e+00, -1.53686960e+00,\n",
              "       -5.36345770e-01, -7.75595709e-01, -7.46888723e-01, -1.65757374e+00,\n",
              "       -3.13559261e-01, -1.40664148e+00, -5.39339198e-01, -1.81449018e+00,\n",
              "       -1.61652221e+00, -1.51027762e+00, -8.49030937e-01, -1.70895140e+00,\n",
              "       -7.28691486e-01, -1.15828819e-01,  1.51341718e-02, -1.55894212e+00,\n",
              "       -1.92844284e+00, -2.53197627e-02, -1.71875083e+00, -1.38456432e+00,\n",
              "       -1.58208346e+00, -8.39708172e-01, -1.61597506e+00, -1.76027948e+00,\n",
              "       -1.63521939e+00, -1.78604529e+00, -1.99927298e+00, -1.81429915e-01,\n",
              "       -6.22506293e-01, -1.78616060e+00, -1.50397705e+00, -1.40249426e+00,\n",
              "       -1.37230557e+00, -1.86670432e+00, -1.63157901e+00, -2.65082973e-01,\n",
              "       -1.54845522e+00, -1.66303990e+00, -1.31896708e+00, -2.15327551e+00,\n",
              "       -1.51111080e+00, -5.88322225e-01, -1.05571541e+00, -1.06697516e+00,\n",
              "       -7.20334820e-02, -1.76532844e+00, -1.40392867e+00, -1.64037194e+00,\n",
              "       -1.26583104e+00, -1.94555085e+00, -3.40854524e+00, -6.68673371e-01,\n",
              "       -1.67956917e+00, -1.87036081e+00, -1.22722510e+00, -1.59587441e+00,\n",
              "       -2.05743740e+00, -3.02956945e-01, -1.67928014e+00, -1.46089764e+00,\n",
              "       -3.94399766e-01,  6.55167055e-02, -1.79194022e+00, -5.23898288e-01,\n",
              "       -2.05044585e-01, -6.26710724e-01, -1.59364716e+00, -4.23567402e-01,\n",
              "       -1.84785737e+00, -1.97979260e+00, -1.96106543e+00, -7.29538098e-01,\n",
              "       -1.57661690e+00, -1.43056829e+00, -6.47660714e-01, -1.63323517e+00,\n",
              "       -1.65117415e+00, -5.55625861e-01, -2.64382230e+00, -1.73994795e+00,\n",
              "       -1.52343582e+00, -4.23883342e-01, -1.75168540e+00, -2.11711920e+00,\n",
              "       -1.66983196e+00, -1.77499950e+00, -1.70713793e+00, -1.84733576e+00,\n",
              "       -1.64382072e+00, -1.70368726e+00, -1.41019668e-03, -1.47036989e+00,\n",
              "       -1.70603869e+00, -1.43524936e+00, -1.50329194e+00, -5.21827568e-01,\n",
              "       -1.73012881e+00, -1.38431336e+00, -1.81331252e-02, -1.96736684e+00,\n",
              "       -1.71205268e+00, -1.79569897e-01, -1.75150136e+00, -1.47751956e+00,\n",
              "       -3.98343707e-01, -7.61848064e-01, -1.61065338e+00, -6.94984724e-01,\n",
              "       -1.81176642e+00, -1.38925698e+00, -1.88828711e+00, -1.89282010e+00,\n",
              "       -1.87184458e+00, -2.62872550e-01, -1.42284988e+00, -1.45835294e+00,\n",
              "       -9.47279887e-01, -1.80229918e-01, -1.58063878e+00, -1.11680871e+00,\n",
              "       -1.55742806e+00, -1.74061978e+00, -6.31720173e-01, -1.52741798e+00,\n",
              "       -2.02486102e+00, -1.47140828e+00, -1.84963037e+00, -1.44790287e+00,\n",
              "       -1.82188262e+00, -1.72118017e+00, -2.14502323e+00, -2.18273269e+00,\n",
              "       -1.75380674e+00, -1.08621182e+00, -1.57156947e+00, -1.51784880e+00,\n",
              "       -1.64464148e+00, -4.59003922e-01, -1.71351841e+00, -1.62368489e+00,\n",
              "       -2.51808173e+00, -1.41269136e+00, -7.20876887e-01, -1.48589504e+00,\n",
              "       -1.32415082e+00, -7.14515728e-01, -1.69494364e+00, -2.00197275e-01,\n",
              "       -9.00829633e-02, -1.87315872e+00, -1.44161283e+00, -1.74970787e+00,\n",
              "       -1.32895888e+00, -1.49814030e+00, -6.35978908e-01, -1.58222324e+00,\n",
              "       -7.32679013e-01, -1.80087597e+00, -1.98771534e+00, -1.84614010e+00,\n",
              "       -2.21187312e+00, -1.66470770e+00, -1.97159761e+00, -1.56205542e+00,\n",
              "       -1.50157455e+00, -2.06875119e+00, -1.52894012e+00, -1.64206782e+00,\n",
              "       -1.52157455e+00, -1.47460670e+00, -1.74102972e+00, -1.47814807e+00,\n",
              "       -1.96682714e+00, -1.71653174e+00, -2.02355780e+00, -1.61748254e+00,\n",
              "       -1.40195185e+00, -5.80973197e-01, -1.28956500e+00, -2.17538900e+00,\n",
              "       -1.11164456e-01, -1.89720962e+00, -1.66082718e+00, -1.78226089e+00,\n",
              "       -1.64246570e+00, -2.21858664e+00, -1.56099319e+00, -2.12568252e+00,\n",
              "       -1.53196041e+00, -8.93775551e-01, -1.65910270e+00, -7.73311610e-01,\n",
              "       -1.54647826e+00, -6.90245523e-01, -1.47319862e+00, -1.69540089e+00,\n",
              "       -1.45783836e+00, -1.31104166e+00, -1.30124331e+00, -1.72755487e-01,\n",
              "       -1.84769448e+00, -1.62680699e+00, -8.68568418e-01, -1.59217024e+00,\n",
              "       -1.72105052e-02, -1.56251571e+00, -2.00720458e+00, -3.55724190e-01,\n",
              "       -1.47410778e+00, -1.53028022e+00, -1.57754642e+00, -1.52768327e+00,\n",
              "       -5.09927340e-01, -1.48791495e+00, -1.71495818e+00, -1.61319694e+00,\n",
              "       -1.43084197e+00, -1.36720803e+00, -1.98307148e+00, -3.80364345e-01,\n",
              "       -1.56872189e+00, -1.03503657e+00, -1.46253352e+00, -1.41657380e+00,\n",
              "       -1.95604930e+00, -2.40705266e-02, -5.35598834e-01, -2.16197796e+00,\n",
              "       -1.75457225e+00, -2.00110389e+00, -3.86796915e-01, -1.70430478e+00,\n",
              "       -1.33800679e+00, -7.78710091e-01, -1.61593755e+00, -1.79036021e+00,\n",
              "       -5.49143148e-01, -1.95617901e+00, -2.14718768e+00, -5.71645877e-01,\n",
              "       -1.85269921e+00, -6.29448524e-02, -1.40582032e+00, -1.83533682e+00,\n",
              "       -2.14886421e+00, -2.63232841e+00, -5.48835391e-01, -1.74682080e+00,\n",
              "       -2.10226064e-01, -2.09679967e+00, -1.61675512e+00, -4.14554377e-01,\n",
              "       -1.54749742e+00, -1.55798802e+00, -1.48324384e+00, -1.42225059e+00,\n",
              "       -1.99092195e+00, -1.48489374e+00, -1.47492744e+00, -1.47472614e+00,\n",
              "       -6.66008732e-02, -1.86331267e+00, -1.56430183e+00, -1.45466674e+00,\n",
              "       -1.63347116e+00, -1.29120924e+00, -2.72691848e-01, -1.45462238e+00,\n",
              "       -1.85379899e+00, -2.12591596e+00, -1.61130717e+00, -1.68426692e+00,\n",
              "       -2.19458653e+00, -3.20333467e-01, -1.95140235e+00, -1.80581026e-01,\n",
              "       -3.50721175e-01, -1.44048320e+00, -1.51784608e+00, -2.11235038e+00,\n",
              "       -1.82726251e+00, -2.10167005e+00, -2.52506156e-01, -1.94433332e+00,\n",
              "       -1.42927356e+00, -3.70442177e-02, -1.48273146e+00, -5.95037597e-01,\n",
              "       -9.43421616e-01, -1.32397710e+00, -1.92239495e+00, -1.44474526e+00,\n",
              "       -1.63890879e+00, -1.73690175e+00, -1.47995469e+00, -1.62111454e+00,\n",
              "       -2.01675538e+00, -3.82025795e-01, -1.72348023e+00, -1.70975368e+00,\n",
              "       -1.60041558e+00, -7.36887573e-01, -9.05656211e-01, -1.80487173e+00,\n",
              "       -1.65091256e+00, -1.73749831e+00, -5.13208650e-01, -1.72398277e+00,\n",
              "       -4.12205410e-01, -1.74232098e+00, -6.51662585e-01, -1.75394637e+00,\n",
              "       -1.62900940e+00, -2.05811243e-01, -1.85324255e+00, -1.60053779e+00,\n",
              "       -1.43144494e+00, -1.30677628e+00, -1.76323552e+00, -1.71814670e+00,\n",
              "       -7.01232779e-01, -1.54594158e+00, -2.03995866e+00, -3.28862840e-01,\n",
              "       -1.98926768e+00, -7.17878784e-01, -1.66949437e+00, -2.32183652e-01,\n",
              "       -1.33072961e-01, -1.61005481e+00, -4.30601398e-01, -1.52170207e+00,\n",
              "       -1.65499805e+00, -1.63714566e+00, -7.94892847e-01,  9.36640307e-02,\n",
              "       -5.59733554e-01, -1.48756925e+00, -2.08403166e+00, -1.39715175e+00,\n",
              "       -1.46692692e+00, -5.49549270e-01, -1.57972927e+00, -1.76667886e+00,\n",
              "       -6.38414282e-01, -2.20325072e-01, -1.49086007e+00, -1.77370245e+00,\n",
              "       -1.38552637e+00, -1.78122042e+00, -2.54212450e+00, -9.95401881e-01,\n",
              "       -1.53308234e+00, -1.57200178e+00, -3.52561406e+00, -2.10427768e+00,\n",
              "       -1.40013232e+00, -1.75861879e-02, -1.63142686e+00, -1.62132155e+00,\n",
              "       -1.52542682e+00, -1.96261075e+00, -1.57776440e+00, -1.63889464e+00,\n",
              "       -1.41658484e+00, -1.56584038e+00, -1.42664405e+00, -1.52767277e+00,\n",
              "       -1.67535594e+00, -6.08220466e-01, -1.42085070e+00, -1.49288290e+00,\n",
              "       -2.05718834e+00, -2.15262462e+00, -2.97316295e+00, -5.19506947e-01,\n",
              "       -2.04091738e+00, -3.21309704e-01, -1.46507679e+00, -1.77715667e+00,\n",
              "       -1.66926498e+00, -2.00004762e+00, -1.43795021e+00, -7.39326468e-01,\n",
              "       -1.77855594e+00, -1.29411275e+00, -4.05709710e-01, -1.82073099e+00,\n",
              "       -2.58423109e-01, -4.85911475e-01, -1.59993554e+00,  9.59869212e-02,\n",
              "       -1.92622135e+00, -1.36895324e+00, -2.02942152e-02, -1.67147126e+00,\n",
              "       -1.51941204e+00, -1.74039307e+00, -1.91154117e+00, -7.24325934e-01,\n",
              "       -1.50821521e+00, -1.46380630e-01, -2.94825832e-01, -2.76141532e+00,\n",
              "       -3.67351717e-01, -1.46591867e+00, -9.37154490e-01, -1.89675654e+00,\n",
              "       -1.77867212e+00, -1.80894229e+00, -2.10911719e+00, -1.62643509e+00,\n",
              "       -2.14545781e+00, -3.19673309e-01, -2.07279983e+00, -1.61269549e+00,\n",
              "       -1.92732187e+00, -1.55538334e+00, -1.57172330e+00, -5.31806862e-01,\n",
              "       -1.93848379e+00, -1.07181007e+00, -8.42678134e-01, -4.27475835e-01,\n",
              "       -1.25119135e+00, -9.21067745e-01, -1.86009050e+00, -1.40282044e+00,\n",
              "       -2.07912956e+00, -1.66563006e+00, -1.12715800e+00, -1.64137398e+00,\n",
              "       -6.09453869e-01, -1.43659689e+00, -2.41453943e-01, -1.38629438e+00,\n",
              "       -1.10040591e+00, -1.69886500e+00, -9.39371294e-01, -1.62304207e+00,\n",
              "       -1.49084857e+00, -1.75052156e+00, -1.64163646e+00, -4.18364869e-01,\n",
              "       -3.10285345e-02, -1.41300974e+00, -1.64838418e+00, -1.64362325e+00,\n",
              "       -1.38441116e+00, -4.17637694e-01, -1.73636566e+00, -1.38936779e+00,\n",
              "       -1.56769766e-01, -9.30511922e-02, -3.67876937e-01, -1.89338449e+00,\n",
              "       -1.95655997e+00, -4.84029817e+00, -8.51203164e-01, -2.20560855e-01,\n",
              "       -1.47879395e+00, -1.28346136e+00, -1.58963702e+00, -8.34292333e-02,\n",
              "       -1.27366670e+00, -1.49401707e+00, -1.60603807e+00, -1.55351529e+00,\n",
              "       -2.43366045e+00,  4.01050383e-02, -1.70884408e+00, -1.42134441e+00,\n",
              "       -5.36879341e+00, -1.94803567e+00, -4.14005927e-01, -1.47369469e+00,\n",
              "       -1.29688522e+00, -1.69422933e+00, -2.05004756e+00, -4.98154815e-03,\n",
              "       -2.18098633e+00, -2.18189223e+00, -2.02621553e+00, -1.57227585e+00,\n",
              "       -1.53797989e+00, -1.53716892e+00, -7.04387698e-01, -1.85747604e+00,\n",
              "       -1.53452657e+00, -2.14975695e+00, -3.76007786e-01,  1.92170083e-03,\n",
              "       -1.54784686e+00, -1.75605944e+00, -6.35862888e-02, -2.17793339e+00,\n",
              "       -1.04741449e+00, -1.29358516e+00, -2.11591700e+00, -2.03495393e+00,\n",
              "       -3.01355683e+00, -1.44893268e+00, -1.67878296e+00, -2.12280257e+00,\n",
              "       -4.15177117e-01, -1.54579912e+00, -1.38816972e+00, -2.65426022e-01,\n",
              "       -2.17276245e+00, -2.60380559e-01, -9.80210823e-01, -1.99070871e-01,\n",
              "       -1.25967412e+00, -1.06982035e+00, -1.68910445e+00, -1.11337671e+00,\n",
              "       -1.73665459e+00, -1.58981502e+00, -6.61744172e-01, -1.49284860e+00,\n",
              "       -1.51843231e+00, -1.53757597e+00, -4.43645547e-01, -1.50737391e+00,\n",
              "       -1.81443501e+00, -2.07781222e+00, -2.08722585e+00, -6.42971745e-01,\n",
              "       -3.85562228e-03, -8.75362333e-01, -1.85362051e+00, -1.78453512e+00,\n",
              "       -1.64153873e+00, -8.71890378e-01, -2.08159571e+00, -6.17715447e-01,\n",
              "       -1.52159113e+00, -1.73942501e+00, -6.86818448e-01, -2.14474319e+00,\n",
              "       -1.24970308e+00, -2.20899176e+00, -1.61818178e-01, -1.54054601e+00,\n",
              "       -5.94121079e-01, -1.56565932e+00, -1.48140693e+00, -1.48418455e+00,\n",
              "       -1.85091361e+00, -2.62657001e+00, -1.71054975e+00, -2.01791691e+00,\n",
              "       -2.06706681e+00, -1.03500335e+00, -2.19906185e-03, -1.62484863e+00,\n",
              "       -1.59433908e+00, -2.02197923e+00, -2.18692257e+00, -2.00096619e+00,\n",
              "       -1.29797272e+00, -1.86837781e+00, -1.92100964e+00, -1.81458056e+00,\n",
              "       -7.15843538e-01, -8.79304534e-01, -1.90227283e+00, -1.44130669e-01,\n",
              "       -1.22548769e+00, -2.16986918e+00, -1.69525287e+00, -1.47287418e+00,\n",
              "       -1.79557531e+00, -1.91414483e+00, -1.50882571e+00, -1.61319090e+00,\n",
              "       -8.00445582e-01, -1.54317305e+00, -1.74752231e+00, -1.61548992e+00,\n",
              "       -3.83928220e-01, -6.82526619e-01, -2.19192858e+00, -1.77189504e+00,\n",
              "       -1.49286715e+00, -1.62272692e+00, -1.64982737e+00, -1.68345879e+00,\n",
              "       -8.96847659e-01, -1.29164060e+00, -5.15351136e-01, -1.22040795e+00,\n",
              "       -1.29407557e+00, -1.71143466e+00, -1.48722116e+00, -1.86502433e+00,\n",
              "       -1.67286574e+00, -1.51053514e+00, -2.18390893e+00, -1.61391460e+00,\n",
              "       -5.10911091e-02, -1.73087712e+00, -1.77445595e+00, -1.57047885e+00,\n",
              "       -1.37960814e-01, -1.54779412e+00, -1.30718697e+00, -1.63852867e+00,\n",
              "       -1.33355791e+00, -3.77026009e-01, -1.54885561e+00, -1.81139819e+00,\n",
              "       -1.55768642e+00, -1.06188866e+00, -1.55460252e+00, -3.88067434e-01,\n",
              "       -1.37657186e+00, -1.81247318e+00, -1.80019160e+00, -1.62503714e+00,\n",
              "       -6.30710919e-01, -1.65819604e+00, -1.36470054e+00, -1.90832659e+00,\n",
              "       -3.73616547e-01, -6.89911428e-02, -1.85635928e+00, -1.68923670e+00,\n",
              "       -1.23246799e+00, -5.56145846e-01, -1.99204871e+00, -2.65534904e+00,\n",
              "       -1.53658660e+00, -2.02204019e-01, -3.90526379e-01, -2.12509989e+00,\n",
              "       -1.84799210e+00, -2.15072915e+00, -3.95425837e-02, -2.11866983e+00,\n",
              "       -1.70358702e+00, -6.98730502e-01, -1.93860162e+00, -1.52101888e+00,\n",
              "       -7.26157187e-01, -1.69121374e+00, -6.40050360e-01, -2.66616193e-01,\n",
              "       -1.79770162e+00, -1.55729760e+00, -1.95459624e+00, -1.98327682e+00,\n",
              "       -1.95160469e+00, -1.47865321e+00, -1.49669285e+00, -1.49815834e+00,\n",
              "       -4.70097356e-01, -1.44224210e+00, -2.22743662e+00, -1.00094247e+00,\n",
              "       -8.79405507e-01, -1.40973319e+00, -4.08661256e+00,  7.41537834e-02,\n",
              "       -1.73158208e+00, -1.47397331e+00, -8.73821365e-02, -2.39141319e-01,\n",
              "       -8.91168295e-01, -1.44468053e+00, -3.52857421e-01, -1.25848495e-01,\n",
              "       -5.49083811e-01, -1.62169520e+00, -1.44082195e+00, -2.15717926e+00,\n",
              "       -7.80595661e-01, -7.90124122e-01, -1.64795662e+00, -4.20772846e-01,\n",
              "       -1.95602781e+00, -7.17991977e-01, -1.61650279e+00, -1.74611358e+00,\n",
              "       -4.90801932e-01, -1.65512464e+00, -1.52106321e+00, -1.14412654e+00,\n",
              "       -1.84300358e+00, -1.77576265e+00, -1.58664050e+00, -2.13352193e+00,\n",
              "       -1.58523740e+00, -1.47809232e+00, -1.96578014e+00, -5.24056163e-01,\n",
              "       -1.35074896e+00, -1.41109889e+00, -1.55065171e+00, -1.72409090e+00,\n",
              "       -1.56481489e+00, -1.56569067e+00, -1.34167917e+00, -3.32205418e+00,\n",
              "       -6.00245662e-01, -1.66280236e+00, -2.58187103e-01, -1.90827626e+00,\n",
              "       -1.73467184e+00, -2.19421237e+00, -4.13603680e-01, -1.47745308e+00,\n",
              "       -1.55698974e+00, -3.05754300e-01, -5.86728905e-01, -1.75854065e+00,\n",
              "       -2.31858881e-01, -1.70959269e+00, -9.68106329e-01, -1.54426303e+00,\n",
              "       -1.78890124e+00, -4.20105534e-01, -1.63186032e+00, -1.35679245e+00,\n",
              "       -1.70004695e+00, -1.34308849e+00, -1.56063721e+00, -1.18188136e+00,\n",
              "       -6.75249052e-01, -2.16612310e+00, -2.25023034e+00, -1.83470383e+00,\n",
              "       -1.84870205e-01, -2.57244234e-02, -3.22737276e-02, -4.50715808e-01,\n",
              "       -1.46363546e+00, -1.28295978e+00, -1.68525342e+00, -8.47105799e-01,\n",
              "       -1.45787131e+00, -1.77696426e+00, -8.77151468e-01, -1.45508632e+00,\n",
              "       -1.41935833e+00, -1.70763799e-01, -1.05612776e+00, -1.47262340e+00,\n",
              "       -2.07476356e+00, -1.67434302e+00, -8.24451210e-01, -3.54001838e-01,\n",
              "       -1.33737612e+00, -2.00954111e+00, -3.95872883e-01, -4.24980497e-02,\n",
              "       -1.61563346e+00, -1.42112587e+00, -1.81873177e+00, -1.61077177e+00])"
            ]
          },
          "metadata": {},
          "execution_count": 16
        }
      ]
    },
    {
      "cell_type": "markdown",
      "source": [
        "- 클러스터의 모양과 방향의 범위를 제한하면, EM이 최적의 솔루션으로 수렴하기 수월해짐\n",
        "  - covariance_type에 제약을 추가\n",
        "    - spherical: 모든 클러스터가 원형이나 지름은 다를 수 있음(분산이 다름)\n",
        "    - diag: 클러스터가 크기에 상관없이 어떤 타원형도 가능하나, 타원의 축은 좌표 축과 나란함\n",
        "    - tied: 모든 클러스터가 동일한 타원 모양 크기, 방향을 가짐"
      ],
      "metadata": {
        "id": "Y7CJ6bbOX7QR"
      }
    },
    {
      "cell_type": "markdown",
      "source": [
        "**9.2.1 가우시안 혼합을 사용한 이상치 탐지\n",
        "- 이상치 탐지: 보통과 많이 다른 샘플을 탐지하는 것\n",
        "- 가우시안 혼합 모델에서 이상치는 밀도가 낮은 지역에 있는 모든 샘플이라고 보면 됨\n",
        "  - 즉, 밀도 임계값을 정해, 임계값보다 낮은 값을 이상치로 보는 것"
      ],
      "metadata": {
        "id": "tIyp5uwfYWhz"
      }
    },
    {
      "cell_type": "code",
      "source": [
        "densities = gm.score_samples(X)\n",
        "density_threshold = np.percentile(densities, 4)\n",
        "amonalies = X[densities < density_threshold]"
      ],
      "metadata": {
        "id": "z4c0sf3cXSEB"
      },
      "execution_count": 17,
      "outputs": []
    },
    {
      "cell_type": "markdown",
      "source": [
        "- 이상치 탐지와 비슷하게 특이치 탐지도 존재\n",
        "  - 이상치로 오염되지 않은 깨끗한 데이터 셋에서 훈련 진행"
      ],
      "metadata": {
        "id": "zp1uaHxmY3Rq"
      }
    },
    {
      "cell_type": "markdown",
      "source": [
        "**9.2.2 클러스터 개수 선택하기**\n",
        "- 가우시안 혼합모델에서는 BIC와 AIC와 같은 이론적 정보기준을 최소화하는 지표를 이용하여 적절한 클러스터의 개수를 찾아냄\n",
        "  - 이 두 평가지표 모두 학습할 파라미터가 많은 모델에게 벌칙을 가하고 데이터에 잘 학습하는 모델에게 보상을 더하는 방식임\n",
        "  - 둘은 선택은 대다수 동일하나, 일부 다른 경우 대개 BIC가 선택한 모델이 AIC가 선택한 모델보다 간단한 경향이 존재"
      ],
      "metadata": {
        "id": "JPR85IvJY_rW"
      }
    },
    {
      "cell_type": "code",
      "source": [
        "gm.bic(X)"
      ],
      "metadata": {
        "colab": {
          "base_uri": "https://localhost:8080/"
        },
        "id": "7kU6sX4UZihC",
        "outputId": "62885d05-c6ed-432c-cf13-0d7c8ad74b66"
      },
      "execution_count": 18,
      "outputs": [
        {
          "output_type": "execute_result",
          "data": {
            "text/plain": [
              "np.float64(2798.7879954096456)"
            ]
          },
          "metadata": {},
          "execution_count": 18
        }
      ]
    },
    {
      "cell_type": "code",
      "source": [
        "gm.aic(X)"
      ],
      "metadata": {
        "colab": {
          "base_uri": "https://localhost:8080/"
        },
        "id": "yUH-VpwfZjxR",
        "outputId": "f0315cb1-56ee-47f7-f6f7-be867d961645"
      },
      "execution_count": 19,
      "outputs": [
        {
          "output_type": "execute_result",
          "data": {
            "text/plain": [
              "np.float64(2715.3561556669492)"
            ]
          },
          "metadata": {},
          "execution_count": 19
        }
      ]
    },
    {
      "cell_type": "markdown",
      "source": [
        "- covariance_type 매개변수에 데해 최선의 값을 탐색할 수도 있음\n",
        "\n",
        "**9.2.3 베이즈 가우시안 혼합 모델**\n",
        "- 최적의 클러스터 개수를 수동으로 찾는 것이 아닌 불필요한 클러스터의 가중치를 0으로 두는 방식\n",
        "- n_components를 최적의 클러스터 개수보다 크다고 믿을 만한 값으로 지정한 후, 자동으로 불필요한 클러스터를 제거함"
      ],
      "metadata": {
        "id": "0_ZBOPvxZonr"
      }
    },
    {
      "cell_type": "code",
      "source": [
        "from sklearn.mixture import BayesianGaussianMixture\n",
        "bgm = BayesianGaussianMixture(n_components= 10, n_init=10)\n",
        "bgm.fit(X)\n",
        "np.round(bgm.weights_, 2)"
      ],
      "metadata": {
        "colab": {
          "base_uri": "https://localhost:8080/"
        },
        "id": "uhQVoLZrZk6y",
        "outputId": "156bee5b-d87f-4c0c-e269-507b3068470e"
      },
      "execution_count": 21,
      "outputs": [
        {
          "output_type": "execute_result",
          "data": {
            "text/plain": [
              "array([0.13, 0.13, 0.18, 0.11, 0.15, 0.12, 0.11, 0.08, 0.  , 0.  ])"
            ]
          },
          "metadata": {},
          "execution_count": 21
        }
      ]
    },
    {
      "cell_type": "markdown",
      "source": [
        "- 이 모델이서 클러스터 파라미터는 고정된 모델 파라미터가 아닌, 클러스터 할당과 같은 잠재 확률변수가 됨\n",
        "- 베타 분포: 고정 범위 안에 놓인 값을 가진 확률 변수를 모델링할 때 사용하는 분포\n",
        "  - 범위는 0에서 1 사이\n",
        "  - 새로운 샘플이 작은 클러스터보다 큰 클러스터에 합류할 가능성이 높은 데이터셋에 잘맞음\n",
        "  - 잠재변수 z에 대한 사전지식이 사전 확률이라는 확률분포에 인코딩되어, 사전 믿음을 가질 수 있음\n",
        "    - 이러한 사전 믿음은 weight_concentration_prior 매개변수로 조정 가능\n",
        "- 베이즈 정리는 이렇게 데이터 X가 주어졌을 때 z의 조건부 확률인 사후 확률 분포를 계산하게 됨\n",
        "  - 하지만 이 사후 확률의 분모인 p(X)를 직접알기 어렵다는 점이 베이즈 정리의 문제임\n",
        "    -이를 해결하기 위하여 변분추론 방식을 사용\n",
        "- 변분 추론: 자체적인 변분 파라미터를 가진 분포 패밀리를 선택하고 다음 확률이 이 분포 패밀리에 좋은 근삿값이 되도록 파라미터를 최적화 함\n",
        "  - 이는 다음 확률에서 분포패밀리로의 KL 발산을 최소화하는 $\\lambda$를 찾아야 함\n",
        "    - 이 식을 다시 작성하면 증거의 로그에서 증거 하한(ELBO)를 뺀 식으로 작성 가능\n",
        "    - 즉, KL 발산을 최소화하기 위해선 ELBO를 최대화 해야 함\n",
        "- ELBO를 최대화하는 간단한 방법 중 하나는 블랙 박스 확률적 변분 추론임\n",
        "  - 각 반복에서 몇개의 샘플을 q에서 뽑아 변분 파라미터 $\\lambda$에 대한 ELBO의 그레이디언트를 추정하는데 사용됨"
      ],
      "metadata": {
        "id": "Hz8hMhwkabN7"
      }
    },
    {
      "cell_type": "markdown",
      "source": [
        "**9.2.4 이상치 탐지와 특이치 탐지를 위한 다른 알고리즘**\n",
        "- PCA: 보통 샘플의 재구성 오차와 이상치의 재구성 오차를 비교하면 일반적으론 후자가 더욱 큼\n",
        "- Fast-MCD: 이상치 감지에 유용한 알고리즘으로, 데이터 셋을 정제할 때 사용됨. 보통 샘플이 하나의 가우시안 분포에서 생성되었다고 가정하면, 이 가우시안 분포에서 생성되지 않은 이상치로 이 데이터셋은 오염되었다고 가정함\n",
        "- 아이솔레이션 포레스트: 고차원 데이터셋에서 이상치 감지를 위한 효율적인 알고리즘으로, 무작위로 성장한 결정 트리로 구성된 랜덤 포레스트를 만들어 각 노드에서 특성을 랜덤하게 선택한 다음, 랜덤한 임계값을 골라 데이터 셋을 점차 분리하여 다른 샘플과 격리 될 때까지 진행함\n",
        "- LOF: 주어진 샘플 주위의 밀도와 이웃 주위의 밀도를 비교하는 방법\n",
        "- one-clas SVM: 특이치 탐지에 적합하며, 원본 공간으로부터 고차원 공간에 있는 샘플을 분리하게 됨, 대규모 데이터셋으로의 확장이 어려움"
      ],
      "metadata": {
        "id": "InKo9KLxcOU1"
      }
    }
  ]
}