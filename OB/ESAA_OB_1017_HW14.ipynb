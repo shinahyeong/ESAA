{
  "nbformat": 4,
  "nbformat_minor": 0,
  "metadata": {
    "colab": {
      "provenance": []
    },
    "kernelspec": {
      "name": "python3",
      "display_name": "Python 3"
    },
    "language_info": {
      "name": "python"
    }
  },
  "cells": [
    {
      "cell_type": "markdown",
      "source": [
        "##07. 행렬 분해를 이용한 잠재 요인 협업 필터링 실습"
      ],
      "metadata": {
        "id": "inaMgZV4q3Zs"
      }
    },
    {
      "cell_type": "markdown",
      "source": [
        "- 일반적으로 행렬 분해 에는 SVD가 자주 사용되지만 사용자-아이템 평점 행렬에는 사용자가 평점을 매기지 않은 널 데이터가 많음 -> 주로 SGD나 ALS기반의 행렬분해를 이용함\n",
        "- 이번에는 SGD 기반의 행렬 분해를 구현하고 이를 기반으로 사용자에게 영화를 추천하는 실습을 구현해보고자 함"
      ],
      "metadata": {
        "id": "UQW1qOJ_q_S8"
      }
    },
    {
      "cell_type": "code",
      "source": [
        "import pandas as pd\n",
        "import numpy as np\n",
        "from sklearn.metrics import mean_squared_error"
      ],
      "metadata": {
        "id": "w5iZUZNAFvXQ"
      },
      "execution_count": 1,
      "outputs": []
    },
    {
      "cell_type": "code",
      "source": [
        "from sklearn.metrics import mean_squared_error\n",
        "\n",
        "def get_rmse(R,P,Q,non_zeros):\n",
        "  error=0\n",
        "  # 두 개의 분해된 행렬 P와 Q.T의 내적으로 예측 R 행렬 생성\n",
        "  full_pred_metrix = np.dot(P,Q.T)\n",
        "\n",
        "  # 실제 R 행렬에서 널이 아닌 값의 위치 인덱스를 추출해 실제 R 행렬과 예측 행렬의 RMSE 추출\n",
        "  x_non_zero_ind = [non_zero[0] for non_zero in non_zeros]\n",
        "  y_non_zero_ind = [non_zero[1] for non_zero in non_zeros]\n",
        "  R_non_zeros = R[x_non_zero_ind, y_non_zero_ind]\n",
        "  full_pred_matrix_non_zeros = full_pred_metrix[x_non_zero_ind, y_non_zero_ind]\n",
        "  mse = mean_squared_error(R_non_zeros, full_pred_matrix_non_zeros)\n",
        "  rmse = np.sqrt(mse)\n",
        "\n",
        "  return rmse"
      ],
      "metadata": {
        "id": "RoDHAZJFFrnr"
      },
      "execution_count": 2,
      "outputs": []
    },
    {
      "cell_type": "code",
      "execution_count": 3,
      "metadata": {
        "id": "Fq_CBoWFqwC_"
      },
      "outputs": [],
      "source": [
        "def matrix_factorization(R, K, steps=200, learning_rate=0.01, r_lambda=0.01):\n",
        "  num_users, num_items = R.shape\n",
        "  #P와 Q 매트릭스의 크기를 지정하고 정규 분포를 가진 랜덤한 값으로 입력합니다.\n",
        "  np.random.seed(1)\n",
        "  P=np.random.normal(scale=1./K, size=(num_users, K))\n",
        "  Q=np.random.normal(scale=1./K, size=(num_items, K))\n",
        "\n",
        "  # R>0인 행 위치, 열 위치, 값을 non_zeros 리스트 객체에 저장.\n",
        "  non_zeros = [(i,j, R[i,j]) for i in range(num_users) for j in range(num_items) if R[i, j]>0]\n",
        "\n",
        "  # SGD 기법으로 P와 Q 매트릭스를 계속 업데이트.\n",
        "  for step in range(steps):\n",
        "    for i,j, r in non_zeros:\n",
        "      # 실제 값과 예측 값의 차이인 오류 값 구함\n",
        "      eij = r-np.dot(P[i,:], Q[j,:].T)\n",
        "      # Regularization을 반영한 SGD 업데이트 공식 적용\n",
        "      P[i,:] = P[i,:] + learning_rate*(eij*Q[j,:] - r_lambda*P[i,:])\n",
        "      Q[j,:] = Q[j,:] + learning_rate*(eij*P[i,:] - r_lambda*Q[j,:])\n",
        "\n",
        "    rmse = get_rmse(R, P, Q, non_zeros)\n",
        "    if(step % 10) ==0:\n",
        "      print(\"### iteration step: \",step, \"rmse:\", rmse)\n",
        "\n",
        "  return P, Q"
      ]
    },
    {
      "cell_type": "code",
      "source": [
        "# 영화 평점 행렬 데이터를 새롭게 DataFrame으로 로딩 후 다시 사용자-아이템 평점 행렬로 생성\n",
        "import pandas as pd\n",
        "import numpy as np\n",
        "\n",
        "from google.colab import drive\n",
        "drive.mount('/content/drive')\n",
        "movies = pd.read_csv('/content/drive/MyDrive/Colab Notebooks/ml-latest-small/movies.csv')\n",
        "ratings = pd.read_csv('/content/drive/MyDrive/Colab Notebooks/ml-latest-small/ratings.csv')\n",
        "ratings = ratings[['userId', 'movieId', 'rating']]\n",
        "ratings_matrix = ratings.pivot_table('rating', index='userId', columns = 'movieId')\n",
        "\n",
        "# title 칼럼을 얻기 위해 movies와 조인 수행\n",
        "rating_movies = pd.merge(ratings, movies, on='movieId')\n",
        "\n",
        "# columns='title'로 title 칼럼으로 pivot 수행.\n",
        "ratings_matrix = rating_movies.pivot_table('rating', index='userId', columns='title')"
      ],
      "metadata": {
        "colab": {
          "base_uri": "https://localhost:8080/"
        },
        "id": "-2WIldhoaVGw",
        "outputId": "7580b264-9094-40e6-f2da-53e2cfccca7e"
      },
      "execution_count": 4,
      "outputs": [
        {
          "output_type": "stream",
          "name": "stdout",
          "text": [
            "Mounted at /content/drive\n"
          ]
        }
      ]
    },
    {
      "cell_type": "code",
      "source": [
        "P, Q = matrix_factorization(ratings_matrix.values, K=50, steps=200, learning_rate=0.01, r_lambda=0.01)\n",
        "pred_matrix = np.dot(P,Q.T)"
      ],
      "metadata": {
        "colab": {
          "base_uri": "https://localhost:8080/"
        },
        "id": "2DbYlwHEbTWO",
        "outputId": "e47eb231-23ac-4422-ed5c-d95bbb305ea8"
      },
      "execution_count": 5,
      "outputs": [
        {
          "output_type": "stream",
          "name": "stdout",
          "text": [
            "### iteration step:  0 rmse: 2.9023619751336867\n",
            "### iteration step:  10 rmse: 0.7335768591017927\n",
            "### iteration step:  20 rmse: 0.5115539026853442\n",
            "### iteration step:  30 rmse: 0.37261628282537446\n",
            "### iteration step:  40 rmse: 0.2960818299181014\n",
            "### iteration step:  50 rmse: 0.2520353192341642\n",
            "### iteration step:  60 rmse: 0.22487503275269854\n",
            "### iteration step:  70 rmse: 0.2068545530233154\n",
            "### iteration step:  80 rmse: 0.19413418783028685\n",
            "### iteration step:  90 rmse: 0.18470082002720406\n",
            "### iteration step:  100 rmse: 0.17742927527209104\n",
            "### iteration step:  110 rmse: 0.1716522696470749\n",
            "### iteration step:  120 rmse: 0.16695181946871726\n",
            "### iteration step:  130 rmse: 0.16305292191997542\n",
            "### iteration step:  140 rmse: 0.15976691929679646\n",
            "### iteration step:  150 rmse: 0.1569598699945732\n",
            "### iteration step:  160 rmse: 0.15453398186715425\n",
            "### iteration step:  170 rmse: 0.15241618551077643\n",
            "### iteration step:  180 rmse: 0.1505508073962831\n",
            "### iteration step:  190 rmse: 0.1488947091323209\n"
          ]
        }
      ]
    },
    {
      "cell_type": "code",
      "source": [
        "# 반환된 예측 사용자-아이템 평점 행렬을 영화 타이틀을 칼럼명으로 가지는 데이터프레임으로 변경\n",
        "ratings_pred_matrix = pd.DataFrame(data=pred_matrix, index=ratings_matrix.index, columns=ratings_matrix.columns)\n",
        "ratings_pred_matrix.head(3)"
      ],
      "metadata": {
        "id": "XX9PkVs9bTTq",
        "colab": {
          "base_uri": "https://localhost:8080/",
          "height": 341
        },
        "outputId": "055f1049-54e5-496f-e49b-05f7e518277b"
      },
      "execution_count": 6,
      "outputs": [
        {
          "output_type": "execute_result",
          "data": {
            "text/plain": [
              "title   '71 (2014)  'Hellboy': The Seeds of Creation (2004)  \\\n",
              "userId                                                        \n",
              "1         3.055084                                 4.092018   \n",
              "2         3.170119                                 3.657992   \n",
              "3         2.307073                                 1.658853   \n",
              "\n",
              "title   'Round Midnight (1986)  'Salem's Lot (2004)  \\\n",
              "userId                                                \n",
              "1                     3.564130             4.502167   \n",
              "2                     3.308707             4.166521   \n",
              "3                     1.443538             2.208859   \n",
              "\n",
              "title   'Til There Was You (1997)  'Tis the Season for Love (2015)  \\\n",
              "userId                                                               \n",
              "1                        3.981215                         1.271694   \n",
              "2                        4.311890                         1.275469   \n",
              "3                        2.229486                         0.780760   \n",
              "\n",
              "title   'burbs, The (1989)  'night Mother (1986)  (500) Days of Summer (2009)  \\\n",
              "userId                                                                          \n",
              "1                 3.603274              2.333266                     5.091749   \n",
              "2                 4.237972              1.900366                     3.392859   \n",
              "3                 1.997043              0.924908                     2.970700   \n",
              "\n",
              "title   *batteries not included (1987)  ...  Zulu (2013)  [REC] (2007)  \\\n",
              "userId                                  ...                              \n",
              "1                             3.972454  ...     1.402608      4.208382   \n",
              "2                             3.647421  ...     0.973811      3.528264   \n",
              "3                             2.551446  ...     0.520354      1.709494   \n",
              "\n",
              "title   [REC]² (2009)  [REC]³ 3 Génesis (2012)  \\\n",
              "userId                                           \n",
              "1            3.705957                 2.720514   \n",
              "2            3.361532                 2.672535   \n",
              "3            2.281596                 1.782833   \n",
              "\n",
              "title   anohana: The Flower We Saw That Day - The Movie (2013)  \\\n",
              "userId                                                           \n",
              "1                                                2.787331        \n",
              "2                                                2.404456        \n",
              "3                                                1.635173        \n",
              "\n",
              "title   eXistenZ (1999)  xXx (2002)  xXx: State of the Union (2005)  \\\n",
              "userId                                                                \n",
              "1              3.475076    3.253458                        2.161087   \n",
              "2              4.232789    2.911602                        1.634576   \n",
              "3              1.323276    2.887580                        1.042618   \n",
              "\n",
              "title   ¡Three Amigos! (1986)  À nous la liberté (Freedom for Us) (1931)  \n",
              "userId                                                                    \n",
              "1                    4.010495                                   0.859474  \n",
              "2                    4.135735                                   0.725684  \n",
              "3                    2.293890                                   0.396941  \n",
              "\n",
              "[3 rows x 9719 columns]"
            ],
            "text/html": [
              "\n",
              "  <div id=\"df-109ade29-2768-4a2b-948c-07f2ab322a4d\" class=\"colab-df-container\">\n",
              "    <div>\n",
              "<style scoped>\n",
              "    .dataframe tbody tr th:only-of-type {\n",
              "        vertical-align: middle;\n",
              "    }\n",
              "\n",
              "    .dataframe tbody tr th {\n",
              "        vertical-align: top;\n",
              "    }\n",
              "\n",
              "    .dataframe thead th {\n",
              "        text-align: right;\n",
              "    }\n",
              "</style>\n",
              "<table border=\"1\" class=\"dataframe\">\n",
              "  <thead>\n",
              "    <tr style=\"text-align: right;\">\n",
              "      <th>title</th>\n",
              "      <th>'71 (2014)</th>\n",
              "      <th>'Hellboy': The Seeds of Creation (2004)</th>\n",
              "      <th>'Round Midnight (1986)</th>\n",
              "      <th>'Salem's Lot (2004)</th>\n",
              "      <th>'Til There Was You (1997)</th>\n",
              "      <th>'Tis the Season for Love (2015)</th>\n",
              "      <th>'burbs, The (1989)</th>\n",
              "      <th>'night Mother (1986)</th>\n",
              "      <th>(500) Days of Summer (2009)</th>\n",
              "      <th>*batteries not included (1987)</th>\n",
              "      <th>...</th>\n",
              "      <th>Zulu (2013)</th>\n",
              "      <th>[REC] (2007)</th>\n",
              "      <th>[REC]² (2009)</th>\n",
              "      <th>[REC]³ 3 Génesis (2012)</th>\n",
              "      <th>anohana: The Flower We Saw That Day - The Movie (2013)</th>\n",
              "      <th>eXistenZ (1999)</th>\n",
              "      <th>xXx (2002)</th>\n",
              "      <th>xXx: State of the Union (2005)</th>\n",
              "      <th>¡Three Amigos! (1986)</th>\n",
              "      <th>À nous la liberté (Freedom for Us) (1931)</th>\n",
              "    </tr>\n",
              "    <tr>\n",
              "      <th>userId</th>\n",
              "      <th></th>\n",
              "      <th></th>\n",
              "      <th></th>\n",
              "      <th></th>\n",
              "      <th></th>\n",
              "      <th></th>\n",
              "      <th></th>\n",
              "      <th></th>\n",
              "      <th></th>\n",
              "      <th></th>\n",
              "      <th></th>\n",
              "      <th></th>\n",
              "      <th></th>\n",
              "      <th></th>\n",
              "      <th></th>\n",
              "      <th></th>\n",
              "      <th></th>\n",
              "      <th></th>\n",
              "      <th></th>\n",
              "      <th></th>\n",
              "      <th></th>\n",
              "    </tr>\n",
              "  </thead>\n",
              "  <tbody>\n",
              "    <tr>\n",
              "      <th>1</th>\n",
              "      <td>3.055084</td>\n",
              "      <td>4.092018</td>\n",
              "      <td>3.564130</td>\n",
              "      <td>4.502167</td>\n",
              "      <td>3.981215</td>\n",
              "      <td>1.271694</td>\n",
              "      <td>3.603274</td>\n",
              "      <td>2.333266</td>\n",
              "      <td>5.091749</td>\n",
              "      <td>3.972454</td>\n",
              "      <td>...</td>\n",
              "      <td>1.402608</td>\n",
              "      <td>4.208382</td>\n",
              "      <td>3.705957</td>\n",
              "      <td>2.720514</td>\n",
              "      <td>2.787331</td>\n",
              "      <td>3.475076</td>\n",
              "      <td>3.253458</td>\n",
              "      <td>2.161087</td>\n",
              "      <td>4.010495</td>\n",
              "      <td>0.859474</td>\n",
              "    </tr>\n",
              "    <tr>\n",
              "      <th>2</th>\n",
              "      <td>3.170119</td>\n",
              "      <td>3.657992</td>\n",
              "      <td>3.308707</td>\n",
              "      <td>4.166521</td>\n",
              "      <td>4.311890</td>\n",
              "      <td>1.275469</td>\n",
              "      <td>4.237972</td>\n",
              "      <td>1.900366</td>\n",
              "      <td>3.392859</td>\n",
              "      <td>3.647421</td>\n",
              "      <td>...</td>\n",
              "      <td>0.973811</td>\n",
              "      <td>3.528264</td>\n",
              "      <td>3.361532</td>\n",
              "      <td>2.672535</td>\n",
              "      <td>2.404456</td>\n",
              "      <td>4.232789</td>\n",
              "      <td>2.911602</td>\n",
              "      <td>1.634576</td>\n",
              "      <td>4.135735</td>\n",
              "      <td>0.725684</td>\n",
              "    </tr>\n",
              "    <tr>\n",
              "      <th>3</th>\n",
              "      <td>2.307073</td>\n",
              "      <td>1.658853</td>\n",
              "      <td>1.443538</td>\n",
              "      <td>2.208859</td>\n",
              "      <td>2.229486</td>\n",
              "      <td>0.780760</td>\n",
              "      <td>1.997043</td>\n",
              "      <td>0.924908</td>\n",
              "      <td>2.970700</td>\n",
              "      <td>2.551446</td>\n",
              "      <td>...</td>\n",
              "      <td>0.520354</td>\n",
              "      <td>1.709494</td>\n",
              "      <td>2.281596</td>\n",
              "      <td>1.782833</td>\n",
              "      <td>1.635173</td>\n",
              "      <td>1.323276</td>\n",
              "      <td>2.887580</td>\n",
              "      <td>1.042618</td>\n",
              "      <td>2.293890</td>\n",
              "      <td>0.396941</td>\n",
              "    </tr>\n",
              "  </tbody>\n",
              "</table>\n",
              "<p>3 rows × 9719 columns</p>\n",
              "</div>\n",
              "    <div class=\"colab-df-buttons\">\n",
              "\n",
              "  <div class=\"colab-df-container\">\n",
              "    <button class=\"colab-df-convert\" onclick=\"convertToInteractive('df-109ade29-2768-4a2b-948c-07f2ab322a4d')\"\n",
              "            title=\"Convert this dataframe to an interactive table.\"\n",
              "            style=\"display:none;\">\n",
              "\n",
              "  <svg xmlns=\"http://www.w3.org/2000/svg\" height=\"24px\" viewBox=\"0 -960 960 960\">\n",
              "    <path d=\"M120-120v-720h720v720H120Zm60-500h600v-160H180v160Zm220 220h160v-160H400v160Zm0 220h160v-160H400v160ZM180-400h160v-160H180v160Zm440 0h160v-160H620v160ZM180-180h160v-160H180v160Zm440 0h160v-160H620v160Z\"/>\n",
              "  </svg>\n",
              "    </button>\n",
              "\n",
              "  <style>\n",
              "    .colab-df-container {\n",
              "      display:flex;\n",
              "      gap: 12px;\n",
              "    }\n",
              "\n",
              "    .colab-df-convert {\n",
              "      background-color: #E8F0FE;\n",
              "      border: none;\n",
              "      border-radius: 50%;\n",
              "      cursor: pointer;\n",
              "      display: none;\n",
              "      fill: #1967D2;\n",
              "      height: 32px;\n",
              "      padding: 0 0 0 0;\n",
              "      width: 32px;\n",
              "    }\n",
              "\n",
              "    .colab-df-convert:hover {\n",
              "      background-color: #E2EBFA;\n",
              "      box-shadow: 0px 1px 2px rgba(60, 64, 67, 0.3), 0px 1px 3px 1px rgba(60, 64, 67, 0.15);\n",
              "      fill: #174EA6;\n",
              "    }\n",
              "\n",
              "    .colab-df-buttons div {\n",
              "      margin-bottom: 4px;\n",
              "    }\n",
              "\n",
              "    [theme=dark] .colab-df-convert {\n",
              "      background-color: #3B4455;\n",
              "      fill: #D2E3FC;\n",
              "    }\n",
              "\n",
              "    [theme=dark] .colab-df-convert:hover {\n",
              "      background-color: #434B5C;\n",
              "      box-shadow: 0px 1px 3px 1px rgba(0, 0, 0, 0.15);\n",
              "      filter: drop-shadow(0px 1px 2px rgba(0, 0, 0, 0.3));\n",
              "      fill: #FFFFFF;\n",
              "    }\n",
              "  </style>\n",
              "\n",
              "    <script>\n",
              "      const buttonEl =\n",
              "        document.querySelector('#df-109ade29-2768-4a2b-948c-07f2ab322a4d button.colab-df-convert');\n",
              "      buttonEl.style.display =\n",
              "        google.colab.kernel.accessAllowed ? 'block' : 'none';\n",
              "\n",
              "      async function convertToInteractive(key) {\n",
              "        const element = document.querySelector('#df-109ade29-2768-4a2b-948c-07f2ab322a4d');\n",
              "        const dataTable =\n",
              "          await google.colab.kernel.invokeFunction('convertToInteractive',\n",
              "                                                    [key], {});\n",
              "        if (!dataTable) return;\n",
              "\n",
              "        const docLinkHtml = 'Like what you see? Visit the ' +\n",
              "          '<a target=\"_blank\" href=https://colab.research.google.com/notebooks/data_table.ipynb>data table notebook</a>'\n",
              "          + ' to learn more about interactive tables.';\n",
              "        element.innerHTML = '';\n",
              "        dataTable['output_type'] = 'display_data';\n",
              "        await google.colab.output.renderOutput(dataTable, element);\n",
              "        const docLink = document.createElement('div');\n",
              "        docLink.innerHTML = docLinkHtml;\n",
              "        element.appendChild(docLink);\n",
              "      }\n",
              "    </script>\n",
              "  </div>\n",
              "\n",
              "\n",
              "    <div id=\"df-a11bb744-8568-4a9c-8078-bf52d0f0b463\">\n",
              "      <button class=\"colab-df-quickchart\" onclick=\"quickchart('df-a11bb744-8568-4a9c-8078-bf52d0f0b463')\"\n",
              "                title=\"Suggest charts\"\n",
              "                style=\"display:none;\">\n",
              "\n",
              "<svg xmlns=\"http://www.w3.org/2000/svg\" height=\"24px\"viewBox=\"0 0 24 24\"\n",
              "     width=\"24px\">\n",
              "    <g>\n",
              "        <path d=\"M19 3H5c-1.1 0-2 .9-2 2v14c0 1.1.9 2 2 2h14c1.1 0 2-.9 2-2V5c0-1.1-.9-2-2-2zM9 17H7v-7h2v7zm4 0h-2V7h2v10zm4 0h-2v-4h2v4z\"/>\n",
              "    </g>\n",
              "</svg>\n",
              "      </button>\n",
              "\n",
              "<style>\n",
              "  .colab-df-quickchart {\n",
              "      --bg-color: #E8F0FE;\n",
              "      --fill-color: #1967D2;\n",
              "      --hover-bg-color: #E2EBFA;\n",
              "      --hover-fill-color: #174EA6;\n",
              "      --disabled-fill-color: #AAA;\n",
              "      --disabled-bg-color: #DDD;\n",
              "  }\n",
              "\n",
              "  [theme=dark] .colab-df-quickchart {\n",
              "      --bg-color: #3B4455;\n",
              "      --fill-color: #D2E3FC;\n",
              "      --hover-bg-color: #434B5C;\n",
              "      --hover-fill-color: #FFFFFF;\n",
              "      --disabled-bg-color: #3B4455;\n",
              "      --disabled-fill-color: #666;\n",
              "  }\n",
              "\n",
              "  .colab-df-quickchart {\n",
              "    background-color: var(--bg-color);\n",
              "    border: none;\n",
              "    border-radius: 50%;\n",
              "    cursor: pointer;\n",
              "    display: none;\n",
              "    fill: var(--fill-color);\n",
              "    height: 32px;\n",
              "    padding: 0;\n",
              "    width: 32px;\n",
              "  }\n",
              "\n",
              "  .colab-df-quickchart:hover {\n",
              "    background-color: var(--hover-bg-color);\n",
              "    box-shadow: 0 1px 2px rgba(60, 64, 67, 0.3), 0 1px 3px 1px rgba(60, 64, 67, 0.15);\n",
              "    fill: var(--button-hover-fill-color);\n",
              "  }\n",
              "\n",
              "  .colab-df-quickchart-complete:disabled,\n",
              "  .colab-df-quickchart-complete:disabled:hover {\n",
              "    background-color: var(--disabled-bg-color);\n",
              "    fill: var(--disabled-fill-color);\n",
              "    box-shadow: none;\n",
              "  }\n",
              "\n",
              "  .colab-df-spinner {\n",
              "    border: 2px solid var(--fill-color);\n",
              "    border-color: transparent;\n",
              "    border-bottom-color: var(--fill-color);\n",
              "    animation:\n",
              "      spin 1s steps(1) infinite;\n",
              "  }\n",
              "\n",
              "  @keyframes spin {\n",
              "    0% {\n",
              "      border-color: transparent;\n",
              "      border-bottom-color: var(--fill-color);\n",
              "      border-left-color: var(--fill-color);\n",
              "    }\n",
              "    20% {\n",
              "      border-color: transparent;\n",
              "      border-left-color: var(--fill-color);\n",
              "      border-top-color: var(--fill-color);\n",
              "    }\n",
              "    30% {\n",
              "      border-color: transparent;\n",
              "      border-left-color: var(--fill-color);\n",
              "      border-top-color: var(--fill-color);\n",
              "      border-right-color: var(--fill-color);\n",
              "    }\n",
              "    40% {\n",
              "      border-color: transparent;\n",
              "      border-right-color: var(--fill-color);\n",
              "      border-top-color: var(--fill-color);\n",
              "    }\n",
              "    60% {\n",
              "      border-color: transparent;\n",
              "      border-right-color: var(--fill-color);\n",
              "    }\n",
              "    80% {\n",
              "      border-color: transparent;\n",
              "      border-right-color: var(--fill-color);\n",
              "      border-bottom-color: var(--fill-color);\n",
              "    }\n",
              "    90% {\n",
              "      border-color: transparent;\n",
              "      border-bottom-color: var(--fill-color);\n",
              "    }\n",
              "  }\n",
              "</style>\n",
              "\n",
              "      <script>\n",
              "        async function quickchart(key) {\n",
              "          const quickchartButtonEl =\n",
              "            document.querySelector('#' + key + ' button');\n",
              "          quickchartButtonEl.disabled = true;  // To prevent multiple clicks.\n",
              "          quickchartButtonEl.classList.add('colab-df-spinner');\n",
              "          try {\n",
              "            const charts = await google.colab.kernel.invokeFunction(\n",
              "                'suggestCharts', [key], {});\n",
              "          } catch (error) {\n",
              "            console.error('Error during call to suggestCharts:', error);\n",
              "          }\n",
              "          quickchartButtonEl.classList.remove('colab-df-spinner');\n",
              "          quickchartButtonEl.classList.add('colab-df-quickchart-complete');\n",
              "        }\n",
              "        (() => {\n",
              "          let quickchartButtonEl =\n",
              "            document.querySelector('#df-a11bb744-8568-4a9c-8078-bf52d0f0b463 button');\n",
              "          quickchartButtonEl.style.display =\n",
              "            google.colab.kernel.accessAllowed ? 'block' : 'none';\n",
              "        })();\n",
              "      </script>\n",
              "    </div>\n",
              "\n",
              "    </div>\n",
              "  </div>\n"
            ],
            "application/vnd.google.colaboratory.intrinsic+json": {
              "type": "dataframe",
              "variable_name": "ratings_pred_matrix"
            }
          },
          "metadata": {},
          "execution_count": 6
        }
      ]
    },
    {
      "cell_type": "code",
      "source": [
        "def get_unseen_movies(ratings_matrix, userId):\n",
        "  #userId로 입력받은 사용자의 모든 영화 정보를 추출해 Series로 반환함.\n",
        "  # 반환된 user_rating은 영화명(title)을 인덱스로 가지는 Series 객체임.\n",
        "  user_rating = ratings_matrix.loc[userId, :]\n",
        "\n",
        "  # user_rating이 0보다 크면 기존에 관람한 영화임. 대상 인덱스를 추출해 list 객체로 만듦.\n",
        "  already_seen = user_rating[user_rating >0].index.tolist()\n",
        "\n",
        "  # 모든 영화명을 list 객체로 만듦.\n",
        "  movies_list = ratings_matrix.columns.tolist()\n",
        "\n",
        "  # list comprehension 으로 already_seen에 해당하는 영화는 movies_list에서 제외함.\n",
        "  unseen_list = [movie for movie in movies_list if movie not in already_seen]\n",
        "\n",
        "  return unseen_list"
      ],
      "metadata": {
        "id": "nnGLGYbubVc4"
      },
      "execution_count": 7,
      "outputs": []
    },
    {
      "cell_type": "code",
      "source": [
        "def recomm_movie_by_userid(pred_df, userId, unseen_list, top_n=10):\n",
        "  # 예측 평점 DataFrame에서 사용자 id 인덱스와 unseen_list로 들어온 영화명 칼럼을 추출해\n",
        "  # 가장 예측 평점이 높은 순으로 정렬함.\n",
        "  recomm_movies = pred_df.loc[userId, unseen_list].sort_values(ascending=False)[:top_n]\n",
        "  return recomm_movies"
      ],
      "metadata": {
        "id": "DXOPaDMA-r8G"
      },
      "execution_count": 8,
      "outputs": []
    },
    {
      "cell_type": "code",
      "source": [
        "# 사용자가 관람하지 않은 영화명 추출\n",
        "unseen_list = get_unseen_movies(ratings_matrix, 9)\n",
        "\n",
        "# 잠재 요인 협업 필터링으로 영화 추천\n",
        "recomm_movies = recomm_movie_by_userid(ratings_pred_matrix, 9, unseen_list, top_n=10)\n",
        "\n",
        "# 평점 데이터를 DataFrame으로 생성.\n",
        "recomm_movies = pd.DataFrame(data=recomm_movies.values, index=recomm_movies.index, columns=['pred_score'])\n",
        "recomm_movies"
      ],
      "metadata": {
        "id": "upStO-QI-x7L",
        "colab": {
          "base_uri": "https://localhost:8080/",
          "height": 390
        },
        "outputId": "50b884e3-677a-4e19-c896-24b67b6f7700"
      },
      "execution_count": 9,
      "outputs": [
        {
          "output_type": "execute_result",
          "data": {
            "text/plain": [
              "                                                    pred_score\n",
              "title                                                         \n",
              "Rear Window (1954)                                    5.704612\n",
              "South Park: Bigger, Longer and Uncut (1999)           5.451100\n",
              "Rounders (1998)                                       5.298393\n",
              "Blade Runner (1982)                                   5.244951\n",
              "Roger & Me (1989)                                     5.191962\n",
              "Gattaca (1997)                                        5.183179\n",
              "Ben-Hur (1959)                                        5.130463\n",
              "Rosencrantz and Guildenstern Are Dead (1990)          5.087375\n",
              "Big Lebowski, The (1998)                              5.038690\n",
              "Star Wars: Episode V - The Empire Strikes Back ...    4.989601"
            ],
            "text/html": [
              "\n",
              "  <div id=\"df-b5c0771e-114c-4b7c-8fd1-324e963610b0\" class=\"colab-df-container\">\n",
              "    <div>\n",
              "<style scoped>\n",
              "    .dataframe tbody tr th:only-of-type {\n",
              "        vertical-align: middle;\n",
              "    }\n",
              "\n",
              "    .dataframe tbody tr th {\n",
              "        vertical-align: top;\n",
              "    }\n",
              "\n",
              "    .dataframe thead th {\n",
              "        text-align: right;\n",
              "    }\n",
              "</style>\n",
              "<table border=\"1\" class=\"dataframe\">\n",
              "  <thead>\n",
              "    <tr style=\"text-align: right;\">\n",
              "      <th></th>\n",
              "      <th>pred_score</th>\n",
              "    </tr>\n",
              "    <tr>\n",
              "      <th>title</th>\n",
              "      <th></th>\n",
              "    </tr>\n",
              "  </thead>\n",
              "  <tbody>\n",
              "    <tr>\n",
              "      <th>Rear Window (1954)</th>\n",
              "      <td>5.704612</td>\n",
              "    </tr>\n",
              "    <tr>\n",
              "      <th>South Park: Bigger, Longer and Uncut (1999)</th>\n",
              "      <td>5.451100</td>\n",
              "    </tr>\n",
              "    <tr>\n",
              "      <th>Rounders (1998)</th>\n",
              "      <td>5.298393</td>\n",
              "    </tr>\n",
              "    <tr>\n",
              "      <th>Blade Runner (1982)</th>\n",
              "      <td>5.244951</td>\n",
              "    </tr>\n",
              "    <tr>\n",
              "      <th>Roger &amp; Me (1989)</th>\n",
              "      <td>5.191962</td>\n",
              "    </tr>\n",
              "    <tr>\n",
              "      <th>Gattaca (1997)</th>\n",
              "      <td>5.183179</td>\n",
              "    </tr>\n",
              "    <tr>\n",
              "      <th>Ben-Hur (1959)</th>\n",
              "      <td>5.130463</td>\n",
              "    </tr>\n",
              "    <tr>\n",
              "      <th>Rosencrantz and Guildenstern Are Dead (1990)</th>\n",
              "      <td>5.087375</td>\n",
              "    </tr>\n",
              "    <tr>\n",
              "      <th>Big Lebowski, The (1998)</th>\n",
              "      <td>5.038690</td>\n",
              "    </tr>\n",
              "    <tr>\n",
              "      <th>Star Wars: Episode V - The Empire Strikes Back (1980)</th>\n",
              "      <td>4.989601</td>\n",
              "    </tr>\n",
              "  </tbody>\n",
              "</table>\n",
              "</div>\n",
              "    <div class=\"colab-df-buttons\">\n",
              "\n",
              "  <div class=\"colab-df-container\">\n",
              "    <button class=\"colab-df-convert\" onclick=\"convertToInteractive('df-b5c0771e-114c-4b7c-8fd1-324e963610b0')\"\n",
              "            title=\"Convert this dataframe to an interactive table.\"\n",
              "            style=\"display:none;\">\n",
              "\n",
              "  <svg xmlns=\"http://www.w3.org/2000/svg\" height=\"24px\" viewBox=\"0 -960 960 960\">\n",
              "    <path d=\"M120-120v-720h720v720H120Zm60-500h600v-160H180v160Zm220 220h160v-160H400v160Zm0 220h160v-160H400v160ZM180-400h160v-160H180v160Zm440 0h160v-160H620v160ZM180-180h160v-160H180v160Zm440 0h160v-160H620v160Z\"/>\n",
              "  </svg>\n",
              "    </button>\n",
              "\n",
              "  <style>\n",
              "    .colab-df-container {\n",
              "      display:flex;\n",
              "      gap: 12px;\n",
              "    }\n",
              "\n",
              "    .colab-df-convert {\n",
              "      background-color: #E8F0FE;\n",
              "      border: none;\n",
              "      border-radius: 50%;\n",
              "      cursor: pointer;\n",
              "      display: none;\n",
              "      fill: #1967D2;\n",
              "      height: 32px;\n",
              "      padding: 0 0 0 0;\n",
              "      width: 32px;\n",
              "    }\n",
              "\n",
              "    .colab-df-convert:hover {\n",
              "      background-color: #E2EBFA;\n",
              "      box-shadow: 0px 1px 2px rgba(60, 64, 67, 0.3), 0px 1px 3px 1px rgba(60, 64, 67, 0.15);\n",
              "      fill: #174EA6;\n",
              "    }\n",
              "\n",
              "    .colab-df-buttons div {\n",
              "      margin-bottom: 4px;\n",
              "    }\n",
              "\n",
              "    [theme=dark] .colab-df-convert {\n",
              "      background-color: #3B4455;\n",
              "      fill: #D2E3FC;\n",
              "    }\n",
              "\n",
              "    [theme=dark] .colab-df-convert:hover {\n",
              "      background-color: #434B5C;\n",
              "      box-shadow: 0px 1px 3px 1px rgba(0, 0, 0, 0.15);\n",
              "      filter: drop-shadow(0px 1px 2px rgba(0, 0, 0, 0.3));\n",
              "      fill: #FFFFFF;\n",
              "    }\n",
              "  </style>\n",
              "\n",
              "    <script>\n",
              "      const buttonEl =\n",
              "        document.querySelector('#df-b5c0771e-114c-4b7c-8fd1-324e963610b0 button.colab-df-convert');\n",
              "      buttonEl.style.display =\n",
              "        google.colab.kernel.accessAllowed ? 'block' : 'none';\n",
              "\n",
              "      async function convertToInteractive(key) {\n",
              "        const element = document.querySelector('#df-b5c0771e-114c-4b7c-8fd1-324e963610b0');\n",
              "        const dataTable =\n",
              "          await google.colab.kernel.invokeFunction('convertToInteractive',\n",
              "                                                    [key], {});\n",
              "        if (!dataTable) return;\n",
              "\n",
              "        const docLinkHtml = 'Like what you see? Visit the ' +\n",
              "          '<a target=\"_blank\" href=https://colab.research.google.com/notebooks/data_table.ipynb>data table notebook</a>'\n",
              "          + ' to learn more about interactive tables.';\n",
              "        element.innerHTML = '';\n",
              "        dataTable['output_type'] = 'display_data';\n",
              "        await google.colab.output.renderOutput(dataTable, element);\n",
              "        const docLink = document.createElement('div');\n",
              "        docLink.innerHTML = docLinkHtml;\n",
              "        element.appendChild(docLink);\n",
              "      }\n",
              "    </script>\n",
              "  </div>\n",
              "\n",
              "\n",
              "    <div id=\"df-d9443289-70c5-4461-8754-a77f17778967\">\n",
              "      <button class=\"colab-df-quickchart\" onclick=\"quickchart('df-d9443289-70c5-4461-8754-a77f17778967')\"\n",
              "                title=\"Suggest charts\"\n",
              "                style=\"display:none;\">\n",
              "\n",
              "<svg xmlns=\"http://www.w3.org/2000/svg\" height=\"24px\"viewBox=\"0 0 24 24\"\n",
              "     width=\"24px\">\n",
              "    <g>\n",
              "        <path d=\"M19 3H5c-1.1 0-2 .9-2 2v14c0 1.1.9 2 2 2h14c1.1 0 2-.9 2-2V5c0-1.1-.9-2-2-2zM9 17H7v-7h2v7zm4 0h-2V7h2v10zm4 0h-2v-4h2v4z\"/>\n",
              "    </g>\n",
              "</svg>\n",
              "      </button>\n",
              "\n",
              "<style>\n",
              "  .colab-df-quickchart {\n",
              "      --bg-color: #E8F0FE;\n",
              "      --fill-color: #1967D2;\n",
              "      --hover-bg-color: #E2EBFA;\n",
              "      --hover-fill-color: #174EA6;\n",
              "      --disabled-fill-color: #AAA;\n",
              "      --disabled-bg-color: #DDD;\n",
              "  }\n",
              "\n",
              "  [theme=dark] .colab-df-quickchart {\n",
              "      --bg-color: #3B4455;\n",
              "      --fill-color: #D2E3FC;\n",
              "      --hover-bg-color: #434B5C;\n",
              "      --hover-fill-color: #FFFFFF;\n",
              "      --disabled-bg-color: #3B4455;\n",
              "      --disabled-fill-color: #666;\n",
              "  }\n",
              "\n",
              "  .colab-df-quickchart {\n",
              "    background-color: var(--bg-color);\n",
              "    border: none;\n",
              "    border-radius: 50%;\n",
              "    cursor: pointer;\n",
              "    display: none;\n",
              "    fill: var(--fill-color);\n",
              "    height: 32px;\n",
              "    padding: 0;\n",
              "    width: 32px;\n",
              "  }\n",
              "\n",
              "  .colab-df-quickchart:hover {\n",
              "    background-color: var(--hover-bg-color);\n",
              "    box-shadow: 0 1px 2px rgba(60, 64, 67, 0.3), 0 1px 3px 1px rgba(60, 64, 67, 0.15);\n",
              "    fill: var(--button-hover-fill-color);\n",
              "  }\n",
              "\n",
              "  .colab-df-quickchart-complete:disabled,\n",
              "  .colab-df-quickchart-complete:disabled:hover {\n",
              "    background-color: var(--disabled-bg-color);\n",
              "    fill: var(--disabled-fill-color);\n",
              "    box-shadow: none;\n",
              "  }\n",
              "\n",
              "  .colab-df-spinner {\n",
              "    border: 2px solid var(--fill-color);\n",
              "    border-color: transparent;\n",
              "    border-bottom-color: var(--fill-color);\n",
              "    animation:\n",
              "      spin 1s steps(1) infinite;\n",
              "  }\n",
              "\n",
              "  @keyframes spin {\n",
              "    0% {\n",
              "      border-color: transparent;\n",
              "      border-bottom-color: var(--fill-color);\n",
              "      border-left-color: var(--fill-color);\n",
              "    }\n",
              "    20% {\n",
              "      border-color: transparent;\n",
              "      border-left-color: var(--fill-color);\n",
              "      border-top-color: var(--fill-color);\n",
              "    }\n",
              "    30% {\n",
              "      border-color: transparent;\n",
              "      border-left-color: var(--fill-color);\n",
              "      border-top-color: var(--fill-color);\n",
              "      border-right-color: var(--fill-color);\n",
              "    }\n",
              "    40% {\n",
              "      border-color: transparent;\n",
              "      border-right-color: var(--fill-color);\n",
              "      border-top-color: var(--fill-color);\n",
              "    }\n",
              "    60% {\n",
              "      border-color: transparent;\n",
              "      border-right-color: var(--fill-color);\n",
              "    }\n",
              "    80% {\n",
              "      border-color: transparent;\n",
              "      border-right-color: var(--fill-color);\n",
              "      border-bottom-color: var(--fill-color);\n",
              "    }\n",
              "    90% {\n",
              "      border-color: transparent;\n",
              "      border-bottom-color: var(--fill-color);\n",
              "    }\n",
              "  }\n",
              "</style>\n",
              "\n",
              "      <script>\n",
              "        async function quickchart(key) {\n",
              "          const quickchartButtonEl =\n",
              "            document.querySelector('#' + key + ' button');\n",
              "          quickchartButtonEl.disabled = true;  // To prevent multiple clicks.\n",
              "          quickchartButtonEl.classList.add('colab-df-spinner');\n",
              "          try {\n",
              "            const charts = await google.colab.kernel.invokeFunction(\n",
              "                'suggestCharts', [key], {});\n",
              "          } catch (error) {\n",
              "            console.error('Error during call to suggestCharts:', error);\n",
              "          }\n",
              "          quickchartButtonEl.classList.remove('colab-df-spinner');\n",
              "          quickchartButtonEl.classList.add('colab-df-quickchart-complete');\n",
              "        }\n",
              "        (() => {\n",
              "          let quickchartButtonEl =\n",
              "            document.querySelector('#df-d9443289-70c5-4461-8754-a77f17778967 button');\n",
              "          quickchartButtonEl.style.display =\n",
              "            google.colab.kernel.accessAllowed ? 'block' : 'none';\n",
              "        })();\n",
              "      </script>\n",
              "    </div>\n",
              "\n",
              "  <div id=\"id_39f9fb30-7b5d-4925-bdf9-d01d89f65365\">\n",
              "    <style>\n",
              "      .colab-df-generate {\n",
              "        background-color: #E8F0FE;\n",
              "        border: none;\n",
              "        border-radius: 50%;\n",
              "        cursor: pointer;\n",
              "        display: none;\n",
              "        fill: #1967D2;\n",
              "        height: 32px;\n",
              "        padding: 0 0 0 0;\n",
              "        width: 32px;\n",
              "      }\n",
              "\n",
              "      .colab-df-generate:hover {\n",
              "        background-color: #E2EBFA;\n",
              "        box-shadow: 0px 1px 2px rgba(60, 64, 67, 0.3), 0px 1px 3px 1px rgba(60, 64, 67, 0.15);\n",
              "        fill: #174EA6;\n",
              "      }\n",
              "\n",
              "      [theme=dark] .colab-df-generate {\n",
              "        background-color: #3B4455;\n",
              "        fill: #D2E3FC;\n",
              "      }\n",
              "\n",
              "      [theme=dark] .colab-df-generate:hover {\n",
              "        background-color: #434B5C;\n",
              "        box-shadow: 0px 1px 3px 1px rgba(0, 0, 0, 0.15);\n",
              "        filter: drop-shadow(0px 1px 2px rgba(0, 0, 0, 0.3));\n",
              "        fill: #FFFFFF;\n",
              "      }\n",
              "    </style>\n",
              "    <button class=\"colab-df-generate\" onclick=\"generateWithVariable('recomm_movies')\"\n",
              "            title=\"Generate code using this dataframe.\"\n",
              "            style=\"display:none;\">\n",
              "\n",
              "  <svg xmlns=\"http://www.w3.org/2000/svg\" height=\"24px\"viewBox=\"0 0 24 24\"\n",
              "       width=\"24px\">\n",
              "    <path d=\"M7,19H8.4L18.45,9,17,7.55,7,17.6ZM5,21V16.75L18.45,3.32a2,2,0,0,1,2.83,0l1.4,1.43a1.91,1.91,0,0,1,.58,1.4,1.91,1.91,0,0,1-.58,1.4L9.25,21ZM18.45,9,17,7.55Zm-12,3A5.31,5.31,0,0,0,4.9,8.1,5.31,5.31,0,0,0,1,6.5,5.31,5.31,0,0,0,4.9,4.9,5.31,5.31,0,0,0,6.5,1,5.31,5.31,0,0,0,8.1,4.9,5.31,5.31,0,0,0,12,6.5,5.46,5.46,0,0,0,6.5,12Z\"/>\n",
              "  </svg>\n",
              "    </button>\n",
              "    <script>\n",
              "      (() => {\n",
              "      const buttonEl =\n",
              "        document.querySelector('#id_39f9fb30-7b5d-4925-bdf9-d01d89f65365 button.colab-df-generate');\n",
              "      buttonEl.style.display =\n",
              "        google.colab.kernel.accessAllowed ? 'block' : 'none';\n",
              "\n",
              "      buttonEl.onclick = () => {\n",
              "        google.colab.notebook.generateWithVariable('recomm_movies');\n",
              "      }\n",
              "      })();\n",
              "    </script>\n",
              "  </div>\n",
              "\n",
              "    </div>\n",
              "  </div>\n"
            ],
            "application/vnd.google.colaboratory.intrinsic+json": {
              "type": "dataframe",
              "variable_name": "recomm_movies",
              "summary": "{\n  \"name\": \"recomm_movies\",\n  \"rows\": 10,\n  \"fields\": [\n    {\n      \"column\": \"title\",\n      \"properties\": {\n        \"dtype\": \"string\",\n        \"num_unique_values\": 10,\n        \"samples\": [\n          \"Big Lebowski, The (1998)\",\n          \"South Park: Bigger, Longer and Uncut (1999)\",\n          \"Gattaca (1997)\"\n        ],\n        \"semantic_type\": \"\",\n        \"description\": \"\"\n      }\n    },\n    {\n      \"column\": \"pred_score\",\n      \"properties\": {\n        \"dtype\": \"number\",\n        \"std\": 0.21272885538651393,\n        \"min\": 4.989601238872484,\n        \"max\": 5.704612469838172,\n        \"num_unique_values\": 10,\n        \"samples\": [\n          5.0386897288205725,\n          5.451100205772531,\n          5.183178550884765\n        ],\n        \"semantic_type\": \"\",\n        \"description\": \"\"\n      }\n    }\n  ]\n}"
            }
          },
          "metadata": {},
          "execution_count": 9
        }
      ]
    },
    {
      "cell_type": "markdown",
      "source": [
        "##08. 파이썬 추천 시스템 패키지 - Surprise"
      ],
      "metadata": {
        "id": "Ak7uHnw1bWBn"
      }
    },
    {
      "cell_type": "markdown",
      "source": [
        "###Surprise 패키지 소개\n",
        "- 추천 시스템의 경우 상업적으로 가치가 크기 때문에 별도의 패키지로 제공될 경우 매우 활용도가 높음\n",
        "  - 이에 따라 파이썬 기반의 추천 시스템 구축을 위한 전용 패키지 중의 하나인 Surprise를 소개하고자 함\n",
        "- Surprize 패키지: API를 이용하에 쉽게 추천 시스템을 구축할 수 있도록 만들어짐\n",
        "  - 장점\n",
        "    - 다양한 추천 알고리즘을 기반으로 SVD, SVD++, NMF 기반의 잠재 요인 협업 필터링을 쉽게 적용하여 추천 시스템을 구축 가능\n",
        "    - Surprise의 핵심 API는 사이킷런의 핵심 API와 유사한 API명으로 작성됨\n",
        "    "
      ],
      "metadata": {
        "id": "p329A-K-ba_6"
      }
    },
    {
      "cell_type": "code",
      "source": [
        "!pip install numpy==1.26.4\n"
      ],
      "metadata": {
        "id": "cIJbxuwGgIkQ",
        "colab": {
          "base_uri": "https://localhost:8080/",
          "height": 490
        },
        "outputId": "b53de96c-d20d-40c9-9979-2c42d9988fcf"
      },
      "execution_count": 10,
      "outputs": [
        {
          "output_type": "stream",
          "name": "stdout",
          "text": [
            "Collecting numpy==1.26.4\n",
            "  Downloading numpy-1.26.4-cp312-cp312-manylinux_2_17_x86_64.manylinux2014_x86_64.whl.metadata (61 kB)\n",
            "\u001b[?25l     \u001b[90m━━━━━━━━━━━━━━━━━━━━━━━━━━━━━━━━━━━━━━━━\u001b[0m \u001b[32m0.0/61.0 kB\u001b[0m \u001b[31m?\u001b[0m eta \u001b[36m-:--:--\u001b[0m\r\u001b[2K     \u001b[90m━━━━━━━━━━━━━━━━━━━━━━━━━━━━━━━━━━━━━━━━\u001b[0m \u001b[32m61.0/61.0 kB\u001b[0m \u001b[31m2.5 MB/s\u001b[0m eta \u001b[36m0:00:00\u001b[0m\n",
            "\u001b[?25hDownloading numpy-1.26.4-cp312-cp312-manylinux_2_17_x86_64.manylinux2014_x86_64.whl (18.0 MB)\n",
            "\u001b[2K   \u001b[90m━━━━━━━━━━━━━━━━━━━━━━━━━━━━━━━━━━━━━━━━\u001b[0m \u001b[32m18.0/18.0 MB\u001b[0m \u001b[31m144.8 MB/s\u001b[0m eta \u001b[36m0:00:00\u001b[0m\n",
            "\u001b[?25hInstalling collected packages: numpy\n",
            "  Attempting uninstall: numpy\n",
            "    Found existing installation: numpy 2.0.2\n",
            "    Uninstalling numpy-2.0.2:\n",
            "      Successfully uninstalled numpy-2.0.2\n",
            "\u001b[31mERROR: pip's dependency resolver does not currently take into account all the packages that are installed. This behaviour is the source of the following dependency conflicts.\n",
            "opencv-python 4.12.0.88 requires numpy<2.3.0,>=2; python_version >= \"3.9\", but you have numpy 1.26.4 which is incompatible.\n",
            "thinc 8.3.6 requires numpy<3.0.0,>=2.0.0, but you have numpy 1.26.4 which is incompatible.\n",
            "jaxlib 0.7.2 requires numpy>=2.0, but you have numpy 1.26.4 which is incompatible.\n",
            "jax 0.7.2 requires numpy>=2.0, but you have numpy 1.26.4 which is incompatible.\n",
            "pytensor 2.35.1 requires numpy>=2.0, but you have numpy 1.26.4 which is incompatible.\n",
            "opencv-contrib-python 4.12.0.88 requires numpy<2.3.0,>=2; python_version >= \"3.9\", but you have numpy 1.26.4 which is incompatible.\n",
            "opencv-python-headless 4.12.0.88 requires numpy<2.3.0,>=2; python_version >= \"3.9\", but you have numpy 1.26.4 which is incompatible.\u001b[0m\u001b[31m\n",
            "\u001b[0mSuccessfully installed numpy-1.26.4\n"
          ]
        },
        {
          "output_type": "display_data",
          "data": {
            "application/vnd.colab-display-data+json": {
              "pip_warning": {
                "packages": [
                  "numpy"
                ]
              },
              "id": "7a32d78cf0f64d6b9c3426dc52d9e297"
            }
          },
          "metadata": {}
        }
      ]
    },
    {
      "cell_type": "code",
      "source": [
        "!pip install scikit-surprise"
      ],
      "metadata": {
        "id": "XpJ4pJf5bfVr",
        "colab": {
          "base_uri": "https://localhost:8080/"
        },
        "outputId": "2a85817c-752f-47ec-98b9-67045aa45317"
      },
      "execution_count": 1,
      "outputs": [
        {
          "output_type": "stream",
          "name": "stdout",
          "text": [
            "Collecting scikit-surprise\n",
            "  Using cached scikit_surprise-1.1.4.tar.gz (154 kB)\n",
            "  Installing build dependencies ... \u001b[?25l\u001b[?25hdone\n",
            "  Getting requirements to build wheel ... \u001b[?25l\u001b[?25hdone\n",
            "  Preparing metadata (pyproject.toml) ... \u001b[?25l\u001b[?25hdone\n",
            "Requirement already satisfied: joblib>=1.2.0 in /usr/local/lib/python3.12/dist-packages (from scikit-surprise) (1.5.2)\n",
            "Requirement already satisfied: numpy>=1.19.5 in /usr/local/lib/python3.12/dist-packages (from scikit-surprise) (1.26.4)\n",
            "Requirement already satisfied: scipy>=1.6.0 in /usr/local/lib/python3.12/dist-packages (from scikit-surprise) (1.16.2)\n",
            "Building wheels for collected packages: scikit-surprise\n",
            "  Building wheel for scikit-surprise (pyproject.toml) ... \u001b[?25l\u001b[?25hdone\n",
            "  Created wheel for scikit-surprise: filename=scikit_surprise-1.1.4-cp312-cp312-linux_x86_64.whl size=2611211 sha256=9ba6af5b66e6069a05a1ab035af53350959f7209a2959908a1aab620533d8815\n",
            "  Stored in directory: /root/.cache/pip/wheels/75/fa/bc/739bc2cb1fbaab6061854e6cfbb81a0ae52c92a502a7fa454b\n",
            "Successfully built scikit-surprise\n",
            "Installing collected packages: scikit-surprise\n",
            "Successfully installed scikit-surprise-1.1.4\n"
          ]
        }
      ]
    },
    {
      "cell_type": "markdown",
      "source": [
        "###Surprize를 이용한 추천 시스템 구축\n",
        "- 추천 데이터를 학습용과 테스트용 데이터 세트로 분리한 뒤 SVD 행렬 분해를 통한 잠재 요인 협업 필터링을 수행하고자 함"
      ],
      "metadata": {
        "id": "8qVGYEbIbk1-"
      }
    },
    {
      "cell_type": "code",
      "source": [
        "from surprise import SVD\n",
        "from surprise import Dataset\n",
        "from surprise import accuracy\n",
        "from surprise.model_selection import train_test_split"
      ],
      "metadata": {
        "id": "Bh5Y1W5WbvaT"
      },
      "execution_count": 2,
      "outputs": []
    },
    {
      "cell_type": "code",
      "source": [
        "# 추천을 위한 데이터 세트를 로딩\n",
        "data = Dataset.load_builtin('ml-100k')\n",
        "# 수행 시 마다 동일하게 데이터를 분할하기 위해 random_state 값 부여\n",
        "trainset, testset = train_test_split(data, test_size=.25, random_state=0)"
      ],
      "metadata": {
        "colab": {
          "base_uri": "https://localhost:8080/"
        },
        "id": "uK6CxK2QbuPF",
        "outputId": "74b95fbb-5c03-4e6e-cea7-ea338d03c603"
      },
      "execution_count": 3,
      "outputs": [
        {
          "output_type": "stream",
          "name": "stdout",
          "text": [
            "Dataset ml-100k could not be found. Do you want to download it? [Y/n] Y\n",
            "Trying to download dataset from https://files.grouplens.org/datasets/movielens/ml-100k.zip...\n",
            "Done! Dataset ml-100k has been saved to /root/.surprise_data/ml-100k\n"
          ]
        }
      ]
    },
    {
      "cell_type": "code",
      "source": [
        "# SVD로 잠재 요인 협업 필터링을 수행\n",
        "algo = SVD(random_state=0)\n",
        "# fit을 이용해 학습 데이터 세트 기반으로 추천 알고리즘을 학습\n",
        "algo.fit(trainset)"
      ],
      "metadata": {
        "id": "ybQKVx9Vbtyb",
        "colab": {
          "base_uri": "https://localhost:8080/"
        },
        "outputId": "535a0518-4a04-4520-c058-913739932ca9"
      },
      "execution_count": 4,
      "outputs": [
        {
          "output_type": "execute_result",
          "data": {
            "text/plain": [
              "<surprise.prediction_algorithms.matrix_factorization.SVD at 0x7e8f20eb2b40>"
            ]
          },
          "metadata": {},
          "execution_count": 4
        }
      ]
    },
    {
      "cell_type": "code",
      "source": [
        "# 학습된 추천 알고리즘을 기반으로 테스트 데이터 세트에 대해 추천을 수행\n",
        "predictions = algo.test(testset)\n",
        "print('prediction type: ', type(predictions), 'size: ', len(predictions))\n",
        "print('prediction 결과의 최초 5개 추출')\n",
        "predictions[:5]"
      ],
      "metadata": {
        "id": "56-MNr7jbtox",
        "colab": {
          "base_uri": "https://localhost:8080/"
        },
        "outputId": "b4466ec1-03d4-4cb1-e242-b686726f474a"
      },
      "execution_count": 5,
      "outputs": [
        {
          "output_type": "stream",
          "name": "stdout",
          "text": [
            "prediction type:  <class 'list'> size:  25000\n",
            "prediction 결과의 최초 5개 추출\n"
          ]
        },
        {
          "output_type": "execute_result",
          "data": {
            "text/plain": [
              "[Prediction(uid='120', iid='282', r_ui=4.0, est=3.5114147666251547, details={'was_impossible': False}),\n",
              " Prediction(uid='882', iid='291', r_ui=4.0, est=3.573872419581491, details={'was_impossible': False}),\n",
              " Prediction(uid='535', iid='507', r_ui=5.0, est=4.033583485472447, details={'was_impossible': False}),\n",
              " Prediction(uid='697', iid='244', r_ui=5.0, est=3.8463639495936905, details={'was_impossible': False}),\n",
              " Prediction(uid='751', iid='385', r_ui=4.0, est=3.1807542478219157, details={'was_impossible': False})]"
            ]
          },
          "metadata": {},
          "execution_count": 5
        }
      ]
    },
    {
      "cell_type": "markdown",
      "source": [
        "- SVD 알고리즘 객체의 test 메서드의 호출 결과는 파이썬 리스트이고, 크기는 입력 인자 데이터 세트의 크기와 같은 25000개임\n",
        "- 호출 겨로가로 반환된 리스트 객체는 25,000개의 prediction 객체를 내부에 가짐\n",
        "- prediction 객체는 surprise 패키지에서 제공하는 데이터 타입이며, 개별 사용자 아이디(uid), 영화 아이디(iid), 실제 평점(r_ui) 정보에 기반해 surprize의 추천 예측 평점 데이터를 튜플 형태로 가짐"
      ],
      "metadata": {
        "id": "MW0di0yoh18y"
      }
    },
    {
      "cell_type": "code",
      "source": [
        "[(pred.uid, pred.iid, pred.est) for pred in predictions[:3]]"
      ],
      "metadata": {
        "id": "etokWI6DbtiQ",
        "colab": {
          "base_uri": "https://localhost:8080/"
        },
        "outputId": "dd52e4a4-690c-4239-c724-40988fc7c270"
      },
      "execution_count": 6,
      "outputs": [
        {
          "output_type": "execute_result",
          "data": {
            "text/plain": [
              "[('120', '282', 3.5114147666251547),\n",
              " ('882', '291', 3.573872419581491),\n",
              " ('535', '507', 4.033583485472447)]"
            ]
          },
          "metadata": {},
          "execution_count": 6
        }
      ]
    },
    {
      "cell_type": "code",
      "source": [
        "# surprise 패키지의 다른 추천 예측 메서드인 predict()를 이용해 추천 예측을 진행\n",
        "# 사용자 아이디, 아이템 아이디 문자열로 입력해야 함.\n",
        "uid = str(196)\n",
        "iid = str(302)\n",
        "pred = algo.predict(uid,iid)\n",
        "print(pred)"
      ],
      "metadata": {
        "id": "bCk7wHrbbptr",
        "colab": {
          "base_uri": "https://localhost:8080/"
        },
        "outputId": "a3469c6b-45b4-4a26-d0ac-683b4821b3fb"
      },
      "execution_count": 7,
      "outputs": [
        {
          "output_type": "stream",
          "name": "stdout",
          "text": [
            "user: 196        item: 302        r_ui = None   est = 4.49   {'was_impossible': False}\n"
          ]
        }
      ]
    },
    {
      "cell_type": "markdown",
      "source": [
        "- predict()는 개별 사용자와 아이템 정보를 입력하면 추천 예측 평점을 est로 반환"
      ],
      "metadata": {
        "id": "KXUG2sNTirn0"
      }
    },
    {
      "cell_type": "code",
      "source": [
        "# 테스트 데이터 세트를 이용해 추천 예측 평점과 실제 평점과의 차이를 평가\n",
        "accuracy.rmse(predictions)"
      ],
      "metadata": {
        "id": "h7_CCDGBbjmF",
        "colab": {
          "base_uri": "https://localhost:8080/"
        },
        "outputId": "3c73e826-2530-44d3-85ce-1082a38fa747"
      },
      "execution_count": 8,
      "outputs": [
        {
          "output_type": "stream",
          "name": "stdout",
          "text": [
            "RMSE: 0.9467\n"
          ]
        },
        {
          "output_type": "execute_result",
          "data": {
            "text/plain": [
              "0.9466860806937948"
            ]
          },
          "metadata": {},
          "execution_count": 8
        }
      ]
    },
    {
      "cell_type": "markdown",
      "source": [
        "- surprise패키지를 이용하면 쉽게 추천 시스템을 구현할 수 있음"
      ],
      "metadata": {
        "id": "ia2MPV8Wi5FP"
      }
    },
    {
      "cell_type": "markdown",
      "source": [
        "###Surprise 주요 모듈 소개"
      ],
      "metadata": {
        "id": "l5FITvtxb0I6"
      }
    },
    {
      "cell_type": "markdown",
      "source": [
        "**Dataset**\n",
        "- surprise의 경우 사용자 아이디, 아이템 아이디, 평점 데이터가 로우 레벨로 된 데이터 세트만 적용 가능함\n",
        "- 이외의 세트는 로딩에서 제외되는 특징을 가짐\n",
        "- 단, 데이터 세트의 칼럼 순서가 사용자 아이디, 아이템 아이디, 평점 순으로 반드시 되어 있어야 함"
      ],
      "metadata": {
        "id": "hfPHA61-b3JE"
      }
    },
    {
      "cell_type": "markdown",
      "source": [
        "**OS 파일 데이터를 Surprise 데이터 세트로 로딩**\n",
        "- surprise에 OS 파일을 로딩할 때 주의할 점: 로딩되는 데이터 파일에 칼럼명을 가지는 헤더 문자열이 있어서는 안됨\n",
        "- 즉, 만일 헤더 칼럼명이 존재하면, 해당 헤더를 삭제한 후 이용해야 함"
      ],
      "metadata": {
        "id": "94Qj7Armb6wi"
      }
    },
    {
      "cell_type": "code",
      "source": [
        "import pandas as pd\n",
        "from google.colab import drive\n",
        "drive.mount('/content/drive')\n",
        "\n",
        "ratings = pd.read_csv('/content/drive/MyDrive/Colab Notebooks/ml-latest-small/ratings.csv')\n",
        "# ratings_noh.csv 파일로 언로드시 인덱스와 헤더를 모두 제거한 새로운 파일 생성.\n",
        "ratings.to_csv('/content/drive/MyDrive/Colab Notebooks/ml-latest-small/ratings_noh.csv',\n",
        "               index=False, header=False)"
      ],
      "metadata": {
        "id": "tknvTTjdcAwo",
        "colab": {
          "base_uri": "https://localhost:8080/"
        },
        "outputId": "34b1626d-2941-45c5-96ea-42d81552d59b"
      },
      "execution_count": 9,
      "outputs": [
        {
          "output_type": "stream",
          "name": "stdout",
          "text": [
            "Drive already mounted at /content/drive; to attempt to forcibly remount, call drive.mount(\"/content/drive\", force_remount=True).\n"
          ]
        }
      ]
    },
    {
      "cell_type": "code",
      "source": [
        "from surprise import Reader\n",
        "\n",
        "reader = Reader(line_format='user item rating timestamp', sep=',', rating_scale=(0.5,5))\n",
        "data=Dataset.load_from_file('/content/drive/MyDrive/Colab Notebooks/ml-latest-small/ratings_noh.csv', reader=reader)"
      ],
      "metadata": {
        "id": "z2UXzlwPcAze"
      },
      "execution_count": 10,
      "outputs": []
    },
    {
      "cell_type": "code",
      "source": [
        "# SVD 행렬 분해 기법을 이용하여 추천을 예측\n",
        "trainset, testset = train_test_split(data, test_size=.25, random_state=0)\n",
        "\n",
        "# 수행 시마다 동일한 결과를 도출하기 위해 random_state 설정\n",
        "algo = SVD(n_factors=50, random_state=0)\n",
        "\n",
        "# 학습 데이터 세트로 학습하고 나서 테스트 데이터 세트로 평점 예측 후 RMSE 평가\n",
        "algo.fit(trainset)\n",
        "predictions = algo.test(testset)\n",
        "accuracy.rmse(predictions)"
      ],
      "metadata": {
        "id": "Mw7aFu0PcA2V",
        "colab": {
          "base_uri": "https://localhost:8080/"
        },
        "outputId": "0a9b53a4-996c-4476-842e-a6c2291b8b77"
      },
      "execution_count": 11,
      "outputs": [
        {
          "output_type": "stream",
          "name": "stdout",
          "text": [
            "RMSE: 0.8682\n"
          ]
        },
        {
          "output_type": "execute_result",
          "data": {
            "text/plain": [
              "0.8681952927143516"
            ]
          },
          "metadata": {},
          "execution_count": 11
        }
      ]
    },
    {
      "cell_type": "markdown",
      "source": [
        "**판다스 DataFrame에서 Surprise 데이터 세트로 로딩**\n",
        "- DataFrame 역시 사용자 아이디, 아이템 아이디, 평점 칼럼 순서를 지켜야 함"
      ],
      "metadata": {
        "id": "k4yjCCpYcBOU"
      }
    },
    {
      "cell_type": "code",
      "source": [
        "import pandas as pd\n",
        "from surprise import Reader, Dataset\n",
        "\n",
        "ratings = pd.read_csv('/content/drive/MyDrive/Colab Notebooks/ml-latest-small/ratings.csv')\n",
        "reader = Reader(rating_scale=(0.5, 5.0))\n",
        "\n",
        "# ratings DataFrame에서 칼럼은 사용자 아이디, 아이템 아이디, 평점 순서를 지켜야 합니다.\n",
        "data = Dataset.load_from_df(ratings[['userId', 'movieId', 'rating']], reader)\n",
        "trainset, testset = train_test_split(data, test_size=.25, random_state=0)\n",
        "\n",
        "algo = SVD(n_factors=50, random_state=0)\n",
        "algo.fit(trainset)\n",
        "predictions = algo.test(testset)\n",
        "accuracy.rmse(predictions)"
      ],
      "metadata": {
        "id": "qU8v8z4lcK89",
        "colab": {
          "base_uri": "https://localhost:8080/"
        },
        "outputId": "6c97d567-2f11-4266-ea6c-c61e4869a516"
      },
      "execution_count": 12,
      "outputs": [
        {
          "output_type": "stream",
          "name": "stdout",
          "text": [
            "RMSE: 0.8682\n"
          ]
        },
        {
          "output_type": "execute_result",
          "data": {
            "text/plain": [
              "0.8681952927143516"
            ]
          },
          "metadata": {},
          "execution_count": 12
        }
      ]
    },
    {
      "cell_type": "markdown",
      "source": [
        "###Surprise 추천 알고리즘 클래스\n",
        "- SVD: 행렬 분해를 통한 잠재 요인 협업 필터링을 위한 SVD 알고리즘\n",
        "  - SVD 입력 파라미터\n",
        "    - n_factors: 잠재 요인 K의 개수, 디폴트 100\n",
        "    - n_epochs: SGD 수행 시 반복 횟수, 디폴트 20\n",
        "    - biased: 베이스라인 사용자 편향 적용 여부, 디폴트 True\n",
        "- KNNBasic: 최근접 이웃 협업 필터링을 위한 KNN 알고리즘\n",
        "- BaselineOnly: 사용자 Bias와 아이템 Bias를 감안한 SGD 베이스라인 알고리즘.\n",
        "- SVD++알고리즘의 RMSE, MAE 성적이 가장 좋으나, 상대적으로 시간이 너무 오래걸리기 때문에 조금만 큰 데이터를 돌리면 사용하기 어려워짐\n",
        "- 큰 데이터인 경우 상대적으로 SVD와 k-NN이 좋을 듯"
      ],
      "metadata": {
        "id": "AkLwdYPjcLHF"
      }
    },
    {
      "cell_type": "markdown",
      "source": [
        "###베이스라인 평점\n",
        "- 개인의 성향을 반영하여 아이템 평가에 편향성 요소를 반영하여 평점을 부과하는 것을 베이스라인 평점이라고 함\n",
        "- 일반적으로 베이스라인 평점은 전체 평균 평점 + 사용자 편향 점수 + 아이템 편향 점수 공식으로 계산됨\n",
        "  - 전체 평균 평점: 모든 사용자의 아이템에 대한 평점을 평균한 값\n",
        "  - 사용자 편향 점수: 사용자별 아이템 평점 평균 값 - 전체 평균 평점\n",
        "  - 아이템 편향 점수: 아이템별 평점 평균 값 - 전체 평균 평점"
      ],
      "metadata": {
        "id": "CnSI9yP4cmJO"
      }
    },
    {
      "cell_type": "markdown",
      "source": [
        "###교차 검증과 하이퍼 파라미터 튜닝\n",
        "- Surprise는 교차검증, 하이퍼 파라미터 튜닝을 위하여 사이킷런과 유사한 cross_validate()와 GridSearchCV를 제공함"
      ],
      "metadata": {
        "id": "1FAu34t8copZ"
      }
    },
    {
      "cell_type": "code",
      "source": [
        "from surprise.model_selection import cross_validate\n",
        "\n",
        "# 판다스 DataFrame에서 Surprise 데이터 세트로 데이터 로딩\n",
        "ratings = pd.read_csv('/content/drive/MyDrive/Colab Notebooks/ml-latest-small/ratings.csv') # reading data in pandas df\n",
        "reader = Reader(rating_scale=(0.5, 5.0))\n",
        "data = Dataset.load_from_df(ratings[['userId', 'movieId','rating']], reader)\n",
        "\n",
        "algo = SVD(random_state=0)\n",
        "cross_validate(algo, data, measures=['RMSE', 'MAE'], cv=5, verbose=True)"
      ],
      "metadata": {
        "id": "gFuzUkE1csq9",
        "colab": {
          "base_uri": "https://localhost:8080/"
        },
        "outputId": "488c39eb-a771-415e-e7d8-9159b0c126bb"
      },
      "execution_count": 13,
      "outputs": [
        {
          "output_type": "stream",
          "name": "stdout",
          "text": [
            "Evaluating RMSE, MAE of algorithm SVD on 5 split(s).\n",
            "\n",
            "                  Fold 1  Fold 2  Fold 3  Fold 4  Fold 5  Mean    Std     \n",
            "RMSE (testset)    0.8910  0.8666  0.8691  0.8771  0.8650  0.8737  0.0096  \n",
            "MAE (testset)     0.6837  0.6645  0.6661  0.6734  0.6641  0.6704  0.0075  \n",
            "Fit time          1.15    1.48    2.57    1.05    1.05    1.46    0.58    \n",
            "Test time         0.07    0.37    0.07    0.16    0.07    0.15    0.11    \n"
          ]
        },
        {
          "output_type": "execute_result",
          "data": {
            "text/plain": [
              "{'test_rmse': array([0.89097762, 0.86655054, 0.86905511, 0.87705056, 0.86499428]),\n",
              " 'test_mae': array([0.68372358, 0.66454292, 0.66613767, 0.67343353, 0.66407712]),\n",
              " 'fit_time': (1.1485984325408936,\n",
              "  1.479276418685913,\n",
              "  2.5683255195617676,\n",
              "  1.0514452457427979,\n",
              "  1.0460536479949951),\n",
              " 'test_time': (0.07263541221618652,\n",
              "  0.36634182929992676,\n",
              "  0.07379937171936035,\n",
              "  0.1631760597229004,\n",
              "  0.07481026649475098)}"
            ]
          },
          "metadata": {},
          "execution_count": 13
        }
      ]
    },
    {
      "cell_type": "code",
      "source": [
        "from surprise.model_selection import GridSearchCV\n",
        "\n",
        "# 최적화할 파라미터를 딕셔너리 형태로 지정.\n",
        "param_grid = {'n_epochs': [20, 40, 60], 'n_factors': [50, 100, 200]}\n",
        "\n",
        "# CV를 3개 폴드 세트로 지정, 성능 평가는 rmse, mse로 수행하도로 GridSearchCV 구성\n",
        "gs = GridSearchCV(SVD, param_grid, measures=['rmse', 'mae'], cv=3)\n",
        "gs.fit(data)\n",
        "\n",
        "# 최고 RMSE Evaluation 점수와 그때의 하이퍼 파라미터\n",
        "print(gs.best_score['rmse'])\n",
        "print(gs.best_params['rmse'])"
      ],
      "metadata": {
        "id": "ZO-nDgBAcsth",
        "colab": {
          "base_uri": "https://localhost:8080/"
        },
        "outputId": "6a4c2769-c2ba-42c4-ddde-a7347b01aad1"
      },
      "execution_count": 15,
      "outputs": [
        {
          "output_type": "stream",
          "name": "stdout",
          "text": [
            "0.8784273366544175\n",
            "{'n_epochs': 20, 'n_factors': 50}\n"
          ]
        }
      ]
    },
    {
      "cell_type": "markdown",
      "source": [
        "###Surprise를 이용한 개인화 영화 추천 시스템 구축\n",
        "- Surprise 패키지는 간결하나 기능이 부족함\n",
        "  - 이번에는 이 패키지를 이용해 같은 데이터를 학습 데이터와 테스트 데이터로 분리하지 않고 전체를 학습데이터로 사용하고자 함"
      ],
      "metadata": {
        "id": "kF70TghbecBo"
      }
    },
    {
      "cell_type": "code",
      "source": [
        "# 다음 코드는 train_test_split()으로 분리되지 않는 데이터 세트에 fit()을 호출해 오류가 발생합니다.\n",
        "data= Dataset.load_from_df(ratings[['userId', 'movieId', 'rating']], reader)\n",
        "algo = SVD(n_factors=50, random_state=0)\n",
        "algo.fit(data)"
      ],
      "metadata": {
        "id": "kw2EHRdWeilI",
        "colab": {
          "base_uri": "https://localhost:8080/",
          "height": 370
        },
        "outputId": "3a166133-b110-4dd9-9551-9a4d29cc5eac"
      },
      "execution_count": 17,
      "outputs": [
        {
          "output_type": "error",
          "ename": "AttributeError",
          "evalue": "'DatasetAutoFolds' object has no attribute 'n_users'",
          "traceback": [
            "\u001b[0;31m---------------------------------------------------------------------------\u001b[0m",
            "\u001b[0;31mAttributeError\u001b[0m                            Traceback (most recent call last)",
            "\u001b[0;32m/tmp/ipython-input-2724183006.py\u001b[0m in \u001b[0;36m<cell line: 0>\u001b[0;34m()\u001b[0m\n\u001b[1;32m      2\u001b[0m \u001b[0mdata\u001b[0m\u001b[0;34m=\u001b[0m \u001b[0mDataset\u001b[0m\u001b[0;34m.\u001b[0m\u001b[0mload_from_df\u001b[0m\u001b[0;34m(\u001b[0m\u001b[0mratings\u001b[0m\u001b[0;34m[\u001b[0m\u001b[0;34m[\u001b[0m\u001b[0;34m'userId'\u001b[0m\u001b[0;34m,\u001b[0m \u001b[0;34m'movieId'\u001b[0m\u001b[0;34m,\u001b[0m \u001b[0;34m'rating'\u001b[0m\u001b[0;34m]\u001b[0m\u001b[0;34m]\u001b[0m\u001b[0;34m,\u001b[0m \u001b[0mreader\u001b[0m\u001b[0;34m)\u001b[0m\u001b[0;34m\u001b[0m\u001b[0;34m\u001b[0m\u001b[0m\n\u001b[1;32m      3\u001b[0m \u001b[0malgo\u001b[0m \u001b[0;34m=\u001b[0m \u001b[0mSVD\u001b[0m\u001b[0;34m(\u001b[0m\u001b[0mn_factors\u001b[0m\u001b[0;34m=\u001b[0m\u001b[0;36m50\u001b[0m\u001b[0;34m,\u001b[0m \u001b[0mrandom_state\u001b[0m\u001b[0;34m=\u001b[0m\u001b[0;36m0\u001b[0m\u001b[0;34m)\u001b[0m\u001b[0;34m\u001b[0m\u001b[0;34m\u001b[0m\u001b[0m\n\u001b[0;32m----> 4\u001b[0;31m \u001b[0malgo\u001b[0m\u001b[0;34m.\u001b[0m\u001b[0mfit\u001b[0m\u001b[0;34m(\u001b[0m\u001b[0mdata\u001b[0m\u001b[0;34m)\u001b[0m\u001b[0;34m\u001b[0m\u001b[0;34m\u001b[0m\u001b[0m\n\u001b[0m",
            "\u001b[0;32m/usr/local/lib/python3.12/dist-packages/surprise/prediction_algorithms/matrix_factorization.pyx\u001b[0m in \u001b[0;36msurprise.prediction_algorithms.matrix_factorization.SVD.fit\u001b[0;34m()\u001b[0m\n",
            "\u001b[0;32m/usr/local/lib/python3.12/dist-packages/surprise/prediction_algorithms/matrix_factorization.pyx\u001b[0m in \u001b[0;36msurprise.prediction_algorithms.matrix_factorization.SVD.sgd\u001b[0;34m()\u001b[0m\n",
            "\u001b[0;31mAttributeError\u001b[0m: 'DatasetAutoFolds' object has no attribute 'n_users'"
          ]
        }
      ]
    },
    {
      "cell_type": "code",
      "source": [
        "# 이렇게 전 데이터 세트를 학습 데이터로 사용하기 위해선 DatasetAutoFolds 클래스를 이용.\n",
        "from surprise.dataset import DatasetAutoFolds\n",
        "\n",
        "reader = Reader(line_format='user item rating timestamp', sep=',', rating_scale=(0.5,5))\n",
        "# DatasetAutoFolds 클래스를 ratings_noh.csv 파일 기반으로 생성.\n",
        "data_folds = DatasetAutoFolds(ratings_file='/content/drive/MyDrive/Colab Notebooks/ml-latest-small/ratings_noh.csv', reader=reader)\n",
        "\n",
        "# 전체 데이터를 학습 데이터로 생성함.\n",
        "trainset = data_folds.build_full_trainset()"
      ],
      "metadata": {
        "id": "ufVlqmlaeiow"
      },
      "execution_count": 19,
      "outputs": []
    },
    {
      "cell_type": "code",
      "source": [
        "algo = SVD(n_epochs=20, n_factors=50, random_state=0)\n",
        "algo.fit(trainset)"
      ],
      "metadata": {
        "id": "Z_KIH8dKeirn",
        "colab": {
          "base_uri": "https://localhost:8080/"
        },
        "outputId": "94ff48f3-d4d0-4a79-c06c-d7b8c5dd2a2c"
      },
      "execution_count": 20,
      "outputs": [
        {
          "output_type": "execute_result",
          "data": {
            "text/plain": [
              "<surprise.prediction_algorithms.matrix_factorization.SVD at 0x7e8f0ee227b0>"
            ]
          },
          "metadata": {},
          "execution_count": 20
        }
      ]
    },
    {
      "cell_type": "code",
      "source": [
        "# 영화에 대한 상세 속성 정보 DataFrame로딩\n",
        "movies = pd.read_csv('/content/drive/MyDrive/Colab Notebooks/ml-latest-small/movies.csv')\n",
        "\n",
        "# userId=9의 movieId 데이터를 추출해 movieId=42 데이터가 있는지 확인.\n",
        "movieIds = ratings[ratings['userId']==9]['movieId']\n",
        "\n",
        "if movieIds[movieIds==42].count() ==0:\n",
        "  print('사용자 아이디 9는 영화 아이디 42의 평점 없음')\n",
        "\n",
        "print(movies[movies['movieId']==42])"
      ],
      "metadata": {
        "id": "uzBsXdKHeiuO",
        "colab": {
          "base_uri": "https://localhost:8080/"
        },
        "outputId": "2bc40219-0745-4d98-bdf6-e601d14e57bd"
      },
      "execution_count": 21,
      "outputs": [
        {
          "output_type": "stream",
          "name": "stdout",
          "text": [
            "사용자 아이디 9는 영화 아이디 42의 평점 없음\n",
            "    movieId                   title              genres\n",
            "38       42  Dead Presidents (1995)  Action|Crime|Drama\n"
          ]
        }
      ]
    },
    {
      "cell_type": "code",
      "source": [
        "uid = str(9)\n",
        "iid = str(42)\n",
        "\n",
        "pred = algo.predict(uid, iid, verbose=True)"
      ],
      "metadata": {
        "id": "IVvoT6wBeixF",
        "colab": {
          "base_uri": "https://localhost:8080/"
        },
        "outputId": "b22b72ac-4498-4774-bf4a-531f6afed879"
      },
      "execution_count": 22,
      "outputs": [
        {
          "output_type": "stream",
          "name": "stdout",
          "text": [
            "user: 9          item: 42         r_ui = None   est = 3.13   {'was_impossible': False}\n"
          ]
        }
      ]
    },
    {
      "cell_type": "code",
      "source": [
        "def get_unseen_surprise(ratings, movies, userId):\n",
        "  # 입력값으로 들어온 userId에 해당하는 사용자가 평점을 매긴 모든 영화를 리스트로 생성\n",
        "  seen_movies = ratings[ratings['userId']==userId]['movieId'].tolist()\n",
        "\n",
        "  # 모든 영화의 movieId를 리스트로 생성.\n",
        "  total_movies = movies['movieId'].tolist()\n",
        "\n",
        "  # 모든 영화의 movieId 중 이미 평점을 매긴 영화의 movieId를 제외한 후 리스트로 생성\n",
        "  unseen_movies = [movie for movie in total_movies if movie not in seen_movies]\n",
        "  print('평점 매긴 영화 수:', len(seen_movies), '추천 대상 영화 수:', len(unseen_movies), '전체 영화 수:', len(total_movies))\n",
        "\n",
        "  return unseen_movies\n",
        "\n",
        "unseen_movies = get_unseen_surprise(ratings, movies, 9)"
      ],
      "metadata": {
        "id": "35RjOnYNei0e",
        "colab": {
          "base_uri": "https://localhost:8080/"
        },
        "outputId": "533a99c6-0b50-4701-9383-fa57e407d47f"
      },
      "execution_count": 25,
      "outputs": [
        {
          "output_type": "stream",
          "name": "stdout",
          "text": [
            "평점 매긴 영화 수: 46 추천 대상 영화 수: 9696 전체 영화 수: 9742\n"
          ]
        }
      ]
    },
    {
      "cell_type": "code",
      "source": [
        "def recomm_movie_by_surprise(algo, userId, unseen_movies, top_n=10):\n",
        "\n",
        "  # 알고리즘 객체의 predict() 메서드를 평점이 없는 영화에 반복 수행한 후 결과를 list 객체로 저장\n",
        "  predictions= [algo.predict(str(userId), str(movieId)) for movieId in unseen_movies]\n",
        "\n",
        "  # prediction list 객체는 surprise의 Predictions 객체를 원소로 가지고 있음.\n",
        "  # [Prediction(uid='9', id='1', est=3.69), Prediction(uid='9', iid='2', est=2.98),,,,]\n",
        "\n",
        "  # 이를 est 값으로 정렬하기 위해서 아래의 sortkey_est 함수를 정의함.\n",
        "  # sortkey_est함수는 list 객체의 sort() 함수의 키 값으로 사용되어 정렬 수행.\n",
        "  def sortkey_est(pred):\n",
        "    return pred.est\n",
        "\n",
        "  # sortkey_est() 반환값의 내림 차순으로 정렬 수행하고 top_n개의 최상위 값 추출.\n",
        "  predictions.sort(key=sortkey_est, reverse=True)\n",
        "\n",
        "  top_predictions = predictions[:top_n]\n",
        "\n",
        "  # top_n 으로 추출된 영황의 정보 추출. 영화 아이디, 추천 예상 평점, 제목 추출\n",
        "  top_movie_ids = [int(pred.iid) for pred in top_predictions]\n",
        "  top_movie_rating = [pred.est for pred in top_predictions]\n",
        "  top_movie_titles = movies[movies.movieId.isin(top_movie_ids)]['title']\n",
        "\n",
        "  top_movie_preds = [(id, title, rating) for id, title, rating in zip(top_movie_ids, top_movie_titles, top_movie_rating)]\n",
        "\n",
        "  return top_movie_preds\n",
        "\n",
        "unseen_movies = get_unseen_surprise(ratings, movies, 9)\n",
        "top_movie_preds = recomm_movie_by_surprise(algo, 9, unseen_movies, top_n=10)\n",
        "\n",
        "print('##### Top-10 추천 영화 리스트 #####')\n",
        "for top_movie in top_movie_preds:\n",
        "  print(top_movie[1], \":\", top_movie[2])"
      ],
      "metadata": {
        "id": "Gufvsgg6ei4J",
        "colab": {
          "base_uri": "https://localhost:8080/"
        },
        "outputId": "ff2ae1a5-4874-4d1d-e5d7-38519f0206a4"
      },
      "execution_count": 29,
      "outputs": [
        {
          "output_type": "stream",
          "name": "stdout",
          "text": [
            "평점 매긴 영화 수: 46 추천 대상 영화 수: 9696 전체 영화 수: 9742\n",
            "##### Top-10 추천 영화 리스트 #####\n",
            "Usual Suspects, The (1995) : 4.306302135700814\n",
            "Star Wars: Episode IV - A New Hope (1977) : 4.281663842987387\n",
            "Pulp Fiction (1994) : 4.278152632122759\n",
            "Silence of the Lambs, The (1991) : 4.226073566460876\n",
            "Godfather, The (1972) : 4.1918097904381995\n",
            "Streetcar Named Desire, A (1951) : 4.154746591122657\n",
            "Star Wars: Episode V - The Empire Strikes Back (1980) : 4.122016128534504\n",
            "Star Wars: Episode VI - Return of the Jedi (1983) : 4.108009609093436\n",
            "Goodfellas (1990) : 4.083464936588478\n",
            "Glory (1989) : 4.07887165526957\n"
          ]
        }
      ]
    }
  ]
}